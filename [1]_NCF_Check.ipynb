{
  "nbformat": 4,
  "nbformat_minor": 5,
  "metadata": {
    "kernelspec": {
      "display_name": "Python 3",
      "language": "python",
      "name": "python3"
    },
    "language_info": {
      "codemirror_mode": {
        "name": "ipython",
        "version": 3
      },
      "file_extension": ".py",
      "mimetype": "text/x-python",
      "name": "python",
      "nbconvert_exporter": "python",
      "pygments_lexer": "ipython3",
      "version": "3.8.5"
    },
    "colab": {
      "name": "[1] 데이터 탐색 및 전처리.ipynb",
      "provenance": [],
      "collapsed_sections": [
        "classified-prayer",
        "pleased-cologne",
        "opening-information",
        "charming-helen",
        "touched-spotlight",
        "genuine-malta",
        "textile-bottom",
        "superb-diameter",
        "extensive-portsmouth",
        "bronze-belief"
      ],
      "include_colab_link": true
    },
    "accelerator": "GPU"
  },
  "cells": [
    {
      "cell_type": "markdown",
      "metadata": {
        "id": "view-in-github",
        "colab_type": "text"
      },
      "source": [
        "<a href=\"https://colab.research.google.com/github/sbkim508/ongoing/blob/ML2021/%5B1%5D_NCF_Check.ipynb\" target=\"_parent\"><img src=\"https://colab.research.google.com/assets/colab-badge.svg\" alt=\"Open In Colab\"/></a>"
      ]
    },
    {
      "cell_type": "markdown",
      "metadata": {
        "id": "seven-australian"
      },
      "source": [
        "## 0. 데이터 업로드"
      ],
      "id": "seven-australian"
    },
    {
      "cell_type": "code",
      "metadata": {
        "colab": {
          "base_uri": "https://localhost:8080/"
        },
        "id": "JAS3S3ou7GJI",
        "outputId": "a2700324-d2b2-4ac5-c8e9-98a90fa5e4c6"
      },
      "source": [
        "from google.colab import drive\n",
        "drive.mount('/content/drive')"
      ],
      "id": "JAS3S3ou7GJI",
      "execution_count": null,
      "outputs": [
        {
          "output_type": "stream",
          "text": [
            "Drive already mounted at /content/drive; to attempt to forcibly remount, call drive.mount(\"/content/drive\", force_remount=True).\n"
          ],
          "name": "stdout"
        }
      ]
    },
    {
      "cell_type": "code",
      "metadata": {
        "id": "revised-complaint"
      },
      "source": [
        "import pandas as pd\n",
        "import numpy as np\n",
        "from tqdm import tqdm\n",
        "import os\n",
        "\n",
        "import seaborn as sns\n",
        "import matplotlib.pyplot as plt\n",
        "\n",
        "from sklearn.preprocessing import LabelEncoder\n",
        "from sklearn.model_selection import train_test_split\n",
        "\n",
        "import math\n",
        "from torch import nn, optim\n",
        "import torch\n",
        "import torch.nn.functional as F\n",
        "from torch.autograd import Variable\n",
        "\n",
        "from tqdm import tqdm\n",
        "\n",
        "import warnings\n",
        "warnings.filterwarnings('ignore')"
      ],
      "id": "revised-complaint",
      "execution_count": null,
      "outputs": []
    },
    {
      "cell_type": "code",
      "metadata": {
        "id": "chinese-builder"
      },
      "source": [
        "# 전체유저, User Demographic, User profiling : 50,172 명\n",
        "n_user_info_member = pd.read_csv('./data/n_user_info_member.csv') # , dtype ={'birth_year' : str})\n",
        "\n",
        "# 검색기록  262,372 건 키워드검색\n",
        "n_prod_view_log = pd.read_csv('./data/n_prod_view_log.csv', dtype ={'product_id' : str})\n",
        "\n",
        "# 검색기록 160,552 건\n",
        "n_search_log = pd.read_csv('./data/n_search_log.csv', dtype ={'product_id' : str})\n",
        "n_search_log = n_search_log[n_search_log['product_id'] != '          '] # 빈칸 제거"
      ],
      "id": "chinese-builder",
      "execution_count": null,
      "outputs": []
    },
    {
      "cell_type": "markdown",
      "metadata": {
        "id": "systematic-chase"
      },
      "source": [
        "#### 0.1) member_id만 사용"
      ],
      "id": "systematic-chase"
    },
    {
      "cell_type": "code",
      "metadata": {
        "id": "communist-recall",
        "outputId": "1b771396-1502-4a6e-9679-b6772cd673ed"
      },
      "source": [
        "new_user_info_member = n_user_info_member[n_user_info_member['member_id'].notna()]\n",
        "print(new_user_info_member.shape)\n",
        "new_user_info_member.head() # 7,051건"
      ],
      "id": "communist-recall",
      "execution_count": null,
      "outputs": [
        {
          "output_type": "stream",
          "text": [
            "(7051, 20)\n"
          ],
          "name": "stdout"
        },
        {
          "output_type": "execute_result",
          "data": {
            "text/html": [
              "<div>\n",
              "<style scoped>\n",
              "    .dataframe tbody tr th:only-of-type {\n",
              "        vertical-align: middle;\n",
              "    }\n",
              "\n",
              "    .dataframe tbody tr th {\n",
              "        vertical-align: top;\n",
              "    }\n",
              "\n",
              "    .dataframe thead th {\n",
              "        text-align: right;\n",
              "    }\n",
              "</style>\n",
              "<table border=\"1\" class=\"dataframe\">\n",
              "  <thead>\n",
              "    <tr style=\"text-align: right;\">\n",
              "      <th></th>\n",
              "      <th>member_id</th>\n",
              "      <th>fcm_token</th>\n",
              "      <th>skin_type</th>\n",
              "      <th>gender</th>\n",
              "      <th>birth_year</th>\n",
              "      <th>skin_tone</th>\n",
              "      <th>personal_color</th>\n",
              "      <th>worry_1</th>\n",
              "      <th>worry_2</th>\n",
              "      <th>worry_3</th>\n",
              "      <th>worry_4</th>\n",
              "      <th>worry_5</th>\n",
              "      <th>worry_6</th>\n",
              "      <th>worry_7</th>\n",
              "      <th>worry_8</th>\n",
              "      <th>worry_9</th>\n",
              "      <th>worry_10</th>\n",
              "      <th>worry_11</th>\n",
              "      <th>worry_12</th>\n",
              "      <th>beauty_level</th>\n",
              "    </tr>\n",
              "  </thead>\n",
              "  <tbody>\n",
              "    <tr>\n",
              "      <th>0</th>\n",
              "      <td>MlRwTkpBOHdmd1pHeVFGZDBnSkRvSm5fQ1FaekNGQ2NRVD...</td>\n",
              "      <td>APA91bG7s7Vmq2MRcJ6XdeWNkch1ZBHq_HGVW3OOfQ8h4m...</td>\n",
              "      <td>2</td>\n",
              "      <td>F</td>\n",
              "      <td>2010</td>\n",
              "      <td>2</td>\n",
              "      <td>1</td>\n",
              "      <td>1</td>\n",
              "      <td>0</td>\n",
              "      <td>0</td>\n",
              "      <td>0</td>\n",
              "      <td>0</td>\n",
              "      <td>0.0</td>\n",
              "      <td>0.0</td>\n",
              "      <td>1.0</td>\n",
              "      <td>1.0</td>\n",
              "      <td>0.0</td>\n",
              "      <td>0.0</td>\n",
              "      <td>1.0</td>\n",
              "      <td>NaN</td>\n",
              "    </tr>\n",
              "    <tr>\n",
              "      <th>1</th>\n",
              "      <td>WUZwWnFPcFA4TXJ2aHlxdU43aEYxVDltVEtVeVUwWTZzek...</td>\n",
              "      <td>APA91bEIICGY0ERbn7rpinIZHAV9EQHUkZu-0loJk_O4Yc...</td>\n",
              "      <td>4</td>\n",
              "      <td>F</td>\n",
              "      <td>1980</td>\n",
              "      <td>4</td>\n",
              "      <td>1</td>\n",
              "      <td>0</td>\n",
              "      <td>0</td>\n",
              "      <td>1</td>\n",
              "      <td>1</td>\n",
              "      <td>0</td>\n",
              "      <td>0.0</td>\n",
              "      <td>1.0</td>\n",
              "      <td>1.0</td>\n",
              "      <td>0.0</td>\n",
              "      <td>0.0</td>\n",
              "      <td>0.0</td>\n",
              "      <td>1.0</td>\n",
              "      <td>NaN</td>\n",
              "    </tr>\n",
              "    <tr>\n",
              "      <th>2</th>\n",
              "      <td>X0RUZHM0bHVRdmdTU1N6WFdvdkdQbnFzS3o3OHFLeEQzMk...</td>\n",
              "      <td>APA91bHttKhiQJF3MRc88kBRVJYrvatxifsJ-4Kv9H3kU0...</td>\n",
              "      <td>4</td>\n",
              "      <td>F</td>\n",
              "      <td>2007</td>\n",
              "      <td>4</td>\n",
              "      <td>1</td>\n",
              "      <td>1</td>\n",
              "      <td>0</td>\n",
              "      <td>0</td>\n",
              "      <td>0</td>\n",
              "      <td>1</td>\n",
              "      <td>0.0</td>\n",
              "      <td>0.0</td>\n",
              "      <td>1.0</td>\n",
              "      <td>0.0</td>\n",
              "      <td>1.0</td>\n",
              "      <td>0.0</td>\n",
              "      <td>1.0</td>\n",
              "      <td>NaN</td>\n",
              "    </tr>\n",
              "    <tr>\n",
              "      <th>3</th>\n",
              "      <td>M3NuTWRYWVREeU5zWE5xWVpYOHJkUGpkRUVDa2dpS3A1aE...</td>\n",
              "      <td>coVh6geWV0VXt49xUDKrqe:APA91bF8OqR3URL5mt6Sk7B...</td>\n",
              "      <td>3</td>\n",
              "      <td>F</td>\n",
              "      <td>1999</td>\n",
              "      <td>2</td>\n",
              "      <td>3</td>\n",
              "      <td>1</td>\n",
              "      <td>0</td>\n",
              "      <td>1</td>\n",
              "      <td>0</td>\n",
              "      <td>0</td>\n",
              "      <td>0.0</td>\n",
              "      <td>0.0</td>\n",
              "      <td>0.0</td>\n",
              "      <td>0.0</td>\n",
              "      <td>0.0</td>\n",
              "      <td>0.0</td>\n",
              "      <td>0.0</td>\n",
              "      <td>NaN</td>\n",
              "    </tr>\n",
              "    <tr>\n",
              "      <th>4</th>\n",
              "      <td>Qjlncm5RaUNEb0ZzZmxFMW9CTWVlb0xaazRCRVZqMU4tdE...</td>\n",
              "      <td>APA91bGgi9jc-vd5ofry4s0grJIPNrs9FFysMV83hFPYYn...</td>\n",
              "      <td>2</td>\n",
              "      <td>M</td>\n",
              "      <td>2002</td>\n",
              "      <td>4</td>\n",
              "      <td>2</td>\n",
              "      <td>0</td>\n",
              "      <td>0</td>\n",
              "      <td>1</td>\n",
              "      <td>1</td>\n",
              "      <td>0</td>\n",
              "      <td>0.0</td>\n",
              "      <td>0.0</td>\n",
              "      <td>0.0</td>\n",
              "      <td>1.0</td>\n",
              "      <td>1.0</td>\n",
              "      <td>0.0</td>\n",
              "      <td>1.0</td>\n",
              "      <td>NaN</td>\n",
              "    </tr>\n",
              "  </tbody>\n",
              "</table>\n",
              "</div>"
            ],
            "text/plain": [
              "                                           member_id  \\\n",
              "0  MlRwTkpBOHdmd1pHeVFGZDBnSkRvSm5fQ1FaekNGQ2NRVD...   \n",
              "1  WUZwWnFPcFA4TXJ2aHlxdU43aEYxVDltVEtVeVUwWTZzek...   \n",
              "2  X0RUZHM0bHVRdmdTU1N6WFdvdkdQbnFzS3o3OHFLeEQzMk...   \n",
              "3  M3NuTWRYWVREeU5zWE5xWVpYOHJkUGpkRUVDa2dpS3A1aE...   \n",
              "4  Qjlncm5RaUNEb0ZzZmxFMW9CTWVlb0xaazRCRVZqMU4tdE...   \n",
              "\n",
              "                                           fcm_token skin_type  gender  \\\n",
              "0  APA91bG7s7Vmq2MRcJ6XdeWNkch1ZBHq_HGVW3OOfQ8h4m...         2  F        \n",
              "1  APA91bEIICGY0ERbn7rpinIZHAV9EQHUkZu-0loJk_O4Yc...         4  F        \n",
              "2  APA91bHttKhiQJF3MRc88kBRVJYrvatxifsJ-4Kv9H3kU0...         4  F        \n",
              "3  coVh6geWV0VXt49xUDKrqe:APA91bF8OqR3URL5mt6Sk7B...         3  F        \n",
              "4  APA91bGgi9jc-vd5ofry4s0grJIPNrs9FFysMV83hFPYYn...         2  M        \n",
              "\n",
              "  birth_year skin_tone personal_color  worry_1  worry_2  worry_3  worry_4  \\\n",
              "0       2010         2              1        1        0        0        0   \n",
              "1       1980         4              1        0        0        1        1   \n",
              "2       2007         4              1        1        0        0        0   \n",
              "3       1999         2              3        1        0        1        0   \n",
              "4       2002         4              2        0        0        1        1   \n",
              "\n",
              "   worry_5  worry_6  worry_7  worry_8  worry_9  worry_10  worry_11  worry_12  \\\n",
              "0        0      0.0      0.0      1.0      1.0       0.0       0.0       1.0   \n",
              "1        0      0.0      1.0      1.0      0.0       0.0       0.0       1.0   \n",
              "2        1      0.0      0.0      1.0      0.0       1.0       0.0       1.0   \n",
              "3        0      0.0      0.0      0.0      0.0       0.0       0.0       0.0   \n",
              "4        0      0.0      0.0      0.0      1.0       1.0       0.0       1.0   \n",
              "\n",
              "  beauty_level  \n",
              "0          NaN  \n",
              "1          NaN  \n",
              "2          NaN  \n",
              "3          NaN  \n",
              "4          NaN  "
            ]
          },
          "metadata": {
            "tags": []
          },
          "execution_count": 3
        }
      ]
    },
    {
      "cell_type": "markdown",
      "metadata": {
        "id": "apparent-eligibility"
      },
      "source": [
        "#### 0.2) 각 Column 별 유니크 값 확인"
      ],
      "id": "apparent-eligibility"
    },
    {
      "cell_type": "code",
      "metadata": {
        "scrolled": true,
        "id": "acknowledged-safety",
        "outputId": "5cd202cf-c0f1-44db-b8f9-eb734b642db6"
      },
      "source": [
        "for i in new_user_info_member.columns:\n",
        "    print(\"###### {}의 유니크 값 확인 ######\".format(i))\n",
        "    print(new_user_info_member[i].unique())"
      ],
      "id": "acknowledged-safety",
      "execution_count": null,
      "outputs": [
        {
          "output_type": "stream",
          "text": [
            "###### member_id의 유니크 값 확인 ######\n",
            "['MlRwTkpBOHdmd1pHeVFGZDBnSkRvSm5fQ1FaekNGQ2NRVDdvYlAzUzNVOA=='\n",
            " 'WUZwWnFPcFA4TXJ2aHlxdU43aEYxVDltVEtVeVUwWTZzek10ZVNvLWZQZw=='\n",
            " 'X0RUZHM0bHVRdmdTU1N6WFdvdkdQbnFzS3o3OHFLeEQzMkJHZDltX3RqWQ==' ...\n",
            " 'X2lkNm03WmlIdzlwanhqbGZ2Q0xNQWc0R2J2NzJjWE5BZndQd3E0Ymlabw=='\n",
            " 'Qjc1V3hFQmVxTU55Z1JtemxfeHUtUVdKcmVUNWxMSzRkR3laMW8waW5OVQ=='\n",
            " 'cjA1c1JNc0YxblAtS2NlaEtRNVh2djBmYUg2b3d5VUwtSG14U1F5UzNHNA==']\n",
            "###### fcm_token의 유니크 값 확인 ######\n",
            "['APA91bG7s7Vmq2MRcJ6XdeWNkch1ZBHq_HGVW3OOfQ8h4mf-WgyZbnz70QhHEcw45s6fohl1s_rljSHrm3VTCoPiDulnbW_CzXRG_qfMD9kTF0JkpQznXfwLL9ZGy4UBaa_UXYeKmr8c'\n",
            " 'APA91bEIICGY0ERbn7rpinIZHAV9EQHUkZu-0loJk_O4YclNrqEMYdcE7_EfhmRa_z1_yBSB-KYINyQDdVqaF4mycuQBryYzU7b6eHKPVHAGDSVP8uvcwyHkSwZo9zkmmwNM-x2zyOvG'\n",
            " 'APA91bHttKhiQJF3MRc88kBRVJYrvatxifsJ-4Kv9H3kU0Cwkr60O4gDkRm2nPfYYUGMpPzn8YPmnCioxfAzBUHboojFZDNeA1ngqVaLSFxCGOu4r-KaEp69-d7zffs7Kw3uWwBlpuh0'\n",
            " ...\n",
            " 'APA91bGhRXlwl4YoCMBlNXwUkUXl6fAlIxQ4-87ikk8Yi1MOH8SIvxXKb-JwVVkUKgjPJtZFMArp4fk_X5YnlU9IMH4wgsIRv2ZxYBn-GeDyKgEfeiSELmlWI4jZ1AcYNU-4-z3tEhEY'\n",
            " 'APA91bGOrKNXJtL2dGAOZE9B-_fxDzrMRwKG_LxFXCcbMVNVPBTISpi5ggXgYA8Xok0-ftB8KrDDQhDS01GH3pp8qPieNV1-kNa4DcVLjWPY1EuD7xKb3n3qiW4gnINyCinyGMIJRn76'\n",
            " 'APA91bEYy8aXOfcy9A_WG-ktlPX4-fUQaMAr77NuiYiHUoXjNoHqXgSzZdUXw3xlBSS9yhUpqDPWGiG30YA74wsfHU3vcwEtKb2zVasqYVoxwSPnOuVuZysTcg8H9lpAHdZhdWEA5mZm']\n",
            "###### skin_type의 유니크 값 확인 ######\n",
            "['2' '4' '3' '1' '         ']\n",
            "###### gender의 유니크 값 확인 ######\n",
            "['F     ' 'M     ']\n",
            "###### birth_year의 유니크 값 확인 ######\n",
            "['2010' '1980' '2007' '1999' '2002' '1978' '1984' '1995' '1998' '2006'\n",
            " '1970' '2005' '1992' '1990' '2003' '1972' '1987' '1982' '2001' '1997'\n",
            " '1985' '2000' '2011' '1991' '1979' '2008' '1981' '1986' '1969' '1963'\n",
            " '2012' '2009' '1988' '2004' '1961' '1996' '1976' '1994' '1983' '1954'\n",
            " '1966' '1974' '1973' '1962' '1977' '1989' '1993' '1971' '1960' '1965'\n",
            " '1968' '1975' '1951' '1964' '1967' '2013' '1950' '1959' '1958' '1953'\n",
            " '1956' '1957' '2020' '2014' '1955' '1948' '2015' '1952' '1947' '1930'\n",
            " '1943' '1940' '2019' '1945' '1931' '1944' '2018' '1939' '1949' '1941'\n",
            " '1942' '1946']\n",
            "###### skin_tone의 유니크 값 확인 ######\n",
            "['2' '4' '1' '         ' '3']\n",
            "###### personal_color의 유니크 값 확인 ######\n",
            "['1' '3' '2' '4' '              ']\n",
            "###### worry_1의 유니크 값 확인 ######\n",
            "[1 0]\n",
            "###### worry_2의 유니크 값 확인 ######\n",
            "[0 1]\n",
            "###### worry_3의 유니크 값 확인 ######\n",
            "[0 1]\n",
            "###### worry_4의 유니크 값 확인 ######\n",
            "[0 1]\n",
            "###### worry_5의 유니크 값 확인 ######\n",
            "[0 1]\n",
            "###### worry_6의 유니크 값 확인 ######\n",
            "[0. 1.]\n",
            "###### worry_7의 유니크 값 확인 ######\n",
            "[0. 1.]\n",
            "###### worry_8의 유니크 값 확인 ######\n",
            "[1. 0.]\n",
            "###### worry_9의 유니크 값 확인 ######\n",
            "[1. 0.]\n",
            "###### worry_10의 유니크 값 확인 ######\n",
            "[0. 1.]\n",
            "###### worry_11의 유니크 값 확인 ######\n",
            "[0. 1.]\n",
            "###### worry_12의 유니크 값 확인 ######\n",
            "[1. 0.]\n",
            "###### beauty_level의 유니크 값 확인 ######\n",
            "[nan]\n"
          ],
          "name": "stdout"
        }
      ]
    },
    {
      "cell_type": "code",
      "metadata": {
        "scrolled": true,
        "id": "suburban-accused",
        "outputId": "71821fa8-6dad-42e9-bf70-1bc46c7513fb"
      },
      "source": [
        "check_col = ['skin_type','gender','skin_tone','personal_color']\n",
        "for i in check_col:\n",
        "    print(\"###### {}의 유니크 갯수 확인 ######\".format(i))\n",
        "    print(new_user_info_member[i].value_counts())"
      ],
      "id": "suburban-accused",
      "execution_count": null,
      "outputs": [
        {
          "output_type": "stream",
          "text": [
            "###### skin_type의 유니크 갯수 확인 ######\n",
            "             1881\n",
            "2            1871\n",
            "3            1262\n",
            "1            1138\n",
            "4             899\n",
            "Name: skin_type, dtype: int64\n",
            "###### gender의 유니크 갯수 확인 ######\n",
            "F         5735\n",
            "M         1316\n",
            "Name: gender, dtype: int64\n",
            "###### skin_tone의 유니크 갯수 확인 ######\n",
            "4            2638\n",
            "             1881\n",
            "2            1383\n",
            "1             875\n",
            "3             274\n",
            "Name: skin_tone, dtype: int64\n",
            "###### personal_color의 유니크 갯수 확인 ######\n",
            "1                 2175\n",
            "                  1881\n",
            "3                 1418\n",
            "2                  841\n",
            "4                  736\n",
            "Name: personal_color, dtype: int64\n"
          ],
          "name": "stdout"
        }
      ]
    },
    {
      "cell_type": "markdown",
      "metadata": {
        "id": "stable-district"
      },
      "source": [
        "- .... 그냥 아래에 한번에 처리함 "
      ],
      "id": "stable-district"
    },
    {
      "cell_type": "markdown",
      "metadata": {
        "id": "instructional-archive"
      },
      "source": [
        "## 2. User_info 데이터 전처리"
      ],
      "id": "instructional-archive"
    },
    {
      "cell_type": "code",
      "metadata": {
        "id": "delayed-posting",
        "outputId": "f6d99612-056f-44f2-a4e0-591677bc4f45"
      },
      "source": [
        "def preprocessing(data):\n",
        "    df = data.copy()\n",
        "\n",
        "    # remove the feature\n",
        "    df.drop(['fcm_token', 'beauty_level'], axis = 1, inplace = True)\n",
        "\n",
        "    # skin_type\n",
        "    df['skin_type'].replace('         ', '0', inplace = True)\n",
        "\n",
        "    # gender\n",
        "    df['gender'] = [i.strip() for i in df['gender']]          # strip 적용\n",
        "\n",
        "    gender = {'M' : '0', 'F' : '1'}\n",
        "    df['gender']  = df['gender'].map(lambda x : gender[x])    # 0과 1로 변경\n",
        "\n",
        "    # birth_year\n",
        "    df['birth_year'] = df['birth_year'].astype('int')\n",
        "    cond1 = (df['birth_year'] > 1950)\n",
        "    cond2 = (df['birth_year'] < 2016)\n",
        "    df = df.loc[cond1 & cond2 ,:]\n",
        "    \n",
        "    # skin_tone\n",
        "    df['skin_tone'].replace('         ', '0', inplace = True)\n",
        "\n",
        "    # personal_color\n",
        "    df['personal_color'].replace('              ', '0', inplace = True)\n",
        "    \n",
        "    # int4로 변경\n",
        "    int4_col = [s for s in df.columns if \"worry\" in s] \n",
        "    for i in int4_col:\n",
        "        df = df.astype({i : 'int8'})\n",
        "\n",
        "    return df\n",
        "\n",
        "# 적용\n",
        "user_info_data = preprocessing(new_user_info_member)\n",
        "print(user_info_data.shape)\n",
        "user_info_data.head() # 7,004 건"
      ],
      "id": "delayed-posting",
      "execution_count": null,
      "outputs": [
        {
          "output_type": "stream",
          "text": [
            "(7004, 18)\n"
          ],
          "name": "stdout"
        },
        {
          "output_type": "execute_result",
          "data": {
            "text/html": [
              "<div>\n",
              "<style scoped>\n",
              "    .dataframe tbody tr th:only-of-type {\n",
              "        vertical-align: middle;\n",
              "    }\n",
              "\n",
              "    .dataframe tbody tr th {\n",
              "        vertical-align: top;\n",
              "    }\n",
              "\n",
              "    .dataframe thead th {\n",
              "        text-align: right;\n",
              "    }\n",
              "</style>\n",
              "<table border=\"1\" class=\"dataframe\">\n",
              "  <thead>\n",
              "    <tr style=\"text-align: right;\">\n",
              "      <th></th>\n",
              "      <th>member_id</th>\n",
              "      <th>skin_type</th>\n",
              "      <th>gender</th>\n",
              "      <th>birth_year</th>\n",
              "      <th>skin_tone</th>\n",
              "      <th>personal_color</th>\n",
              "      <th>worry_1</th>\n",
              "      <th>worry_2</th>\n",
              "      <th>worry_3</th>\n",
              "      <th>worry_4</th>\n",
              "      <th>worry_5</th>\n",
              "      <th>worry_6</th>\n",
              "      <th>worry_7</th>\n",
              "      <th>worry_8</th>\n",
              "      <th>worry_9</th>\n",
              "      <th>worry_10</th>\n",
              "      <th>worry_11</th>\n",
              "      <th>worry_12</th>\n",
              "    </tr>\n",
              "  </thead>\n",
              "  <tbody>\n",
              "    <tr>\n",
              "      <th>0</th>\n",
              "      <td>MlRwTkpBOHdmd1pHeVFGZDBnSkRvSm5fQ1FaekNGQ2NRVD...</td>\n",
              "      <td>2</td>\n",
              "      <td>1</td>\n",
              "      <td>2010</td>\n",
              "      <td>2</td>\n",
              "      <td>1</td>\n",
              "      <td>1</td>\n",
              "      <td>0</td>\n",
              "      <td>0</td>\n",
              "      <td>0</td>\n",
              "      <td>0</td>\n",
              "      <td>0</td>\n",
              "      <td>0</td>\n",
              "      <td>1</td>\n",
              "      <td>1</td>\n",
              "      <td>0</td>\n",
              "      <td>0</td>\n",
              "      <td>1</td>\n",
              "    </tr>\n",
              "    <tr>\n",
              "      <th>1</th>\n",
              "      <td>WUZwWnFPcFA4TXJ2aHlxdU43aEYxVDltVEtVeVUwWTZzek...</td>\n",
              "      <td>4</td>\n",
              "      <td>1</td>\n",
              "      <td>1980</td>\n",
              "      <td>4</td>\n",
              "      <td>1</td>\n",
              "      <td>0</td>\n",
              "      <td>0</td>\n",
              "      <td>1</td>\n",
              "      <td>1</td>\n",
              "      <td>0</td>\n",
              "      <td>0</td>\n",
              "      <td>1</td>\n",
              "      <td>1</td>\n",
              "      <td>0</td>\n",
              "      <td>0</td>\n",
              "      <td>0</td>\n",
              "      <td>1</td>\n",
              "    </tr>\n",
              "    <tr>\n",
              "      <th>2</th>\n",
              "      <td>X0RUZHM0bHVRdmdTU1N6WFdvdkdQbnFzS3o3OHFLeEQzMk...</td>\n",
              "      <td>4</td>\n",
              "      <td>1</td>\n",
              "      <td>2007</td>\n",
              "      <td>4</td>\n",
              "      <td>1</td>\n",
              "      <td>1</td>\n",
              "      <td>0</td>\n",
              "      <td>0</td>\n",
              "      <td>0</td>\n",
              "      <td>1</td>\n",
              "      <td>0</td>\n",
              "      <td>0</td>\n",
              "      <td>1</td>\n",
              "      <td>0</td>\n",
              "      <td>1</td>\n",
              "      <td>0</td>\n",
              "      <td>1</td>\n",
              "    </tr>\n",
              "    <tr>\n",
              "      <th>3</th>\n",
              "      <td>M3NuTWRYWVREeU5zWE5xWVpYOHJkUGpkRUVDa2dpS3A1aE...</td>\n",
              "      <td>3</td>\n",
              "      <td>1</td>\n",
              "      <td>1999</td>\n",
              "      <td>2</td>\n",
              "      <td>3</td>\n",
              "      <td>1</td>\n",
              "      <td>0</td>\n",
              "      <td>1</td>\n",
              "      <td>0</td>\n",
              "      <td>0</td>\n",
              "      <td>0</td>\n",
              "      <td>0</td>\n",
              "      <td>0</td>\n",
              "      <td>0</td>\n",
              "      <td>0</td>\n",
              "      <td>0</td>\n",
              "      <td>0</td>\n",
              "    </tr>\n",
              "    <tr>\n",
              "      <th>4</th>\n",
              "      <td>Qjlncm5RaUNEb0ZzZmxFMW9CTWVlb0xaazRCRVZqMU4tdE...</td>\n",
              "      <td>2</td>\n",
              "      <td>0</td>\n",
              "      <td>2002</td>\n",
              "      <td>4</td>\n",
              "      <td>2</td>\n",
              "      <td>0</td>\n",
              "      <td>0</td>\n",
              "      <td>1</td>\n",
              "      <td>1</td>\n",
              "      <td>0</td>\n",
              "      <td>0</td>\n",
              "      <td>0</td>\n",
              "      <td>0</td>\n",
              "      <td>1</td>\n",
              "      <td>1</td>\n",
              "      <td>0</td>\n",
              "      <td>1</td>\n",
              "    </tr>\n",
              "  </tbody>\n",
              "</table>\n",
              "</div>"
            ],
            "text/plain": [
              "                                           member_id skin_type gender  \\\n",
              "0  MlRwTkpBOHdmd1pHeVFGZDBnSkRvSm5fQ1FaekNGQ2NRVD...         2      1   \n",
              "1  WUZwWnFPcFA4TXJ2aHlxdU43aEYxVDltVEtVeVUwWTZzek...         4      1   \n",
              "2  X0RUZHM0bHVRdmdTU1N6WFdvdkdQbnFzS3o3OHFLeEQzMk...         4      1   \n",
              "3  M3NuTWRYWVREeU5zWE5xWVpYOHJkUGpkRUVDa2dpS3A1aE...         3      1   \n",
              "4  Qjlncm5RaUNEb0ZzZmxFMW9CTWVlb0xaazRCRVZqMU4tdE...         2      0   \n",
              "\n",
              "   birth_year skin_tone personal_color  worry_1  worry_2  worry_3  worry_4  \\\n",
              "0        2010         2              1        1        0        0        0   \n",
              "1        1980         4              1        0        0        1        1   \n",
              "2        2007         4              1        1        0        0        0   \n",
              "3        1999         2              3        1        0        1        0   \n",
              "4        2002         4              2        0        0        1        1   \n",
              "\n",
              "   worry_5  worry_6  worry_7  worry_8  worry_9  worry_10  worry_11  worry_12  \n",
              "0        0        0        0        1        1         0         0         1  \n",
              "1        0        0        1        1        0         0         0         1  \n",
              "2        1        0        0        1        0         1         0         1  \n",
              "3        0        0        0        0        0         0         0         0  \n",
              "4        0        0        0        0        1         1         0         1  "
            ]
          },
          "metadata": {
            "tags": []
          },
          "execution_count": 6
        }
      ]
    },
    {
      "cell_type": "markdown",
      "metadata": {
        "id": "standing-bedroom"
      },
      "source": [
        "## 3. 데이터 탐색"
      ],
      "id": "standing-bedroom"
    },
    {
      "cell_type": "markdown",
      "metadata": {
        "id": "furnished-notification"
      },
      "source": [
        "#### 3.1) 고유 User와 검색 기록 수 확인"
      ],
      "id": "furnished-notification"
    },
    {
      "cell_type": "code",
      "metadata": {
        "id": "everyday-international",
        "outputId": "9f96da5d-ffdd-4c2d-a531-8873b7cc0938"
      },
      "source": [
        "print('전체 member_id 유저 수 : ', user_info_data.shape)\n",
        "\n",
        "prod_view_log = n_prod_view_log[n_prod_view_log['member_id'].isin(user_info_data['member_id'])].drop(['view_log_id','fcm_token'], axis = 1)\n",
        "search_log = n_search_log[n_search_log['member_id'].isin(user_info_data['member_id'])].drop(['search_log_id','fcm_token'], axis = 1)\n",
        "print('member_id 유저가 검색한 로그 수 : ',prod_view_log.shape, search_log.shape)\n",
        "\n",
        "len_prob_log = user_info_data[user_info_data['member_id'].isin(n_prod_view_log['member_id'])]\n",
        "len_search_log = user_info_data[user_info_data['member_id'].isin(n_search_log['member_id'])]\n",
        "print('검색한 로그의 member_id 유저 수 : ',len_prob_log.shape, len_search_log.shape)"
      ],
      "id": "everyday-international",
      "execution_count": null,
      "outputs": [
        {
          "output_type": "stream",
          "text": [
            "전체 member_id 유저 수 :  (7004, 18)\n",
            "member_id 유저가 검색한 로그 수 :  (34711, 2) (8836, 2)\n",
            "검색한 로그의 member_id 유저 수 :  (3949, 18) (1826, 18)\n"
          ],
          "name": "stdout"
        }
      ]
    },
    {
      "cell_type": "markdown",
      "metadata": {
        "id": "perfect-halloween"
      },
      "source": [
        "- 즉, 7,004명 중 3,949명의 유저가 34,711 건을 검색했다고 보면 됨. -> Prod_view\n",
        "- 즉, 7,004명 중 1,826명의 유저가 8,836 건을 검색했다고 보면 됨.  -> search_view"
      ],
      "id": "perfect-halloween"
    },
    {
      "cell_type": "code",
      "metadata": {
        "scrolled": false,
        "id": "desirable-terminology",
        "outputId": "52834101-321b-4f8b-af9a-1f012dbcff1b"
      },
      "source": [
        "prod_view_counts = prod_view_log.groupby('member_id').count().sort_values('product_id', ascending= False)\n",
        "prod_view_counts.head()"
      ],
      "id": "desirable-terminology",
      "execution_count": null,
      "outputs": [
        {
          "output_type": "execute_result",
          "data": {
            "text/html": [
              "<div>\n",
              "<style scoped>\n",
              "    .dataframe tbody tr th:only-of-type {\n",
              "        vertical-align: middle;\n",
              "    }\n",
              "\n",
              "    .dataframe tbody tr th {\n",
              "        vertical-align: top;\n",
              "    }\n",
              "\n",
              "    .dataframe thead th {\n",
              "        text-align: right;\n",
              "    }\n",
              "</style>\n",
              "<table border=\"1\" class=\"dataframe\">\n",
              "  <thead>\n",
              "    <tr style=\"text-align: right;\">\n",
              "      <th></th>\n",
              "      <th>product_id</th>\n",
              "    </tr>\n",
              "    <tr>\n",
              "      <th>member_id</th>\n",
              "      <th></th>\n",
              "    </tr>\n",
              "  </thead>\n",
              "  <tbody>\n",
              "    <tr>\n",
              "      <th>Z0RMejhsX1o0TkMtZnNjRjMweDgyRl9lMURycWRteTUtYlJaZ3hDWUNrdw==</th>\n",
              "      <td>1850</td>\n",
              "    </tr>\n",
              "    <tr>\n",
              "      <th>MklvTlpjQUF1Q2d3bHpVamx1M0RIV1VWME40OUhmZ25OTWU5UjZDWDVpMA==</th>\n",
              "      <td>818</td>\n",
              "    </tr>\n",
              "    <tr>\n",
              "      <th>bXhyVGJfTVQtSEhBeTFaWmJOaVU0SnEydWFCVm9TNU0yZDVNbnQ2V2NaNA==</th>\n",
              "      <td>610</td>\n",
              "    </tr>\n",
              "    <tr>\n",
              "      <th>UVllbDVITWh3T1dyZVlERjlUU01qSnAtejlXVVFuSWtKR21UeEFtMXNmUQ==</th>\n",
              "      <td>517</td>\n",
              "    </tr>\n",
              "    <tr>\n",
              "      <th>TDJMbHRhalV1dnlpclpGem1fX3h3aDdWNXM3VDJCN3FfQmZpbGVyVmFPTQ==</th>\n",
              "      <td>465</td>\n",
              "    </tr>\n",
              "  </tbody>\n",
              "</table>\n",
              "</div>"
            ],
            "text/plain": [
              "                                                    product_id\n",
              "member_id                                                     \n",
              "Z0RMejhsX1o0TkMtZnNjRjMweDgyRl9lMURycWRteTUtYlJ...        1850\n",
              "MklvTlpjQUF1Q2d3bHpVamx1M0RIV1VWME40OUhmZ25OTWU...         818\n",
              "bXhyVGJfTVQtSEhBeTFaWmJOaVU0SnEydWFCVm9TNU0yZDV...         610\n",
              "UVllbDVITWh3T1dyZVlERjlUU01qSnAtejlXVVFuSWtKR21...         517\n",
              "TDJMbHRhalV1dnlpclpGem1fX3h3aDdWNXM3VDJCN3FfQmZ...         465"
            ]
          },
          "metadata": {
            "tags": []
          },
          "execution_count": 8
        }
      ]
    },
    {
      "cell_type": "code",
      "metadata": {
        "scrolled": true,
        "id": "residential-modification",
        "outputId": "0528cdc4-084e-4f43-9d15-0edf483e930c"
      },
      "source": [
        "search_view_counts = search_log.groupby('member_id').count().sort_values('product_id', ascending= False)\n",
        "search_view_counts.head()"
      ],
      "id": "residential-modification",
      "execution_count": null,
      "outputs": [
        {
          "output_type": "execute_result",
          "data": {
            "text/html": [
              "<div>\n",
              "<style scoped>\n",
              "    .dataframe tbody tr th:only-of-type {\n",
              "        vertical-align: middle;\n",
              "    }\n",
              "\n",
              "    .dataframe tbody tr th {\n",
              "        vertical-align: top;\n",
              "    }\n",
              "\n",
              "    .dataframe thead th {\n",
              "        text-align: right;\n",
              "    }\n",
              "</style>\n",
              "<table border=\"1\" class=\"dataframe\">\n",
              "  <thead>\n",
              "    <tr style=\"text-align: right;\">\n",
              "      <th></th>\n",
              "      <th>product_id</th>\n",
              "    </tr>\n",
              "    <tr>\n",
              "      <th>member_id</th>\n",
              "      <th></th>\n",
              "    </tr>\n",
              "  </thead>\n",
              "  <tbody>\n",
              "    <tr>\n",
              "      <th>Z0RMejhsX1o0TkMtZnNjRjMweDgyRl9lMURycWRteTUtYlJaZ3hDWUNrdw==</th>\n",
              "      <td>675</td>\n",
              "    </tr>\n",
              "    <tr>\n",
              "      <th>TDJMbHRhalV1dnlpclpGem1fX3h3aDdWNXM3VDJCN3FfQmZpbGVyVmFPTQ==</th>\n",
              "      <td>259</td>\n",
              "    </tr>\n",
              "    <tr>\n",
              "      <th>eHZkLWhNN0FheVd3UThfV0lnS0ZMd3ROSVhxZDVia0lUZi1lTlVpc3c5UQ==</th>\n",
              "      <td>218</td>\n",
              "    </tr>\n",
              "    <tr>\n",
              "      <th>MklvTlpjQUF1Q2d3bHpVamx1M0RIV1VWME40OUhmZ25OTWU5UjZDWDVpMA==</th>\n",
              "      <td>216</td>\n",
              "    </tr>\n",
              "    <tr>\n",
              "      <th>Mm51c1gtWGRaQzBxcXpMVmRaZGpObC1vMmpueUF0bEFwT1NLSGFUQk5kWQ==</th>\n",
              "      <td>183</td>\n",
              "    </tr>\n",
              "  </tbody>\n",
              "</table>\n",
              "</div>"
            ],
            "text/plain": [
              "                                                    product_id\n",
              "member_id                                                     \n",
              "Z0RMejhsX1o0TkMtZnNjRjMweDgyRl9lMURycWRteTUtYlJ...         675\n",
              "TDJMbHRhalV1dnlpclpGem1fX3h3aDdWNXM3VDJCN3FfQmZ...         259\n",
              "eHZkLWhNN0FheVd3UThfV0lnS0ZMd3ROSVhxZDVia0lUZi1...         218\n",
              "MklvTlpjQUF1Q2d3bHpVamx1M0RIV1VWME40OUhmZ25OTWU...         216\n",
              "Mm51c1gtWGRaQzBxcXpMVmRaZGpObC1vMmpueUF0bEFwT1N...         183"
            ]
          },
          "metadata": {
            "tags": []
          },
          "execution_count": 9
        }
      ]
    },
    {
      "cell_type": "markdown",
      "metadata": {
        "id": "driven-wheat"
      },
      "source": [
        "- 검색 기록을 확인하면 로그 건수가 상당히 적다\n",
        "- 원칙대로라면 3개 미만 검색 기록은 제거해야하나.. 일단 살려두어야 할듯\n",
        "- fcm token을 활용하여 데이터를 추가해야할지 .. 일단 도전"
      ],
      "id": "driven-wheat"
    },
    {
      "cell_type": "code",
      "metadata": {
        "id": "sorted-columbia",
        "outputId": "d281edea-dfe6-4567-96a2-1c1a003abe86"
      },
      "source": [
        "merge_search_log1 = prod_view_log.groupby('product_id').count()\n",
        "merge_search_log1.head()"
      ],
      "id": "sorted-columbia",
      "execution_count": null,
      "outputs": [
        {
          "output_type": "execute_result",
          "data": {
            "text/html": [
              "<div>\n",
              "<style scoped>\n",
              "    .dataframe tbody tr th:only-of-type {\n",
              "        vertical-align: middle;\n",
              "    }\n",
              "\n",
              "    .dataframe tbody tr th {\n",
              "        vertical-align: top;\n",
              "    }\n",
              "\n",
              "    .dataframe thead th {\n",
              "        text-align: right;\n",
              "    }\n",
              "</style>\n",
              "<table border=\"1\" class=\"dataframe\">\n",
              "  <thead>\n",
              "    <tr style=\"text-align: right;\">\n",
              "      <th></th>\n",
              "      <th>member_id</th>\n",
              "    </tr>\n",
              "    <tr>\n",
              "      <th>product_id</th>\n",
              "      <th></th>\n",
              "    </tr>\n",
              "  </thead>\n",
              "  <tbody>\n",
              "    <tr>\n",
              "      <th>1</th>\n",
              "      <td>12</td>\n",
              "    </tr>\n",
              "    <tr>\n",
              "      <th>10</th>\n",
              "      <td>2</td>\n",
              "    </tr>\n",
              "    <tr>\n",
              "      <th>10001</th>\n",
              "      <td>1</td>\n",
              "    </tr>\n",
              "    <tr>\n",
              "      <th>10002</th>\n",
              "      <td>5</td>\n",
              "    </tr>\n",
              "    <tr>\n",
              "      <th>10003</th>\n",
              "      <td>6</td>\n",
              "    </tr>\n",
              "  </tbody>\n",
              "</table>\n",
              "</div>"
            ],
            "text/plain": [
              "            member_id\n",
              "product_id           \n",
              "1                  12\n",
              "10                  2\n",
              "10001               1\n",
              "10002               5\n",
              "10003               6"
            ]
          },
          "metadata": {
            "tags": []
          },
          "execution_count": 10
        }
      ]
    },
    {
      "cell_type": "code",
      "metadata": {
        "scrolled": false,
        "id": "cross-contributor",
        "outputId": "79be82fc-17ee-40aa-fe7b-7e25a5532d23"
      },
      "source": [
        "merge_search_log2 = search_log.groupby('product_id').count()\n",
        "merge_search_log2.head()"
      ],
      "id": "cross-contributor",
      "execution_count": null,
      "outputs": [
        {
          "output_type": "execute_result",
          "data": {
            "text/html": [
              "<div>\n",
              "<style scoped>\n",
              "    .dataframe tbody tr th:only-of-type {\n",
              "        vertical-align: middle;\n",
              "    }\n",
              "\n",
              "    .dataframe tbody tr th {\n",
              "        vertical-align: top;\n",
              "    }\n",
              "\n",
              "    .dataframe thead th {\n",
              "        text-align: right;\n",
              "    }\n",
              "</style>\n",
              "<table border=\"1\" class=\"dataframe\">\n",
              "  <thead>\n",
              "    <tr style=\"text-align: right;\">\n",
              "      <th></th>\n",
              "      <th>member_id</th>\n",
              "    </tr>\n",
              "    <tr>\n",
              "      <th>product_id</th>\n",
              "      <th></th>\n",
              "    </tr>\n",
              "  </thead>\n",
              "  <tbody>\n",
              "    <tr>\n",
              "      <th>1</th>\n",
              "      <td>4</td>\n",
              "    </tr>\n",
              "    <tr>\n",
              "      <th>10</th>\n",
              "      <td>1</td>\n",
              "    </tr>\n",
              "    <tr>\n",
              "      <th>10002</th>\n",
              "      <td>3</td>\n",
              "    </tr>\n",
              "    <tr>\n",
              "      <th>10004</th>\n",
              "      <td>1</td>\n",
              "    </tr>\n",
              "    <tr>\n",
              "      <th>1001</th>\n",
              "      <td>2</td>\n",
              "    </tr>\n",
              "  </tbody>\n",
              "</table>\n",
              "</div>"
            ],
            "text/plain": [
              "            member_id\n",
              "product_id           \n",
              "1                   4\n",
              "10                  1\n",
              "10002               3\n",
              "10004               1\n",
              "1001                2"
            ]
          },
          "metadata": {
            "tags": []
          },
          "execution_count": 11
        }
      ]
    },
    {
      "cell_type": "markdown",
      "metadata": {
        "id": "south-finding"
      },
      "source": [
        "- product_id당 검색된 기록(Sorting X)"
      ],
      "id": "south-finding"
    },
    {
      "cell_type": "markdown",
      "metadata": {
        "id": "classified-prayer"
      },
      "source": [
        "#### 3.2) prob_view와 search_view를 병합"
      ],
      "id": "classified-prayer"
    },
    {
      "cell_type": "code",
      "metadata": {
        "scrolled": true,
        "id": "matched-reading",
        "outputId": "26f7e34c-7190-400c-ac48-7079c8590fd2"
      },
      "source": [
        "merge_search_log = pd.merge(merge_search_log1, merge_search_log2, left_index=True, right_index=True, how='outer')\n",
        "merge_search_log.fillna(0, inplace =True)\n",
        "\n",
        "merge_search_log['Item_click'] = merge_search_log['member_id_x'] + merge_search_log['member_id_y']\n",
        "merge_search_log.drop(['member_id_x','member_id_y'], axis =1 , inplace = True)\n",
        "\n",
        "print(merge_search_log.shape)\n",
        "merge_search_log.head()"
      ],
      "id": "matched-reading",
      "execution_count": null,
      "outputs": [
        {
          "output_type": "stream",
          "text": [
            "(9450, 1)\n"
          ],
          "name": "stdout"
        },
        {
          "output_type": "execute_result",
          "data": {
            "text/html": [
              "<div>\n",
              "<style scoped>\n",
              "    .dataframe tbody tr th:only-of-type {\n",
              "        vertical-align: middle;\n",
              "    }\n",
              "\n",
              "    .dataframe tbody tr th {\n",
              "        vertical-align: top;\n",
              "    }\n",
              "\n",
              "    .dataframe thead th {\n",
              "        text-align: right;\n",
              "    }\n",
              "</style>\n",
              "<table border=\"1\" class=\"dataframe\">\n",
              "  <thead>\n",
              "    <tr style=\"text-align: right;\">\n",
              "      <th></th>\n",
              "      <th>Item_click</th>\n",
              "    </tr>\n",
              "    <tr>\n",
              "      <th>product_id</th>\n",
              "      <th></th>\n",
              "    </tr>\n",
              "  </thead>\n",
              "  <tbody>\n",
              "    <tr>\n",
              "      <th>1</th>\n",
              "      <td>16.0</td>\n",
              "    </tr>\n",
              "    <tr>\n",
              "      <th>10</th>\n",
              "      <td>3.0</td>\n",
              "    </tr>\n",
              "    <tr>\n",
              "      <th>10001</th>\n",
              "      <td>1.0</td>\n",
              "    </tr>\n",
              "    <tr>\n",
              "      <th>10002</th>\n",
              "      <td>8.0</td>\n",
              "    </tr>\n",
              "    <tr>\n",
              "      <th>10003</th>\n",
              "      <td>6.0</td>\n",
              "    </tr>\n",
              "  </tbody>\n",
              "</table>\n",
              "</div>"
            ],
            "text/plain": [
              "            Item_click\n",
              "product_id            \n",
              "1                 16.0\n",
              "10                 3.0\n",
              "10001              1.0\n",
              "10002              8.0\n",
              "10003              6.0"
            ]
          },
          "metadata": {
            "tags": []
          },
          "execution_count": 12
        }
      ]
    },
    {
      "cell_type": "markdown",
      "metadata": {
        "id": "norman-wyoming"
      },
      "source": [
        "- 즉, 7,004명의 유저 중 active한 유저(7,004명보다 낮은 3,946명)들이 9,450개의 item을 검색함 "
      ],
      "id": "norman-wyoming"
    },
    {
      "cell_type": "code",
      "metadata": {
        "id": "later-hazard"
      },
      "source": [
        "# import pandas_profiling\n",
        "# data.profile_report()\n",
        "\n",
        "# 스킨 타입 유형\n",
        "\n",
        "# 성별 유형\n",
        "\n",
        "# 출생연도\n",
        "\n",
        "# 스킨 톤\n",
        "\n",
        "# 개인 컬러?\n",
        "\n",
        "# [유저] 출생연도 분포\n",
        "# sns.distplot(user_info_data['birth_year'])"
      ],
      "id": "later-hazard",
      "execution_count": null,
      "outputs": []
    },
    {
      "cell_type": "markdown",
      "metadata": {
        "id": "regulation-empire"
      },
      "source": [
        "- user_info에 대한 EDA 용.. 향후 확인하여 user-info meta data concat"
      ],
      "id": "regulation-empire"
    },
    {
      "cell_type": "markdown",
      "metadata": {
        "id": "pleased-cologne"
      },
      "source": [
        "## 4. 데이터 전처리"
      ],
      "id": "pleased-cologne"
    },
    {
      "cell_type": "markdown",
      "metadata": {
        "id": "opening-information"
      },
      "source": [
        "#### 4.1) User_df 생성(레이블 인코딩 X)"
      ],
      "id": "opening-information"
    },
    {
      "cell_type": "code",
      "metadata": {
        "id": "intimate-method",
        "outputId": "080e2a5e-adea-46ea-945c-301c2ca25595"
      },
      "source": [
        "# user_info_data의 7,004 ID\n",
        "user_df = pd.DataFrame(user_info_data['member_id'].copy())\n",
        "print(user_df.shape)\n",
        "user_df.head()"
      ],
      "id": "intimate-method",
      "execution_count": null,
      "outputs": [
        {
          "output_type": "stream",
          "text": [
            "(7004, 1)\n"
          ],
          "name": "stdout"
        },
        {
          "output_type": "execute_result",
          "data": {
            "text/html": [
              "<div>\n",
              "<style scoped>\n",
              "    .dataframe tbody tr th:only-of-type {\n",
              "        vertical-align: middle;\n",
              "    }\n",
              "\n",
              "    .dataframe tbody tr th {\n",
              "        vertical-align: top;\n",
              "    }\n",
              "\n",
              "    .dataframe thead th {\n",
              "        text-align: right;\n",
              "    }\n",
              "</style>\n",
              "<table border=\"1\" class=\"dataframe\">\n",
              "  <thead>\n",
              "    <tr style=\"text-align: right;\">\n",
              "      <th></th>\n",
              "      <th>member_id</th>\n",
              "    </tr>\n",
              "  </thead>\n",
              "  <tbody>\n",
              "    <tr>\n",
              "      <th>0</th>\n",
              "      <td>MlRwTkpBOHdmd1pHeVFGZDBnSkRvSm5fQ1FaekNGQ2NRVD...</td>\n",
              "    </tr>\n",
              "    <tr>\n",
              "      <th>1</th>\n",
              "      <td>WUZwWnFPcFA4TXJ2aHlxdU43aEYxVDltVEtVeVUwWTZzek...</td>\n",
              "    </tr>\n",
              "    <tr>\n",
              "      <th>2</th>\n",
              "      <td>X0RUZHM0bHVRdmdTU1N6WFdvdkdQbnFzS3o3OHFLeEQzMk...</td>\n",
              "    </tr>\n",
              "    <tr>\n",
              "      <th>3</th>\n",
              "      <td>M3NuTWRYWVREeU5zWE5xWVpYOHJkUGpkRUVDa2dpS3A1aE...</td>\n",
              "    </tr>\n",
              "    <tr>\n",
              "      <th>4</th>\n",
              "      <td>Qjlncm5RaUNEb0ZzZmxFMW9CTWVlb0xaazRCRVZqMU4tdE...</td>\n",
              "    </tr>\n",
              "  </tbody>\n",
              "</table>\n",
              "</div>"
            ],
            "text/plain": [
              "                                           member_id\n",
              "0  MlRwTkpBOHdmd1pHeVFGZDBnSkRvSm5fQ1FaekNGQ2NRVD...\n",
              "1  WUZwWnFPcFA4TXJ2aHlxdU43aEYxVDltVEtVeVUwWTZzek...\n",
              "2  X0RUZHM0bHVRdmdTU1N6WFdvdkdQbnFzS3o3OHFLeEQzMk...\n",
              "3  M3NuTWRYWVREeU5zWE5xWVpYOHJkUGpkRUVDa2dpS3A1aE...\n",
              "4  Qjlncm5RaUNEb0ZzZmxFMW9CTWVlb0xaazRCRVZqMU4tdE..."
            ]
          },
          "metadata": {
            "tags": []
          },
          "execution_count": 14
        }
      ]
    },
    {
      "cell_type": "markdown",
      "metadata": {
        "id": "charming-helen"
      },
      "source": [
        "#### 4.2) Click을 구하기 위한 과정"
      ],
      "id": "charming-helen"
    },
    {
      "cell_type": "code",
      "metadata": {
        "scrolled": false,
        "id": "genetic-sister",
        "outputId": "862ff6ce-7a32-45f9-f380-7f552c4be548"
      },
      "source": [
        "# prod + search 로그 기록 병합\n",
        "item_view = pd.concat([prod_view_log,search_log], axis = 0).sort_index() # 34711 + 8836 = 43547\n",
        "\n",
        "# 개수 카운트\n",
        "temp_join = pd.DataFrame(item_view.groupby(['member_id', 'product_id']).size()).reset_index()\n",
        "\n",
        "# 병합\n",
        "item_view = pd.merge(item_view,temp_join, on = ['member_id', 'product_id'], how = 'left')\n",
        "item_view.rename(columns = {0 : 'Click'}, inplace = True)\n",
        "\n",
        "# 중복제거\n",
        "item_view.drop_duplicates(inplace = True) # 43,547 -> 26,015\n",
        "print(item_view.shape)\n",
        "item_view.head()"
      ],
      "id": "genetic-sister",
      "execution_count": null,
      "outputs": [
        {
          "output_type": "stream",
          "text": [
            "(26015, 3)\n"
          ],
          "name": "stdout"
        },
        {
          "output_type": "execute_result",
          "data": {
            "text/html": [
              "<div>\n",
              "<style scoped>\n",
              "    .dataframe tbody tr th:only-of-type {\n",
              "        vertical-align: middle;\n",
              "    }\n",
              "\n",
              "    .dataframe tbody tr th {\n",
              "        vertical-align: top;\n",
              "    }\n",
              "\n",
              "    .dataframe thead th {\n",
              "        text-align: right;\n",
              "    }\n",
              "</style>\n",
              "<table border=\"1\" class=\"dataframe\">\n",
              "  <thead>\n",
              "    <tr style=\"text-align: right;\">\n",
              "      <th></th>\n",
              "      <th>member_id</th>\n",
              "      <th>product_id</th>\n",
              "      <th>Click</th>\n",
              "    </tr>\n",
              "  </thead>\n",
              "  <tbody>\n",
              "    <tr>\n",
              "      <th>0</th>\n",
              "      <td>NTRqT3J1RHdkLS1oVlJzMHRtV1lvNUt0aWFsN3U1VVg2YU...</td>\n",
              "      <td>4215</td>\n",
              "      <td>2</td>\n",
              "    </tr>\n",
              "    <tr>\n",
              "      <th>1</th>\n",
              "      <td>dk5aZmJ0SElaTGVxUzhuRnlkZjhFeElaUTJoNy1ZU1h5VU...</td>\n",
              "      <td>3968</td>\n",
              "      <td>2</td>\n",
              "    </tr>\n",
              "    <tr>\n",
              "      <th>2</th>\n",
              "      <td>aGF0cGp5VlozdDdZRnRWbXNjaHpIMWJYQTNUNGNTelNwNm...</td>\n",
              "      <td>3615</td>\n",
              "      <td>1</td>\n",
              "    </tr>\n",
              "    <tr>\n",
              "      <th>4</th>\n",
              "      <td>Z3ZVZ2x2YkJVWjlEeGlCSTJVOFN3M1cwWFhmbTVLVmpvN2...</td>\n",
              "      <td>3755</td>\n",
              "      <td>5</td>\n",
              "    </tr>\n",
              "    <tr>\n",
              "      <th>5</th>\n",
              "      <td>UE1Vbzh1d3hhNXNhTWRMMTc2LTNaUXltREtMUkQ5R0ZXQz...</td>\n",
              "      <td>6544</td>\n",
              "      <td>2</td>\n",
              "    </tr>\n",
              "  </tbody>\n",
              "</table>\n",
              "</div>"
            ],
            "text/plain": [
              "                                           member_id product_id  Click\n",
              "0  NTRqT3J1RHdkLS1oVlJzMHRtV1lvNUt0aWFsN3U1VVg2YU...       4215      2\n",
              "1  dk5aZmJ0SElaTGVxUzhuRnlkZjhFeElaUTJoNy1ZU1h5VU...       3968      2\n",
              "2  aGF0cGp5VlozdDdZRnRWbXNjaHpIMWJYQTNUNGNTelNwNm...       3615      1\n",
              "4  Z3ZVZ2x2YkJVWjlEeGlCSTJVOFN3M1cwWFhmbTVLVmpvN2...       3755      5\n",
              "5  UE1Vbzh1d3hhNXNhTWRMMTc2LTNaUXltREtMUkQ5R0ZXQz...       6544      2"
            ]
          },
          "metadata": {
            "tags": []
          },
          "execution_count": 15
        }
      ]
    },
    {
      "cell_type": "code",
      "metadata": {
        "id": "welcome-northwest",
        "outputId": "e263a452-de07-433f-de4d-33a8481837c5"
      },
      "source": [
        "print(\"고유 유저 수 : \", len(user_df['member_id'].unique()))\n",
        "print(\"Active user : \", len(item_view['member_id'].unique()))\n",
        "print(\"Inactive user : \", len(user_df['member_id'].unique()) - len(item_view['member_id'].unique()))\n",
        "\n",
        "print(\"조회된 item 갯수 : \", len(item_view['product_id'].unique()))"
      ],
      "id": "welcome-northwest",
      "execution_count": null,
      "outputs": [
        {
          "output_type": "stream",
          "text": [
            "고유 유저 수 :  7004\n",
            "Active user :  3956\n",
            "Inactive user :  3048\n",
            "조회된 item 갯수 :  9450\n"
          ],
          "name": "stdout"
        }
      ]
    },
    {
      "cell_type": "markdown",
      "metadata": {
        "id": "manual-potato"
      },
      "source": [
        "- 7,004 명의 유저 중 3,956명의 유저가 Active, 3,048명의 유저가 inactive "
      ],
      "id": "manual-potato"
    },
    {
      "cell_type": "code",
      "metadata": {
        "id": "finnish-words",
        "outputId": "c5ee30e2-0797-4324-b14d-4bca5479c90c"
      },
      "source": [
        "na_data_matrix = pd.merge(user_df, item_view, on = 'member_id', how = 'outer')\n",
        "na_data_matrix"
      ],
      "id": "finnish-words",
      "execution_count": null,
      "outputs": [
        {
          "output_type": "execute_result",
          "data": {
            "text/html": [
              "<div>\n",
              "<style scoped>\n",
              "    .dataframe tbody tr th:only-of-type {\n",
              "        vertical-align: middle;\n",
              "    }\n",
              "\n",
              "    .dataframe tbody tr th {\n",
              "        vertical-align: top;\n",
              "    }\n",
              "\n",
              "    .dataframe thead th {\n",
              "        text-align: right;\n",
              "    }\n",
              "</style>\n",
              "<table border=\"1\" class=\"dataframe\">\n",
              "  <thead>\n",
              "    <tr style=\"text-align: right;\">\n",
              "      <th></th>\n",
              "      <th>member_id</th>\n",
              "      <th>product_id</th>\n",
              "      <th>Click</th>\n",
              "    </tr>\n",
              "  </thead>\n",
              "  <tbody>\n",
              "    <tr>\n",
              "      <th>0</th>\n",
              "      <td>MlRwTkpBOHdmd1pHeVFGZDBnSkRvSm5fQ1FaekNGQ2NRVD...</td>\n",
              "      <td>2816</td>\n",
              "      <td>2.0</td>\n",
              "    </tr>\n",
              "    <tr>\n",
              "      <th>1</th>\n",
              "      <td>MlRwTkpBOHdmd1pHeVFGZDBnSkRvSm5fQ1FaekNGQ2NRVD...</td>\n",
              "      <td>3593</td>\n",
              "      <td>1.0</td>\n",
              "    </tr>\n",
              "    <tr>\n",
              "      <th>2</th>\n",
              "      <td>MlRwTkpBOHdmd1pHeVFGZDBnSkRvSm5fQ1FaekNGQ2NRVD...</td>\n",
              "      <td>5958</td>\n",
              "      <td>1.0</td>\n",
              "    </tr>\n",
              "    <tr>\n",
              "      <th>3</th>\n",
              "      <td>MlRwTkpBOHdmd1pHeVFGZDBnSkRvSm5fQ1FaekNGQ2NRVD...</td>\n",
              "      <td>37334</td>\n",
              "      <td>1.0</td>\n",
              "    </tr>\n",
              "    <tr>\n",
              "      <th>4</th>\n",
              "      <td>MlRwTkpBOHdmd1pHeVFGZDBnSkRvSm5fQ1FaekNGQ2NRVD...</td>\n",
              "      <td>8748</td>\n",
              "      <td>1.0</td>\n",
              "    </tr>\n",
              "    <tr>\n",
              "      <th>...</th>\n",
              "      <td>...</td>\n",
              "      <td>...</td>\n",
              "      <td>...</td>\n",
              "    </tr>\n",
              "    <tr>\n",
              "      <th>29058</th>\n",
              "      <td>cjA1c1JNc0YxblAtS2NlaEtRNVh2djBmYUg2b3d5VUwtSG...</td>\n",
              "      <td>10416</td>\n",
              "      <td>10.0</td>\n",
              "    </tr>\n",
              "    <tr>\n",
              "      <th>29059</th>\n",
              "      <td>cjA1c1JNc0YxblAtS2NlaEtRNVh2djBmYUg2b3d5VUwtSG...</td>\n",
              "      <td>16845</td>\n",
              "      <td>15.0</td>\n",
              "    </tr>\n",
              "    <tr>\n",
              "      <th>29060</th>\n",
              "      <td>cjA1c1JNc0YxblAtS2NlaEtRNVh2djBmYUg2b3d5VUwtSG...</td>\n",
              "      <td>6614</td>\n",
              "      <td>1.0</td>\n",
              "    </tr>\n",
              "    <tr>\n",
              "      <th>29061</th>\n",
              "      <td>cjA1c1JNc0YxblAtS2NlaEtRNVh2djBmYUg2b3d5VUwtSG...</td>\n",
              "      <td>13181</td>\n",
              "      <td>1.0</td>\n",
              "    </tr>\n",
              "    <tr>\n",
              "      <th>29062</th>\n",
              "      <td>cjA1c1JNc0YxblAtS2NlaEtRNVh2djBmYUg2b3d5VUwtSG...</td>\n",
              "      <td>791</td>\n",
              "      <td>1.0</td>\n",
              "    </tr>\n",
              "  </tbody>\n",
              "</table>\n",
              "<p>29063 rows × 3 columns</p>\n",
              "</div>"
            ],
            "text/plain": [
              "                                               member_id product_id  Click\n",
              "0      MlRwTkpBOHdmd1pHeVFGZDBnSkRvSm5fQ1FaekNGQ2NRVD...       2816    2.0\n",
              "1      MlRwTkpBOHdmd1pHeVFGZDBnSkRvSm5fQ1FaekNGQ2NRVD...       3593    1.0\n",
              "2      MlRwTkpBOHdmd1pHeVFGZDBnSkRvSm5fQ1FaekNGQ2NRVD...       5958    1.0\n",
              "3      MlRwTkpBOHdmd1pHeVFGZDBnSkRvSm5fQ1FaekNGQ2NRVD...      37334    1.0\n",
              "4      MlRwTkpBOHdmd1pHeVFGZDBnSkRvSm5fQ1FaekNGQ2NRVD...       8748    1.0\n",
              "...                                                  ...        ...    ...\n",
              "29058  cjA1c1JNc0YxblAtS2NlaEtRNVh2djBmYUg2b3d5VUwtSG...      10416   10.0\n",
              "29059  cjA1c1JNc0YxblAtS2NlaEtRNVh2djBmYUg2b3d5VUwtSG...      16845   15.0\n",
              "29060  cjA1c1JNc0YxblAtS2NlaEtRNVh2djBmYUg2b3d5VUwtSG...       6614    1.0\n",
              "29061  cjA1c1JNc0YxblAtS2NlaEtRNVh2djBmYUg2b3d5VUwtSG...      13181    1.0\n",
              "29062  cjA1c1JNc0YxblAtS2NlaEtRNVh2djBmYUg2b3d5VUwtSG...        791    1.0\n",
              "\n",
              "[29063 rows x 3 columns]"
            ]
          },
          "metadata": {
            "tags": []
          },
          "execution_count": 17
        }
      ]
    },
    {
      "cell_type": "markdown",
      "metadata": {
        "id": "solar-campus"
      },
      "source": [
        "- 따라서 3,048명을 지운 3,956명의 유저와 9,450개의 아이템을 가지고 추천시스템 학습"
      ],
      "id": "solar-campus"
    },
    {
      "cell_type": "markdown",
      "metadata": {
        "id": "touched-spotlight"
      },
      "source": [
        "#### 4.3) user_item_matrix 생성"
      ],
      "id": "touched-spotlight"
    },
    {
      "cell_type": "code",
      "metadata": {
        "id": "criminal-niger",
        "outputId": "98d70c08-d6a9-4591-af31-6e7ca6418478"
      },
      "source": [
        "user_item_clikc = na_data_matrix.dropna().reset_index(drop = True)\n",
        "user_item_clikc['Click'] = user_item_clikc['Click'].astype('float32') # float64 -> 32로 변환하여 메모리절감\n",
        "user_item_clikc['product_id'] = user_item_clikc['product_id'].astype('int64')\n",
        "user_item_clikc # 3,956의 유저"
      ],
      "id": "criminal-niger",
      "execution_count": null,
      "outputs": [
        {
          "output_type": "execute_result",
          "data": {
            "text/html": [
              "<div>\n",
              "<style scoped>\n",
              "    .dataframe tbody tr th:only-of-type {\n",
              "        vertical-align: middle;\n",
              "    }\n",
              "\n",
              "    .dataframe tbody tr th {\n",
              "        vertical-align: top;\n",
              "    }\n",
              "\n",
              "    .dataframe thead th {\n",
              "        text-align: right;\n",
              "    }\n",
              "</style>\n",
              "<table border=\"1\" class=\"dataframe\">\n",
              "  <thead>\n",
              "    <tr style=\"text-align: right;\">\n",
              "      <th></th>\n",
              "      <th>member_id</th>\n",
              "      <th>product_id</th>\n",
              "      <th>Click</th>\n",
              "    </tr>\n",
              "  </thead>\n",
              "  <tbody>\n",
              "    <tr>\n",
              "      <th>0</th>\n",
              "      <td>MlRwTkpBOHdmd1pHeVFGZDBnSkRvSm5fQ1FaekNGQ2NRVD...</td>\n",
              "      <td>2816</td>\n",
              "      <td>2.0</td>\n",
              "    </tr>\n",
              "    <tr>\n",
              "      <th>1</th>\n",
              "      <td>MlRwTkpBOHdmd1pHeVFGZDBnSkRvSm5fQ1FaekNGQ2NRVD...</td>\n",
              "      <td>3593</td>\n",
              "      <td>1.0</td>\n",
              "    </tr>\n",
              "    <tr>\n",
              "      <th>2</th>\n",
              "      <td>MlRwTkpBOHdmd1pHeVFGZDBnSkRvSm5fQ1FaekNGQ2NRVD...</td>\n",
              "      <td>5958</td>\n",
              "      <td>1.0</td>\n",
              "    </tr>\n",
              "    <tr>\n",
              "      <th>3</th>\n",
              "      <td>MlRwTkpBOHdmd1pHeVFGZDBnSkRvSm5fQ1FaekNGQ2NRVD...</td>\n",
              "      <td>37334</td>\n",
              "      <td>1.0</td>\n",
              "    </tr>\n",
              "    <tr>\n",
              "      <th>4</th>\n",
              "      <td>MlRwTkpBOHdmd1pHeVFGZDBnSkRvSm5fQ1FaekNGQ2NRVD...</td>\n",
              "      <td>8748</td>\n",
              "      <td>1.0</td>\n",
              "    </tr>\n",
              "    <tr>\n",
              "      <th>...</th>\n",
              "      <td>...</td>\n",
              "      <td>...</td>\n",
              "      <td>...</td>\n",
              "    </tr>\n",
              "    <tr>\n",
              "      <th>26010</th>\n",
              "      <td>cjA1c1JNc0YxblAtS2NlaEtRNVh2djBmYUg2b3d5VUwtSG...</td>\n",
              "      <td>10416</td>\n",
              "      <td>10.0</td>\n",
              "    </tr>\n",
              "    <tr>\n",
              "      <th>26011</th>\n",
              "      <td>cjA1c1JNc0YxblAtS2NlaEtRNVh2djBmYUg2b3d5VUwtSG...</td>\n",
              "      <td>16845</td>\n",
              "      <td>15.0</td>\n",
              "    </tr>\n",
              "    <tr>\n",
              "      <th>26012</th>\n",
              "      <td>cjA1c1JNc0YxblAtS2NlaEtRNVh2djBmYUg2b3d5VUwtSG...</td>\n",
              "      <td>6614</td>\n",
              "      <td>1.0</td>\n",
              "    </tr>\n",
              "    <tr>\n",
              "      <th>26013</th>\n",
              "      <td>cjA1c1JNc0YxblAtS2NlaEtRNVh2djBmYUg2b3d5VUwtSG...</td>\n",
              "      <td>13181</td>\n",
              "      <td>1.0</td>\n",
              "    </tr>\n",
              "    <tr>\n",
              "      <th>26014</th>\n",
              "      <td>cjA1c1JNc0YxblAtS2NlaEtRNVh2djBmYUg2b3d5VUwtSG...</td>\n",
              "      <td>791</td>\n",
              "      <td>1.0</td>\n",
              "    </tr>\n",
              "  </tbody>\n",
              "</table>\n",
              "<p>26015 rows × 3 columns</p>\n",
              "</div>"
            ],
            "text/plain": [
              "                                               member_id  product_id  Click\n",
              "0      MlRwTkpBOHdmd1pHeVFGZDBnSkRvSm5fQ1FaekNGQ2NRVD...        2816    2.0\n",
              "1      MlRwTkpBOHdmd1pHeVFGZDBnSkRvSm5fQ1FaekNGQ2NRVD...        3593    1.0\n",
              "2      MlRwTkpBOHdmd1pHeVFGZDBnSkRvSm5fQ1FaekNGQ2NRVD...        5958    1.0\n",
              "3      MlRwTkpBOHdmd1pHeVFGZDBnSkRvSm5fQ1FaekNGQ2NRVD...       37334    1.0\n",
              "4      MlRwTkpBOHdmd1pHeVFGZDBnSkRvSm5fQ1FaekNGQ2NRVD...        8748    1.0\n",
              "...                                                  ...         ...    ...\n",
              "26010  cjA1c1JNc0YxblAtS2NlaEtRNVh2djBmYUg2b3d5VUwtSG...       10416   10.0\n",
              "26011  cjA1c1JNc0YxblAtS2NlaEtRNVh2djBmYUg2b3d5VUwtSG...       16845   15.0\n",
              "26012  cjA1c1JNc0YxblAtS2NlaEtRNVh2djBmYUg2b3d5VUwtSG...        6614    1.0\n",
              "26013  cjA1c1JNc0YxblAtS2NlaEtRNVh2djBmYUg2b3d5VUwtSG...       13181    1.0\n",
              "26014  cjA1c1JNc0YxblAtS2NlaEtRNVh2djBmYUg2b3d5VUwtSG...         791    1.0\n",
              "\n",
              "[26015 rows x 3 columns]"
            ]
          },
          "metadata": {
            "tags": []
          },
          "execution_count": 18
        }
      ]
    },
    {
      "cell_type": "code",
      "metadata": {
        "id": "sacred-pollution",
        "outputId": "f96e69b3-f149-4634-dd50-0825a3ceef43"
      },
      "source": [
        "temp = user_item_clikc.groupby('product_id').count()\n",
        "temp[temp['Click'] >= 3]"
      ],
      "id": "sacred-pollution",
      "execution_count": null,
      "outputs": [
        {
          "output_type": "execute_result",
          "data": {
            "text/html": [
              "<div>\n",
              "<style scoped>\n",
              "    .dataframe tbody tr th:only-of-type {\n",
              "        vertical-align: middle;\n",
              "    }\n",
              "\n",
              "    .dataframe tbody tr th {\n",
              "        vertical-align: top;\n",
              "    }\n",
              "\n",
              "    .dataframe thead th {\n",
              "        text-align: right;\n",
              "    }\n",
              "</style>\n",
              "<table border=\"1\" class=\"dataframe\">\n",
              "  <thead>\n",
              "    <tr style=\"text-align: right;\">\n",
              "      <th></th>\n",
              "      <th>member_id</th>\n",
              "      <th>Click</th>\n",
              "    </tr>\n",
              "    <tr>\n",
              "      <th>product_id</th>\n",
              "      <th></th>\n",
              "      <th></th>\n",
              "    </tr>\n",
              "  </thead>\n",
              "  <tbody>\n",
              "    <tr>\n",
              "      <th>1</th>\n",
              "      <td>10</td>\n",
              "      <td>10</td>\n",
              "    </tr>\n",
              "    <tr>\n",
              "      <th>2</th>\n",
              "      <td>17</td>\n",
              "      <td>17</td>\n",
              "    </tr>\n",
              "    <tr>\n",
              "      <th>3</th>\n",
              "      <td>4</td>\n",
              "      <td>4</td>\n",
              "    </tr>\n",
              "    <tr>\n",
              "      <th>7</th>\n",
              "      <td>5</td>\n",
              "      <td>5</td>\n",
              "    </tr>\n",
              "    <tr>\n",
              "      <th>8</th>\n",
              "      <td>5</td>\n",
              "      <td>5</td>\n",
              "    </tr>\n",
              "    <tr>\n",
              "      <th>...</th>\n",
              "      <td>...</td>\n",
              "      <td>...</td>\n",
              "    </tr>\n",
              "    <tr>\n",
              "      <th>41263</th>\n",
              "      <td>3</td>\n",
              "      <td>3</td>\n",
              "    </tr>\n",
              "    <tr>\n",
              "      <th>41522</th>\n",
              "      <td>7</td>\n",
              "      <td>7</td>\n",
              "    </tr>\n",
              "    <tr>\n",
              "      <th>41525</th>\n",
              "      <td>4</td>\n",
              "      <td>4</td>\n",
              "    </tr>\n",
              "    <tr>\n",
              "      <th>41598</th>\n",
              "      <td>3</td>\n",
              "      <td>3</td>\n",
              "    </tr>\n",
              "    <tr>\n",
              "      <th>41708</th>\n",
              "      <td>3</td>\n",
              "      <td>3</td>\n",
              "    </tr>\n",
              "  </tbody>\n",
              "</table>\n",
              "<p>2271 rows × 2 columns</p>\n",
              "</div>"
            ],
            "text/plain": [
              "            member_id  Click\n",
              "product_id                  \n",
              "1                  10     10\n",
              "2                  17     17\n",
              "3                   4      4\n",
              "7                   5      5\n",
              "8                   5      5\n",
              "...               ...    ...\n",
              "41263               3      3\n",
              "41522               7      7\n",
              "41525               4      4\n",
              "41598               3      3\n",
              "41708               3      3\n",
              "\n",
              "[2271 rows x 2 columns]"
            ]
          },
          "metadata": {
            "tags": []
          },
          "execution_count": 97
        }
      ]
    },
    {
      "cell_type": "markdown",
      "metadata": {
        "id": "eleven-arrangement"
      },
      "source": [
        "- evaluate metric이 무엇이 될지 고민\n",
        "- 추천은 해주긴 할텐데 loss 학습이 잘 될까?"
      ],
      "id": "eleven-arrangement"
    },
    {
      "cell_type": "code",
      "metadata": {
        "scrolled": true,
        "id": "documented-infection"
      },
      "source": [
        "# import pandas_profiling\n",
        "# user_item_clikc.profile_report()"
      ],
      "id": "documented-infection",
      "execution_count": null,
      "outputs": []
    },
    {
      "cell_type": "code",
      "metadata": {
        "id": "fixed-shark"
      },
      "source": [
        "# user_item_clikc.to_csv('./data/raw_clicks.csv', index = False)"
      ],
      "id": "fixed-shark",
      "execution_count": null,
      "outputs": []
    },
    {
      "cell_type": "markdown",
      "metadata": {
        "id": "genuine-malta"
      },
      "source": [
        "#### 4.4) 매트릭스 형태 "
      ],
      "id": "genuine-malta"
    },
    {
      "cell_type": "code",
      "metadata": {
        "scrolled": false,
        "id": "august-sacramento",
        "outputId": "414fdb7d-1490-4f55-c661-15f5f08017af"
      },
      "source": [
        "# pivot Clicks into id features\n",
        "user_item_matrix = user_item_clikc.pivot(\n",
        "    index='member_id',\n",
        "    columns='product_id',\n",
        "    values='Click'\n",
        ").fillna(0)\n",
        "\n",
        "# 3,956명의 유저와 2,136개의 아이템\n",
        "user_item_matrix "
      ],
      "id": "august-sacramento",
      "execution_count": null,
      "outputs": [
        {
          "output_type": "execute_result",
          "data": {
            "text/html": [
              "<div>\n",
              "<style scoped>\n",
              "    .dataframe tbody tr th:only-of-type {\n",
              "        vertical-align: middle;\n",
              "    }\n",
              "\n",
              "    .dataframe tbody tr th {\n",
              "        vertical-align: top;\n",
              "    }\n",
              "\n",
              "    .dataframe thead th {\n",
              "        text-align: right;\n",
              "    }\n",
              "</style>\n",
              "<table border=\"1\" class=\"dataframe\">\n",
              "  <thead>\n",
              "    <tr style=\"text-align: right;\">\n",
              "      <th>product_id</th>\n",
              "      <th>1</th>\n",
              "      <th>2</th>\n",
              "      <th>3</th>\n",
              "      <th>5</th>\n",
              "      <th>7</th>\n",
              "      <th>8</th>\n",
              "      <th>9</th>\n",
              "      <th>10</th>\n",
              "      <th>11</th>\n",
              "      <th>12</th>\n",
              "      <th>...</th>\n",
              "      <th>41701</th>\n",
              "      <th>41702</th>\n",
              "      <th>41705</th>\n",
              "      <th>41707</th>\n",
              "      <th>41708</th>\n",
              "      <th>41735</th>\n",
              "      <th>41740</th>\n",
              "      <th>41741</th>\n",
              "      <th>41754</th>\n",
              "      <th>41762</th>\n",
              "    </tr>\n",
              "    <tr>\n",
              "      <th>member_id</th>\n",
              "      <th></th>\n",
              "      <th></th>\n",
              "      <th></th>\n",
              "      <th></th>\n",
              "      <th></th>\n",
              "      <th></th>\n",
              "      <th></th>\n",
              "      <th></th>\n",
              "      <th></th>\n",
              "      <th></th>\n",
              "      <th></th>\n",
              "      <th></th>\n",
              "      <th></th>\n",
              "      <th></th>\n",
              "      <th></th>\n",
              "      <th></th>\n",
              "      <th></th>\n",
              "      <th></th>\n",
              "      <th></th>\n",
              "      <th></th>\n",
              "      <th></th>\n",
              "    </tr>\n",
              "  </thead>\n",
              "  <tbody>\n",
              "    <tr>\n",
              "      <th>LS1FMWJ3cG5qaVRWdzBQQWlnZkl3SGowdUpMWXFKTmwyZlhlMnNJVzZtZw==</th>\n",
              "      <td>0.0</td>\n",
              "      <td>0.0</td>\n",
              "      <td>0.0</td>\n",
              "      <td>0.0</td>\n",
              "      <td>0.0</td>\n",
              "      <td>0.0</td>\n",
              "      <td>0.0</td>\n",
              "      <td>0.0</td>\n",
              "      <td>0.0</td>\n",
              "      <td>0.0</td>\n",
              "      <td>...</td>\n",
              "      <td>0.0</td>\n",
              "      <td>0.0</td>\n",
              "      <td>0.0</td>\n",
              "      <td>0.0</td>\n",
              "      <td>0.0</td>\n",
              "      <td>0.0</td>\n",
              "      <td>0.0</td>\n",
              "      <td>0.0</td>\n",
              "      <td>0.0</td>\n",
              "      <td>0.0</td>\n",
              "    </tr>\n",
              "    <tr>\n",
              "      <th>LTBDR2FkbUFPLTFuY2lmYkNXQVJ5U1liU1liVllETTlfTFp2bW44N2Vadw==</th>\n",
              "      <td>0.0</td>\n",
              "      <td>0.0</td>\n",
              "      <td>0.0</td>\n",
              "      <td>0.0</td>\n",
              "      <td>0.0</td>\n",
              "      <td>0.0</td>\n",
              "      <td>0.0</td>\n",
              "      <td>0.0</td>\n",
              "      <td>0.0</td>\n",
              "      <td>0.0</td>\n",
              "      <td>...</td>\n",
              "      <td>0.0</td>\n",
              "      <td>0.0</td>\n",
              "      <td>0.0</td>\n",
              "      <td>0.0</td>\n",
              "      <td>0.0</td>\n",
              "      <td>0.0</td>\n",
              "      <td>0.0</td>\n",
              "      <td>0.0</td>\n",
              "      <td>0.0</td>\n",
              "      <td>0.0</td>\n",
              "    </tr>\n",
              "    <tr>\n",
              "      <th>LTFlVGU5VXE5Qnl5WkM4amgyYmp4N3FVaFpwYTcyVFJZc3FBVENENlJ6SQ==</th>\n",
              "      <td>0.0</td>\n",
              "      <td>0.0</td>\n",
              "      <td>0.0</td>\n",
              "      <td>0.0</td>\n",
              "      <td>0.0</td>\n",
              "      <td>0.0</td>\n",
              "      <td>0.0</td>\n",
              "      <td>0.0</td>\n",
              "      <td>0.0</td>\n",
              "      <td>0.0</td>\n",
              "      <td>...</td>\n",
              "      <td>0.0</td>\n",
              "      <td>0.0</td>\n",
              "      <td>0.0</td>\n",
              "      <td>0.0</td>\n",
              "      <td>0.0</td>\n",
              "      <td>0.0</td>\n",
              "      <td>0.0</td>\n",
              "      <td>0.0</td>\n",
              "      <td>0.0</td>\n",
              "      <td>0.0</td>\n",
              "    </tr>\n",
              "    <tr>\n",
              "      <th>LTFnQmVwbllnZURacjdYcjZDWGx0TFBBdnc2QWVmWmtWX2pOUFNCNmZrUQ==</th>\n",
              "      <td>0.0</td>\n",
              "      <td>0.0</td>\n",
              "      <td>0.0</td>\n",
              "      <td>0.0</td>\n",
              "      <td>0.0</td>\n",
              "      <td>0.0</td>\n",
              "      <td>0.0</td>\n",
              "      <td>0.0</td>\n",
              "      <td>0.0</td>\n",
              "      <td>0.0</td>\n",
              "      <td>...</td>\n",
              "      <td>0.0</td>\n",
              "      <td>0.0</td>\n",
              "      <td>0.0</td>\n",
              "      <td>0.0</td>\n",
              "      <td>0.0</td>\n",
              "      <td>0.0</td>\n",
              "      <td>0.0</td>\n",
              "      <td>0.0</td>\n",
              "      <td>0.0</td>\n",
              "      <td>0.0</td>\n",
              "    </tr>\n",
              "    <tr>\n",
              "      <th>LTFvTnVVdUlMVHY5bTd0WXNQd2Y3LU1ra3dFSVBrb0ZjZTZrdWg0YUJDSQ==</th>\n",
              "      <td>0.0</td>\n",
              "      <td>0.0</td>\n",
              "      <td>0.0</td>\n",
              "      <td>0.0</td>\n",
              "      <td>0.0</td>\n",
              "      <td>0.0</td>\n",
              "      <td>0.0</td>\n",
              "      <td>0.0</td>\n",
              "      <td>0.0</td>\n",
              "      <td>0.0</td>\n",
              "      <td>...</td>\n",
              "      <td>0.0</td>\n",
              "      <td>0.0</td>\n",
              "      <td>0.0</td>\n",
              "      <td>0.0</td>\n",
              "      <td>0.0</td>\n",
              "      <td>0.0</td>\n",
              "      <td>0.0</td>\n",
              "      <td>0.0</td>\n",
              "      <td>0.0</td>\n",
              "      <td>0.0</td>\n",
              "    </tr>\n",
              "    <tr>\n",
              "      <th>...</th>\n",
              "      <td>...</td>\n",
              "      <td>...</td>\n",
              "      <td>...</td>\n",
              "      <td>...</td>\n",
              "      <td>...</td>\n",
              "      <td>...</td>\n",
              "      <td>...</td>\n",
              "      <td>...</td>\n",
              "      <td>...</td>\n",
              "      <td>...</td>\n",
              "      <td>...</td>\n",
              "      <td>...</td>\n",
              "      <td>...</td>\n",
              "      <td>...</td>\n",
              "      <td>...</td>\n",
              "      <td>...</td>\n",
              "      <td>...</td>\n",
              "      <td>...</td>\n",
              "      <td>...</td>\n",
              "      <td>...</td>\n",
              "      <td>...</td>\n",
              "    </tr>\n",
              "    <tr>\n",
              "      <th>enJTckl2aHA3YVV2OXF4X0tOR0RuSjg3WERyeWJJNURCd1BPME5BQVdmbw==</th>\n",
              "      <td>0.0</td>\n",
              "      <td>0.0</td>\n",
              "      <td>0.0</td>\n",
              "      <td>0.0</td>\n",
              "      <td>0.0</td>\n",
              "      <td>0.0</td>\n",
              "      <td>0.0</td>\n",
              "      <td>0.0</td>\n",
              "      <td>0.0</td>\n",
              "      <td>0.0</td>\n",
              "      <td>...</td>\n",
              "      <td>0.0</td>\n",
              "      <td>0.0</td>\n",
              "      <td>0.0</td>\n",
              "      <td>0.0</td>\n",
              "      <td>0.0</td>\n",
              "      <td>0.0</td>\n",
              "      <td>0.0</td>\n",
              "      <td>0.0</td>\n",
              "      <td>0.0</td>\n",
              "      <td>0.0</td>\n",
              "    </tr>\n",
              "    <tr>\n",
              "      <th>enVvR2pNNG1oZFRlN2tzcmtmNHdNY2ZmbE9lQTBKbXE3dm8zeE5LS0F0bw==</th>\n",
              "      <td>0.0</td>\n",
              "      <td>0.0</td>\n",
              "      <td>0.0</td>\n",
              "      <td>0.0</td>\n",
              "      <td>0.0</td>\n",
              "      <td>0.0</td>\n",
              "      <td>0.0</td>\n",
              "      <td>0.0</td>\n",
              "      <td>0.0</td>\n",
              "      <td>0.0</td>\n",
              "      <td>...</td>\n",
              "      <td>0.0</td>\n",
              "      <td>0.0</td>\n",
              "      <td>0.0</td>\n",
              "      <td>0.0</td>\n",
              "      <td>0.0</td>\n",
              "      <td>0.0</td>\n",
              "      <td>0.0</td>\n",
              "      <td>0.0</td>\n",
              "      <td>0.0</td>\n",
              "      <td>0.0</td>\n",
              "    </tr>\n",
              "    <tr>\n",
              "      <th>enc0cUZ3eWdZYTY4dGpGYUxibkE0R3pHaGFuQzdWaG1CMm5GRUM3N0I3SQ==</th>\n",
              "      <td>0.0</td>\n",
              "      <td>0.0</td>\n",
              "      <td>0.0</td>\n",
              "      <td>0.0</td>\n",
              "      <td>0.0</td>\n",
              "      <td>0.0</td>\n",
              "      <td>0.0</td>\n",
              "      <td>0.0</td>\n",
              "      <td>0.0</td>\n",
              "      <td>0.0</td>\n",
              "      <td>...</td>\n",
              "      <td>0.0</td>\n",
              "      <td>0.0</td>\n",
              "      <td>0.0</td>\n",
              "      <td>0.0</td>\n",
              "      <td>0.0</td>\n",
              "      <td>0.0</td>\n",
              "      <td>0.0</td>\n",
              "      <td>0.0</td>\n",
              "      <td>0.0</td>\n",
              "      <td>0.0</td>\n",
              "    </tr>\n",
              "    <tr>\n",
              "      <th>enhMallYckprZ3BDaW5ScFUzbVZMdU8xN01EbjNKNG1GdExNRG56R3FPcw==</th>\n",
              "      <td>0.0</td>\n",
              "      <td>0.0</td>\n",
              "      <td>0.0</td>\n",
              "      <td>0.0</td>\n",
              "      <td>0.0</td>\n",
              "      <td>0.0</td>\n",
              "      <td>0.0</td>\n",
              "      <td>0.0</td>\n",
              "      <td>0.0</td>\n",
              "      <td>0.0</td>\n",
              "      <td>...</td>\n",
              "      <td>0.0</td>\n",
              "      <td>0.0</td>\n",
              "      <td>0.0</td>\n",
              "      <td>0.0</td>\n",
              "      <td>0.0</td>\n",
              "      <td>0.0</td>\n",
              "      <td>0.0</td>\n",
              "      <td>0.0</td>\n",
              "      <td>0.0</td>\n",
              "      <td>0.0</td>\n",
              "    </tr>\n",
              "    <tr>\n",
              "      <th>enpldmRYTVJZOEZGd2ZpWk9McHk2X3FTRGZoNGd6QVdnZ3JBQk9RMkpBdw==</th>\n",
              "      <td>0.0</td>\n",
              "      <td>0.0</td>\n",
              "      <td>0.0</td>\n",
              "      <td>0.0</td>\n",
              "      <td>0.0</td>\n",
              "      <td>0.0</td>\n",
              "      <td>0.0</td>\n",
              "      <td>0.0</td>\n",
              "      <td>0.0</td>\n",
              "      <td>0.0</td>\n",
              "      <td>...</td>\n",
              "      <td>0.0</td>\n",
              "      <td>0.0</td>\n",
              "      <td>0.0</td>\n",
              "      <td>0.0</td>\n",
              "      <td>0.0</td>\n",
              "      <td>0.0</td>\n",
              "      <td>0.0</td>\n",
              "      <td>0.0</td>\n",
              "      <td>0.0</td>\n",
              "      <td>0.0</td>\n",
              "    </tr>\n",
              "  </tbody>\n",
              "</table>\n",
              "<p>3956 rows × 9450 columns</p>\n",
              "</div>"
            ],
            "text/plain": [
              "product_id                                          1      2      3      \\\n",
              "member_id                                                                 \n",
              "LS1FMWJ3cG5qaVRWdzBQQWlnZkl3SGowdUpMWXFKTmwyZlh...    0.0    0.0    0.0   \n",
              "LTBDR2FkbUFPLTFuY2lmYkNXQVJ5U1liU1liVllETTlfTFp...    0.0    0.0    0.0   \n",
              "LTFlVGU5VXE5Qnl5WkM4amgyYmp4N3FVaFpwYTcyVFJZc3F...    0.0    0.0    0.0   \n",
              "LTFnQmVwbllnZURacjdYcjZDWGx0TFBBdnc2QWVmWmtWX2p...    0.0    0.0    0.0   \n",
              "LTFvTnVVdUlMVHY5bTd0WXNQd2Y3LU1ra3dFSVBrb0ZjZTZ...    0.0    0.0    0.0   \n",
              "...                                                   ...    ...    ...   \n",
              "enJTckl2aHA3YVV2OXF4X0tOR0RuSjg3WERyeWJJNURCd1B...    0.0    0.0    0.0   \n",
              "enVvR2pNNG1oZFRlN2tzcmtmNHdNY2ZmbE9lQTBKbXE3dm8...    0.0    0.0    0.0   \n",
              "enc0cUZ3eWdZYTY4dGpGYUxibkE0R3pHaGFuQzdWaG1CMm5...    0.0    0.0    0.0   \n",
              "enhMallYckprZ3BDaW5ScFUzbVZMdU8xN01EbjNKNG1GdEx...    0.0    0.0    0.0   \n",
              "enpldmRYTVJZOEZGd2ZpWk9McHk2X3FTRGZoNGd6QVdnZ3J...    0.0    0.0    0.0   \n",
              "\n",
              "product_id                                          5      7      8      \\\n",
              "member_id                                                                 \n",
              "LS1FMWJ3cG5qaVRWdzBQQWlnZkl3SGowdUpMWXFKTmwyZlh...    0.0    0.0    0.0   \n",
              "LTBDR2FkbUFPLTFuY2lmYkNXQVJ5U1liU1liVllETTlfTFp...    0.0    0.0    0.0   \n",
              "LTFlVGU5VXE5Qnl5WkM4amgyYmp4N3FVaFpwYTcyVFJZc3F...    0.0    0.0    0.0   \n",
              "LTFnQmVwbllnZURacjdYcjZDWGx0TFBBdnc2QWVmWmtWX2p...    0.0    0.0    0.0   \n",
              "LTFvTnVVdUlMVHY5bTd0WXNQd2Y3LU1ra3dFSVBrb0ZjZTZ...    0.0    0.0    0.0   \n",
              "...                                                   ...    ...    ...   \n",
              "enJTckl2aHA3YVV2OXF4X0tOR0RuSjg3WERyeWJJNURCd1B...    0.0    0.0    0.0   \n",
              "enVvR2pNNG1oZFRlN2tzcmtmNHdNY2ZmbE9lQTBKbXE3dm8...    0.0    0.0    0.0   \n",
              "enc0cUZ3eWdZYTY4dGpGYUxibkE0R3pHaGFuQzdWaG1CMm5...    0.0    0.0    0.0   \n",
              "enhMallYckprZ3BDaW5ScFUzbVZMdU8xN01EbjNKNG1GdEx...    0.0    0.0    0.0   \n",
              "enpldmRYTVJZOEZGd2ZpWk9McHk2X3FTRGZoNGd6QVdnZ3J...    0.0    0.0    0.0   \n",
              "\n",
              "product_id                                          9      10     11     \\\n",
              "member_id                                                                 \n",
              "LS1FMWJ3cG5qaVRWdzBQQWlnZkl3SGowdUpMWXFKTmwyZlh...    0.0    0.0    0.0   \n",
              "LTBDR2FkbUFPLTFuY2lmYkNXQVJ5U1liU1liVllETTlfTFp...    0.0    0.0    0.0   \n",
              "LTFlVGU5VXE5Qnl5WkM4amgyYmp4N3FVaFpwYTcyVFJZc3F...    0.0    0.0    0.0   \n",
              "LTFnQmVwbllnZURacjdYcjZDWGx0TFBBdnc2QWVmWmtWX2p...    0.0    0.0    0.0   \n",
              "LTFvTnVVdUlMVHY5bTd0WXNQd2Y3LU1ra3dFSVBrb0ZjZTZ...    0.0    0.0    0.0   \n",
              "...                                                   ...    ...    ...   \n",
              "enJTckl2aHA3YVV2OXF4X0tOR0RuSjg3WERyeWJJNURCd1B...    0.0    0.0    0.0   \n",
              "enVvR2pNNG1oZFRlN2tzcmtmNHdNY2ZmbE9lQTBKbXE3dm8...    0.0    0.0    0.0   \n",
              "enc0cUZ3eWdZYTY4dGpGYUxibkE0R3pHaGFuQzdWaG1CMm5...    0.0    0.0    0.0   \n",
              "enhMallYckprZ3BDaW5ScFUzbVZMdU8xN01EbjNKNG1GdEx...    0.0    0.0    0.0   \n",
              "enpldmRYTVJZOEZGd2ZpWk9McHk2X3FTRGZoNGd6QVdnZ3J...    0.0    0.0    0.0   \n",
              "\n",
              "product_id                                          12     ...  41701  41702  \\\n",
              "member_id                                                  ...                 \n",
              "LS1FMWJ3cG5qaVRWdzBQQWlnZkl3SGowdUpMWXFKTmwyZlh...    0.0  ...    0.0    0.0   \n",
              "LTBDR2FkbUFPLTFuY2lmYkNXQVJ5U1liU1liVllETTlfTFp...    0.0  ...    0.0    0.0   \n",
              "LTFlVGU5VXE5Qnl5WkM4amgyYmp4N3FVaFpwYTcyVFJZc3F...    0.0  ...    0.0    0.0   \n",
              "LTFnQmVwbllnZURacjdYcjZDWGx0TFBBdnc2QWVmWmtWX2p...    0.0  ...    0.0    0.0   \n",
              "LTFvTnVVdUlMVHY5bTd0WXNQd2Y3LU1ra3dFSVBrb0ZjZTZ...    0.0  ...    0.0    0.0   \n",
              "...                                                   ...  ...    ...    ...   \n",
              "enJTckl2aHA3YVV2OXF4X0tOR0RuSjg3WERyeWJJNURCd1B...    0.0  ...    0.0    0.0   \n",
              "enVvR2pNNG1oZFRlN2tzcmtmNHdNY2ZmbE9lQTBKbXE3dm8...    0.0  ...    0.0    0.0   \n",
              "enc0cUZ3eWdZYTY4dGpGYUxibkE0R3pHaGFuQzdWaG1CMm5...    0.0  ...    0.0    0.0   \n",
              "enhMallYckprZ3BDaW5ScFUzbVZMdU8xN01EbjNKNG1GdEx...    0.0  ...    0.0    0.0   \n",
              "enpldmRYTVJZOEZGd2ZpWk9McHk2X3FTRGZoNGd6QVdnZ3J...    0.0  ...    0.0    0.0   \n",
              "\n",
              "product_id                                          41705  41707  41708  \\\n",
              "member_id                                                                 \n",
              "LS1FMWJ3cG5qaVRWdzBQQWlnZkl3SGowdUpMWXFKTmwyZlh...    0.0    0.0    0.0   \n",
              "LTBDR2FkbUFPLTFuY2lmYkNXQVJ5U1liU1liVllETTlfTFp...    0.0    0.0    0.0   \n",
              "LTFlVGU5VXE5Qnl5WkM4amgyYmp4N3FVaFpwYTcyVFJZc3F...    0.0    0.0    0.0   \n",
              "LTFnQmVwbllnZURacjdYcjZDWGx0TFBBdnc2QWVmWmtWX2p...    0.0    0.0    0.0   \n",
              "LTFvTnVVdUlMVHY5bTd0WXNQd2Y3LU1ra3dFSVBrb0ZjZTZ...    0.0    0.0    0.0   \n",
              "...                                                   ...    ...    ...   \n",
              "enJTckl2aHA3YVV2OXF4X0tOR0RuSjg3WERyeWJJNURCd1B...    0.0    0.0    0.0   \n",
              "enVvR2pNNG1oZFRlN2tzcmtmNHdNY2ZmbE9lQTBKbXE3dm8...    0.0    0.0    0.0   \n",
              "enc0cUZ3eWdZYTY4dGpGYUxibkE0R3pHaGFuQzdWaG1CMm5...    0.0    0.0    0.0   \n",
              "enhMallYckprZ3BDaW5ScFUzbVZMdU8xN01EbjNKNG1GdEx...    0.0    0.0    0.0   \n",
              "enpldmRYTVJZOEZGd2ZpWk9McHk2X3FTRGZoNGd6QVdnZ3J...    0.0    0.0    0.0   \n",
              "\n",
              "product_id                                          41735  41740  41741  \\\n",
              "member_id                                                                 \n",
              "LS1FMWJ3cG5qaVRWdzBQQWlnZkl3SGowdUpMWXFKTmwyZlh...    0.0    0.0    0.0   \n",
              "LTBDR2FkbUFPLTFuY2lmYkNXQVJ5U1liU1liVllETTlfTFp...    0.0    0.0    0.0   \n",
              "LTFlVGU5VXE5Qnl5WkM4amgyYmp4N3FVaFpwYTcyVFJZc3F...    0.0    0.0    0.0   \n",
              "LTFnQmVwbllnZURacjdYcjZDWGx0TFBBdnc2QWVmWmtWX2p...    0.0    0.0    0.0   \n",
              "LTFvTnVVdUlMVHY5bTd0WXNQd2Y3LU1ra3dFSVBrb0ZjZTZ...    0.0    0.0    0.0   \n",
              "...                                                   ...    ...    ...   \n",
              "enJTckl2aHA3YVV2OXF4X0tOR0RuSjg3WERyeWJJNURCd1B...    0.0    0.0    0.0   \n",
              "enVvR2pNNG1oZFRlN2tzcmtmNHdNY2ZmbE9lQTBKbXE3dm8...    0.0    0.0    0.0   \n",
              "enc0cUZ3eWdZYTY4dGpGYUxibkE0R3pHaGFuQzdWaG1CMm5...    0.0    0.0    0.0   \n",
              "enhMallYckprZ3BDaW5ScFUzbVZMdU8xN01EbjNKNG1GdEx...    0.0    0.0    0.0   \n",
              "enpldmRYTVJZOEZGd2ZpWk9McHk2X3FTRGZoNGd6QVdnZ3J...    0.0    0.0    0.0   \n",
              "\n",
              "product_id                                          41754  41762  \n",
              "member_id                                                         \n",
              "LS1FMWJ3cG5qaVRWdzBQQWlnZkl3SGowdUpMWXFKTmwyZlh...    0.0    0.0  \n",
              "LTBDR2FkbUFPLTFuY2lmYkNXQVJ5U1liU1liVllETTlfTFp...    0.0    0.0  \n",
              "LTFlVGU5VXE5Qnl5WkM4amgyYmp4N3FVaFpwYTcyVFJZc3F...    0.0    0.0  \n",
              "LTFnQmVwbllnZURacjdYcjZDWGx0TFBBdnc2QWVmWmtWX2p...    0.0    0.0  \n",
              "LTFvTnVVdUlMVHY5bTd0WXNQd2Y3LU1ra3dFSVBrb0ZjZTZ...    0.0    0.0  \n",
              "...                                                   ...    ...  \n",
              "enJTckl2aHA3YVV2OXF4X0tOR0RuSjg3WERyeWJJNURCd1B...    0.0    0.0  \n",
              "enVvR2pNNG1oZFRlN2tzcmtmNHdNY2ZmbE9lQTBKbXE3dm8...    0.0    0.0  \n",
              "enc0cUZ3eWdZYTY4dGpGYUxibkE0R3pHaGFuQzdWaG1CMm5...    0.0    0.0  \n",
              "enhMallYckprZ3BDaW5ScFUzbVZMdU8xN01EbjNKNG1GdEx...    0.0    0.0  \n",
              "enpldmRYTVJZOEZGd2ZpWk9McHk2X3FTRGZoNGd6QVdnZ3J...    0.0    0.0  \n",
              "\n",
              "[3956 rows x 9450 columns]"
            ]
          },
          "metadata": {
            "tags": []
          },
          "execution_count": 21
        }
      ]
    },
    {
      "cell_type": "code",
      "metadata": {
        "id": "significant-frequency",
        "outputId": "5defd9d5-d188-4470-a6be-435975b78cf7"
      },
      "source": [
        "user_item_matrix.info() # 285 -> 142mb"
      ],
      "id": "significant-frequency",
      "execution_count": null,
      "outputs": [
        {
          "output_type": "stream",
          "text": [
            "<class 'pandas.core.frame.DataFrame'>\n",
            "Index: 3956 entries, LS1FMWJ3cG5qaVRWdzBQQWlnZkl3SGowdUpMWXFKTmwyZlhlMnNJVzZtZw== to enpldmRYTVJZOEZGd2ZpWk9McHk2X3FTRGZoNGd6QVdnZ3JBQk9RMkpBdw==\n",
            "Columns: 9450 entries, 1 to 41762\n",
            "dtypes: float32(9450)\n",
            "memory usage: 142.6+ MB\n"
          ],
          "name": "stdout"
        }
      ]
    },
    {
      "cell_type": "markdown",
      "metadata": {
        "id": "changed-stadium"
      },
      "source": [
        "- 만약.. 한다면.. 개연성(matrix로 구성) + 임의성(없는 product_id를 랜덤하여 click 1로 고정)\n",
        "\n",
        "\n",
        "- SVD or AutoEncoder\n",
        "\n",
        "\n",
        "\n",
        "- user"
      ],
      "id": "changed-stadium"
    },
    {
      "cell_type": "markdown",
      "metadata": {
        "id": "textile-bottom"
      },
      "source": [
        "#### user_info_meta 데이터"
      ],
      "id": "textile-bottom"
    },
    {
      "cell_type": "code",
      "metadata": {
        "id": "existing-retrieval",
        "outputId": "ac9e5c4a-7d2e-4440-ecf9-6977a9cc216c"
      },
      "source": [
        "user_info_df = user_info_data[user_info_data['member_id'].isin(user_item_clikc['member_id'])].reset_index(drop = True)\n",
        "user_info_df"
      ],
      "id": "existing-retrieval",
      "execution_count": null,
      "outputs": [
        {
          "output_type": "execute_result",
          "data": {
            "text/html": [
              "<div>\n",
              "<style scoped>\n",
              "    .dataframe tbody tr th:only-of-type {\n",
              "        vertical-align: middle;\n",
              "    }\n",
              "\n",
              "    .dataframe tbody tr th {\n",
              "        vertical-align: top;\n",
              "    }\n",
              "\n",
              "    .dataframe thead th {\n",
              "        text-align: right;\n",
              "    }\n",
              "</style>\n",
              "<table border=\"1\" class=\"dataframe\">\n",
              "  <thead>\n",
              "    <tr style=\"text-align: right;\">\n",
              "      <th></th>\n",
              "      <th>member_id</th>\n",
              "      <th>skin_type</th>\n",
              "      <th>gender</th>\n",
              "      <th>birth_year</th>\n",
              "      <th>skin_tone</th>\n",
              "      <th>personal_color</th>\n",
              "      <th>worry_1</th>\n",
              "      <th>worry_2</th>\n",
              "      <th>worry_3</th>\n",
              "      <th>worry_4</th>\n",
              "      <th>worry_5</th>\n",
              "      <th>worry_6</th>\n",
              "      <th>worry_7</th>\n",
              "      <th>worry_8</th>\n",
              "      <th>worry_9</th>\n",
              "      <th>worry_10</th>\n",
              "      <th>worry_11</th>\n",
              "      <th>worry_12</th>\n",
              "    </tr>\n",
              "  </thead>\n",
              "  <tbody>\n",
              "    <tr>\n",
              "      <th>0</th>\n",
              "      <td>MlRwTkpBOHdmd1pHeVFGZDBnSkRvSm5fQ1FaekNGQ2NRVD...</td>\n",
              "      <td>2</td>\n",
              "      <td>1</td>\n",
              "      <td>2010</td>\n",
              "      <td>2</td>\n",
              "      <td>1</td>\n",
              "      <td>1</td>\n",
              "      <td>0</td>\n",
              "      <td>0</td>\n",
              "      <td>0</td>\n",
              "      <td>0</td>\n",
              "      <td>0</td>\n",
              "      <td>0</td>\n",
              "      <td>1</td>\n",
              "      <td>1</td>\n",
              "      <td>0</td>\n",
              "      <td>0</td>\n",
              "      <td>1</td>\n",
              "    </tr>\n",
              "    <tr>\n",
              "      <th>1</th>\n",
              "      <td>WUZwWnFPcFA4TXJ2aHlxdU43aEYxVDltVEtVeVUwWTZzek...</td>\n",
              "      <td>4</td>\n",
              "      <td>1</td>\n",
              "      <td>1980</td>\n",
              "      <td>4</td>\n",
              "      <td>1</td>\n",
              "      <td>0</td>\n",
              "      <td>0</td>\n",
              "      <td>1</td>\n",
              "      <td>1</td>\n",
              "      <td>0</td>\n",
              "      <td>0</td>\n",
              "      <td>1</td>\n",
              "      <td>1</td>\n",
              "      <td>0</td>\n",
              "      <td>0</td>\n",
              "      <td>0</td>\n",
              "      <td>1</td>\n",
              "    </tr>\n",
              "    <tr>\n",
              "      <th>2</th>\n",
              "      <td>X0RUZHM0bHVRdmdTU1N6WFdvdkdQbnFzS3o3OHFLeEQzMk...</td>\n",
              "      <td>4</td>\n",
              "      <td>1</td>\n",
              "      <td>2007</td>\n",
              "      <td>4</td>\n",
              "      <td>1</td>\n",
              "      <td>1</td>\n",
              "      <td>0</td>\n",
              "      <td>0</td>\n",
              "      <td>0</td>\n",
              "      <td>1</td>\n",
              "      <td>0</td>\n",
              "      <td>0</td>\n",
              "      <td>1</td>\n",
              "      <td>0</td>\n",
              "      <td>1</td>\n",
              "      <td>0</td>\n",
              "      <td>1</td>\n",
              "    </tr>\n",
              "    <tr>\n",
              "      <th>3</th>\n",
              "      <td>RkNKdkxGeHZnXzRvQ25TUDQ4a25zZE90aTZ6Ml9hZ2FHLT...</td>\n",
              "      <td>2</td>\n",
              "      <td>1</td>\n",
              "      <td>1984</td>\n",
              "      <td>1</td>\n",
              "      <td>2</td>\n",
              "      <td>1</td>\n",
              "      <td>1</td>\n",
              "      <td>0</td>\n",
              "      <td>1</td>\n",
              "      <td>1</td>\n",
              "      <td>0</td>\n",
              "      <td>0</td>\n",
              "      <td>0</td>\n",
              "      <td>0</td>\n",
              "      <td>0</td>\n",
              "      <td>0</td>\n",
              "      <td>1</td>\n",
              "    </tr>\n",
              "    <tr>\n",
              "      <th>4</th>\n",
              "      <td>LU1JTm5rSGZoOTBKM0Q4Zy1DSVRveGI4NFJfY3JoejRaWV...</td>\n",
              "      <td>3</td>\n",
              "      <td>1</td>\n",
              "      <td>1995</td>\n",
              "      <td>1</td>\n",
              "      <td>4</td>\n",
              "      <td>0</td>\n",
              "      <td>1</td>\n",
              "      <td>0</td>\n",
              "      <td>1</td>\n",
              "      <td>0</td>\n",
              "      <td>0</td>\n",
              "      <td>0</td>\n",
              "      <td>0</td>\n",
              "      <td>1</td>\n",
              "      <td>0</td>\n",
              "      <td>0</td>\n",
              "      <td>1</td>\n",
              "    </tr>\n",
              "    <tr>\n",
              "      <th>...</th>\n",
              "      <td>...</td>\n",
              "      <td>...</td>\n",
              "      <td>...</td>\n",
              "      <td>...</td>\n",
              "      <td>...</td>\n",
              "      <td>...</td>\n",
              "      <td>...</td>\n",
              "      <td>...</td>\n",
              "      <td>...</td>\n",
              "      <td>...</td>\n",
              "      <td>...</td>\n",
              "      <td>...</td>\n",
              "      <td>...</td>\n",
              "      <td>...</td>\n",
              "      <td>...</td>\n",
              "      <td>...</td>\n",
              "      <td>...</td>\n",
              "      <td>...</td>\n",
              "    </tr>\n",
              "    <tr>\n",
              "      <th>3951</th>\n",
              "      <td>R01mY0J5UFdRSG1JcC1rcVRsSmdyczhKT3hqZXNWM1kycF...</td>\n",
              "      <td>0</td>\n",
              "      <td>1</td>\n",
              "      <td>1979</td>\n",
              "      <td>0</td>\n",
              "      <td>0</td>\n",
              "      <td>0</td>\n",
              "      <td>0</td>\n",
              "      <td>0</td>\n",
              "      <td>0</td>\n",
              "      <td>0</td>\n",
              "      <td>0</td>\n",
              "      <td>0</td>\n",
              "      <td>0</td>\n",
              "      <td>0</td>\n",
              "      <td>0</td>\n",
              "      <td>0</td>\n",
              "      <td>0</td>\n",
              "    </tr>\n",
              "    <tr>\n",
              "      <th>3952</th>\n",
              "      <td>ZDVqakg2SlNocDFrZzBscHJTSDMtdlVLNFEtbHlCU2UyNG...</td>\n",
              "      <td>2</td>\n",
              "      <td>1</td>\n",
              "      <td>1994</td>\n",
              "      <td>2</td>\n",
              "      <td>1</td>\n",
              "      <td>1</td>\n",
              "      <td>1</td>\n",
              "      <td>1</td>\n",
              "      <td>0</td>\n",
              "      <td>0</td>\n",
              "      <td>0</td>\n",
              "      <td>1</td>\n",
              "      <td>1</td>\n",
              "      <td>0</td>\n",
              "      <td>0</td>\n",
              "      <td>0</td>\n",
              "      <td>0</td>\n",
              "    </tr>\n",
              "    <tr>\n",
              "      <th>3953</th>\n",
              "      <td>amhZQkNhaWZDNWNCR2kzTVdNUkVjWFlzNGtHUjBtOGNMZE...</td>\n",
              "      <td>4</td>\n",
              "      <td>1</td>\n",
              "      <td>1982</td>\n",
              "      <td>4</td>\n",
              "      <td>3</td>\n",
              "      <td>1</td>\n",
              "      <td>0</td>\n",
              "      <td>0</td>\n",
              "      <td>0</td>\n",
              "      <td>0</td>\n",
              "      <td>0</td>\n",
              "      <td>1</td>\n",
              "      <td>1</td>\n",
              "      <td>1</td>\n",
              "      <td>0</td>\n",
              "      <td>0</td>\n",
              "      <td>1</td>\n",
              "    </tr>\n",
              "    <tr>\n",
              "      <th>3954</th>\n",
              "      <td>Qjc1V3hFQmVxTU55Z1JtemxfeHUtUVdKcmVUNWxMSzRkR3...</td>\n",
              "      <td>2</td>\n",
              "      <td>1</td>\n",
              "      <td>1980</td>\n",
              "      <td>1</td>\n",
              "      <td>4</td>\n",
              "      <td>0</td>\n",
              "      <td>0</td>\n",
              "      <td>1</td>\n",
              "      <td>1</td>\n",
              "      <td>0</td>\n",
              "      <td>0</td>\n",
              "      <td>0</td>\n",
              "      <td>0</td>\n",
              "      <td>1</td>\n",
              "      <td>0</td>\n",
              "      <td>1</td>\n",
              "      <td>1</td>\n",
              "    </tr>\n",
              "    <tr>\n",
              "      <th>3955</th>\n",
              "      <td>cjA1c1JNc0YxblAtS2NlaEtRNVh2djBmYUg2b3d5VUwtSG...</td>\n",
              "      <td>0</td>\n",
              "      <td>0</td>\n",
              "      <td>1984</td>\n",
              "      <td>0</td>\n",
              "      <td>0</td>\n",
              "      <td>0</td>\n",
              "      <td>0</td>\n",
              "      <td>0</td>\n",
              "      <td>0</td>\n",
              "      <td>0</td>\n",
              "      <td>0</td>\n",
              "      <td>0</td>\n",
              "      <td>0</td>\n",
              "      <td>0</td>\n",
              "      <td>0</td>\n",
              "      <td>0</td>\n",
              "      <td>0</td>\n",
              "    </tr>\n",
              "  </tbody>\n",
              "</table>\n",
              "<p>3956 rows × 18 columns</p>\n",
              "</div>"
            ],
            "text/plain": [
              "                                              member_id skin_type gender  \\\n",
              "0     MlRwTkpBOHdmd1pHeVFGZDBnSkRvSm5fQ1FaekNGQ2NRVD...         2      1   \n",
              "1     WUZwWnFPcFA4TXJ2aHlxdU43aEYxVDltVEtVeVUwWTZzek...         4      1   \n",
              "2     X0RUZHM0bHVRdmdTU1N6WFdvdkdQbnFzS3o3OHFLeEQzMk...         4      1   \n",
              "3     RkNKdkxGeHZnXzRvQ25TUDQ4a25zZE90aTZ6Ml9hZ2FHLT...         2      1   \n",
              "4     LU1JTm5rSGZoOTBKM0Q4Zy1DSVRveGI4NFJfY3JoejRaWV...         3      1   \n",
              "...                                                 ...       ...    ...   \n",
              "3951  R01mY0J5UFdRSG1JcC1rcVRsSmdyczhKT3hqZXNWM1kycF...         0      1   \n",
              "3952  ZDVqakg2SlNocDFrZzBscHJTSDMtdlVLNFEtbHlCU2UyNG...         2      1   \n",
              "3953  amhZQkNhaWZDNWNCR2kzTVdNUkVjWFlzNGtHUjBtOGNMZE...         4      1   \n",
              "3954  Qjc1V3hFQmVxTU55Z1JtemxfeHUtUVdKcmVUNWxMSzRkR3...         2      1   \n",
              "3955  cjA1c1JNc0YxblAtS2NlaEtRNVh2djBmYUg2b3d5VUwtSG...         0      0   \n",
              "\n",
              "      birth_year skin_tone personal_color  worry_1  worry_2  worry_3  worry_4  \\\n",
              "0           2010         2              1        1        0        0        0   \n",
              "1           1980         4              1        0        0        1        1   \n",
              "2           2007         4              1        1        0        0        0   \n",
              "3           1984         1              2        1        1        0        1   \n",
              "4           1995         1              4        0        1        0        1   \n",
              "...          ...       ...            ...      ...      ...      ...      ...   \n",
              "3951        1979         0              0        0        0        0        0   \n",
              "3952        1994         2              1        1        1        1        0   \n",
              "3953        1982         4              3        1        0        0        0   \n",
              "3954        1980         1              4        0        0        1        1   \n",
              "3955        1984         0              0        0        0        0        0   \n",
              "\n",
              "      worry_5  worry_6  worry_7  worry_8  worry_9  worry_10  worry_11  \\\n",
              "0           0        0        0        1        1         0         0   \n",
              "1           0        0        1        1        0         0         0   \n",
              "2           1        0        0        1        0         1         0   \n",
              "3           1        0        0        0        0         0         0   \n",
              "4           0        0        0        0        1         0         0   \n",
              "...       ...      ...      ...      ...      ...       ...       ...   \n",
              "3951        0        0        0        0        0         0         0   \n",
              "3952        0        0        1        1        0         0         0   \n",
              "3953        0        0        1        1        1         0         0   \n",
              "3954        0        0        0        0        1         0         1   \n",
              "3955        0        0        0        0        0         0         0   \n",
              "\n",
              "      worry_12  \n",
              "0            1  \n",
              "1            1  \n",
              "2            1  \n",
              "3            1  \n",
              "4            1  \n",
              "...        ...  \n",
              "3951         0  \n",
              "3952         0  \n",
              "3953         1  \n",
              "3954         1  \n",
              "3955         0  \n",
              "\n",
              "[3956 rows x 18 columns]"
            ]
          },
          "metadata": {
            "tags": []
          },
          "execution_count": 23
        }
      ]
    },
    {
      "cell_type": "code",
      "metadata": {
        "id": "gorgeous-country",
        "outputId": "916053da-5d82-46dc-ab35-4cbf40fbb662"
      },
      "source": [
        "cond1 = (user_info_df['birth_year'] >= 2002)\n",
        "cond2 = (user_info_df['gender']==1)\n",
        "\n",
        "user_info_df.loc[cond1 & cond2, :]"
      ],
      "id": "gorgeous-country",
      "execution_count": null,
      "outputs": [
        {
          "output_type": "execute_result",
          "data": {
            "text/html": [
              "<div>\n",
              "<style scoped>\n",
              "    .dataframe tbody tr th:only-of-type {\n",
              "        vertical-align: middle;\n",
              "    }\n",
              "\n",
              "    .dataframe tbody tr th {\n",
              "        vertical-align: top;\n",
              "    }\n",
              "\n",
              "    .dataframe thead th {\n",
              "        text-align: right;\n",
              "    }\n",
              "</style>\n",
              "<table border=\"1\" class=\"dataframe\">\n",
              "  <thead>\n",
              "    <tr style=\"text-align: right;\">\n",
              "      <th></th>\n",
              "      <th>member_id</th>\n",
              "      <th>skin_type</th>\n",
              "      <th>gender</th>\n",
              "      <th>birth_year</th>\n",
              "      <th>skin_tone</th>\n",
              "      <th>personal_color</th>\n",
              "      <th>worry_1</th>\n",
              "      <th>worry_2</th>\n",
              "      <th>worry_3</th>\n",
              "      <th>worry_4</th>\n",
              "      <th>worry_5</th>\n",
              "      <th>worry_6</th>\n",
              "      <th>worry_7</th>\n",
              "      <th>worry_8</th>\n",
              "      <th>worry_9</th>\n",
              "      <th>worry_10</th>\n",
              "      <th>worry_11</th>\n",
              "      <th>worry_12</th>\n",
              "    </tr>\n",
              "  </thead>\n",
              "  <tbody>\n",
              "  </tbody>\n",
              "</table>\n",
              "</div>"
            ],
            "text/plain": [
              "Empty DataFrame\n",
              "Columns: [member_id, skin_type, gender, birth_year, skin_tone, personal_color, worry_1, worry_2, worry_3, worry_4, worry_5, worry_6, worry_7, worry_8, worry_9, worry_10, worry_11, worry_12]\n",
              "Index: []"
            ]
          },
          "metadata": {
            "tags": []
          },
          "execution_count": 82
        }
      ]
    },
    {
      "cell_type": "code",
      "metadata": {
        "id": "executive-worship",
        "outputId": "8cff1173-157a-431d-95c3-39c66e86d2ed"
      },
      "source": [
        "user_info_df[(user_info_df['gender']=='1') & (user_info_df['birth_year'] > 2002)]"
      ],
      "id": "executive-worship",
      "execution_count": null,
      "outputs": [
        {
          "output_type": "execute_result",
          "data": {
            "text/html": [
              "<div>\n",
              "<style scoped>\n",
              "    .dataframe tbody tr th:only-of-type {\n",
              "        vertical-align: middle;\n",
              "    }\n",
              "\n",
              "    .dataframe tbody tr th {\n",
              "        vertical-align: top;\n",
              "    }\n",
              "\n",
              "    .dataframe thead th {\n",
              "        text-align: right;\n",
              "    }\n",
              "</style>\n",
              "<table border=\"1\" class=\"dataframe\">\n",
              "  <thead>\n",
              "    <tr style=\"text-align: right;\">\n",
              "      <th></th>\n",
              "      <th>member_id</th>\n",
              "      <th>skin_type</th>\n",
              "      <th>gender</th>\n",
              "      <th>birth_year</th>\n",
              "      <th>skin_tone</th>\n",
              "      <th>personal_color</th>\n",
              "      <th>worry_1</th>\n",
              "      <th>worry_2</th>\n",
              "      <th>worry_3</th>\n",
              "      <th>worry_4</th>\n",
              "      <th>worry_5</th>\n",
              "      <th>worry_6</th>\n",
              "      <th>worry_7</th>\n",
              "      <th>worry_8</th>\n",
              "      <th>worry_9</th>\n",
              "      <th>worry_10</th>\n",
              "      <th>worry_11</th>\n",
              "      <th>worry_12</th>\n",
              "    </tr>\n",
              "  </thead>\n",
              "  <tbody>\n",
              "    <tr>\n",
              "      <th>0</th>\n",
              "      <td>MlRwTkpBOHdmd1pHeVFGZDBnSkRvSm5fQ1FaekNGQ2NRVD...</td>\n",
              "      <td>2</td>\n",
              "      <td>1</td>\n",
              "      <td>2010</td>\n",
              "      <td>2</td>\n",
              "      <td>1</td>\n",
              "      <td>1</td>\n",
              "      <td>0</td>\n",
              "      <td>0</td>\n",
              "      <td>0</td>\n",
              "      <td>0</td>\n",
              "      <td>0</td>\n",
              "      <td>0</td>\n",
              "      <td>1</td>\n",
              "      <td>1</td>\n",
              "      <td>0</td>\n",
              "      <td>0</td>\n",
              "      <td>1</td>\n",
              "    </tr>\n",
              "    <tr>\n",
              "      <th>2</th>\n",
              "      <td>X0RUZHM0bHVRdmdTU1N6WFdvdkdQbnFzS3o3OHFLeEQzMk...</td>\n",
              "      <td>4</td>\n",
              "      <td>1</td>\n",
              "      <td>2007</td>\n",
              "      <td>4</td>\n",
              "      <td>1</td>\n",
              "      <td>1</td>\n",
              "      <td>0</td>\n",
              "      <td>0</td>\n",
              "      <td>0</td>\n",
              "      <td>1</td>\n",
              "      <td>0</td>\n",
              "      <td>0</td>\n",
              "      <td>1</td>\n",
              "      <td>0</td>\n",
              "      <td>1</td>\n",
              "      <td>0</td>\n",
              "      <td>1</td>\n",
              "    </tr>\n",
              "    <tr>\n",
              "      <th>6</th>\n",
              "      <td>azdjdzFTTkRtZnVWbVFkZmFMVG5icnpqMzk0QW9YVVJQXz...</td>\n",
              "      <td>3</td>\n",
              "      <td>1</td>\n",
              "      <td>2006</td>\n",
              "      <td>4</td>\n",
              "      <td>3</td>\n",
              "      <td>1</td>\n",
              "      <td>0</td>\n",
              "      <td>1</td>\n",
              "      <td>0</td>\n",
              "      <td>0</td>\n",
              "      <td>1</td>\n",
              "      <td>0</td>\n",
              "      <td>1</td>\n",
              "      <td>0</td>\n",
              "      <td>0</td>\n",
              "      <td>1</td>\n",
              "      <td>0</td>\n",
              "    </tr>\n",
              "    <tr>\n",
              "      <th>12</th>\n",
              "      <td>WkM2OS1NNTJoenNVSURxQVYtYWVtYnVaaS0zTEdxTFpuOU...</td>\n",
              "      <td>0</td>\n",
              "      <td>1</td>\n",
              "      <td>2007</td>\n",
              "      <td>0</td>\n",
              "      <td>0</td>\n",
              "      <td>0</td>\n",
              "      <td>0</td>\n",
              "      <td>0</td>\n",
              "      <td>0</td>\n",
              "      <td>0</td>\n",
              "      <td>0</td>\n",
              "      <td>0</td>\n",
              "      <td>0</td>\n",
              "      <td>0</td>\n",
              "      <td>0</td>\n",
              "      <td>0</td>\n",
              "      <td>0</td>\n",
              "    </tr>\n",
              "    <tr>\n",
              "      <th>16</th>\n",
              "      <td>emtHYzNib25BS2hSRXpidzVOWFpwYXFJMkg0aUhJRThkUD...</td>\n",
              "      <td>4</td>\n",
              "      <td>1</td>\n",
              "      <td>2010</td>\n",
              "      <td>2</td>\n",
              "      <td>3</td>\n",
              "      <td>0</td>\n",
              "      <td>1</td>\n",
              "      <td>1</td>\n",
              "      <td>0</td>\n",
              "      <td>0</td>\n",
              "      <td>0</td>\n",
              "      <td>0</td>\n",
              "      <td>1</td>\n",
              "      <td>0</td>\n",
              "      <td>0</td>\n",
              "      <td>0</td>\n",
              "      <td>1</td>\n",
              "    </tr>\n",
              "    <tr>\n",
              "      <th>...</th>\n",
              "      <td>...</td>\n",
              "      <td>...</td>\n",
              "      <td>...</td>\n",
              "      <td>...</td>\n",
              "      <td>...</td>\n",
              "      <td>...</td>\n",
              "      <td>...</td>\n",
              "      <td>...</td>\n",
              "      <td>...</td>\n",
              "      <td>...</td>\n",
              "      <td>...</td>\n",
              "      <td>...</td>\n",
              "      <td>...</td>\n",
              "      <td>...</td>\n",
              "      <td>...</td>\n",
              "      <td>...</td>\n",
              "      <td>...</td>\n",
              "      <td>...</td>\n",
              "    </tr>\n",
              "    <tr>\n",
              "      <th>3938</th>\n",
              "      <td>UVN5dGtQc01ac3FUOWozek9wM0FubTFraWY4d0RjMTVOdU...</td>\n",
              "      <td>1</td>\n",
              "      <td>1</td>\n",
              "      <td>2006</td>\n",
              "      <td>1</td>\n",
              "      <td>1</td>\n",
              "      <td>0</td>\n",
              "      <td>0</td>\n",
              "      <td>0</td>\n",
              "      <td>0</td>\n",
              "      <td>1</td>\n",
              "      <td>0</td>\n",
              "      <td>0</td>\n",
              "      <td>1</td>\n",
              "      <td>1</td>\n",
              "      <td>1</td>\n",
              "      <td>1</td>\n",
              "      <td>0</td>\n",
              "    </tr>\n",
              "    <tr>\n",
              "      <th>3947</th>\n",
              "      <td>bzdlNVBLSkpyZ2V6dk1ISXlxZG4ycW5ycWVkNl94V2ZGX0...</td>\n",
              "      <td>4</td>\n",
              "      <td>1</td>\n",
              "      <td>2005</td>\n",
              "      <td>4</td>\n",
              "      <td>1</td>\n",
              "      <td>1</td>\n",
              "      <td>0</td>\n",
              "      <td>0</td>\n",
              "      <td>0</td>\n",
              "      <td>1</td>\n",
              "      <td>0</td>\n",
              "      <td>0</td>\n",
              "      <td>0</td>\n",
              "      <td>1</td>\n",
              "      <td>0</td>\n",
              "      <td>0</td>\n",
              "      <td>0</td>\n",
              "    </tr>\n",
              "    <tr>\n",
              "      <th>3948</th>\n",
              "      <td>SDZqYjlFU04yUkN1RzdZX0xVU1lCWmVLcVBqUDdvUERic3...</td>\n",
              "      <td>4</td>\n",
              "      <td>1</td>\n",
              "      <td>2005</td>\n",
              "      <td>4</td>\n",
              "      <td>2</td>\n",
              "      <td>1</td>\n",
              "      <td>0</td>\n",
              "      <td>0</td>\n",
              "      <td>0</td>\n",
              "      <td>0</td>\n",
              "      <td>0</td>\n",
              "      <td>0</td>\n",
              "      <td>1</td>\n",
              "      <td>1</td>\n",
              "      <td>0</td>\n",
              "      <td>0</td>\n",
              "      <td>0</td>\n",
              "    </tr>\n",
              "    <tr>\n",
              "      <th>3949</th>\n",
              "      <td>N05CNWFBb1l0c3BfNDdjUlFOVlZnRVJEYzYwVWRPcWRpdD...</td>\n",
              "      <td>1</td>\n",
              "      <td>1</td>\n",
              "      <td>2007</td>\n",
              "      <td>1</td>\n",
              "      <td>2</td>\n",
              "      <td>1</td>\n",
              "      <td>0</td>\n",
              "      <td>0</td>\n",
              "      <td>0</td>\n",
              "      <td>0</td>\n",
              "      <td>0</td>\n",
              "      <td>1</td>\n",
              "      <td>1</td>\n",
              "      <td>1</td>\n",
              "      <td>0</td>\n",
              "      <td>0</td>\n",
              "      <td>1</td>\n",
              "    </tr>\n",
              "    <tr>\n",
              "      <th>3950</th>\n",
              "      <td>SW00YUpFZkE2dlZvMmItcEo5OWVsemFJcXhiMEFycFBRd0...</td>\n",
              "      <td>3</td>\n",
              "      <td>1</td>\n",
              "      <td>2004</td>\n",
              "      <td>1</td>\n",
              "      <td>2</td>\n",
              "      <td>0</td>\n",
              "      <td>0</td>\n",
              "      <td>0</td>\n",
              "      <td>1</td>\n",
              "      <td>0</td>\n",
              "      <td>0</td>\n",
              "      <td>0</td>\n",
              "      <td>1</td>\n",
              "      <td>0</td>\n",
              "      <td>1</td>\n",
              "      <td>0</td>\n",
              "      <td>0</td>\n",
              "    </tr>\n",
              "  </tbody>\n",
              "</table>\n",
              "<p>1239 rows × 18 columns</p>\n",
              "</div>"
            ],
            "text/plain": [
              "                                              member_id skin_type gender  \\\n",
              "0     MlRwTkpBOHdmd1pHeVFGZDBnSkRvSm5fQ1FaekNGQ2NRVD...         2      1   \n",
              "2     X0RUZHM0bHVRdmdTU1N6WFdvdkdQbnFzS3o3OHFLeEQzMk...         4      1   \n",
              "6     azdjdzFTTkRtZnVWbVFkZmFMVG5icnpqMzk0QW9YVVJQXz...         3      1   \n",
              "12    WkM2OS1NNTJoenNVSURxQVYtYWVtYnVaaS0zTEdxTFpuOU...         0      1   \n",
              "16    emtHYzNib25BS2hSRXpidzVOWFpwYXFJMkg0aUhJRThkUD...         4      1   \n",
              "...                                                 ...       ...    ...   \n",
              "3938  UVN5dGtQc01ac3FUOWozek9wM0FubTFraWY4d0RjMTVOdU...         1      1   \n",
              "3947  bzdlNVBLSkpyZ2V6dk1ISXlxZG4ycW5ycWVkNl94V2ZGX0...         4      1   \n",
              "3948  SDZqYjlFU04yUkN1RzdZX0xVU1lCWmVLcVBqUDdvUERic3...         4      1   \n",
              "3949  N05CNWFBb1l0c3BfNDdjUlFOVlZnRVJEYzYwVWRPcWRpdD...         1      1   \n",
              "3950  SW00YUpFZkE2dlZvMmItcEo5OWVsemFJcXhiMEFycFBRd0...         3      1   \n",
              "\n",
              "      birth_year skin_tone personal_color  worry_1  worry_2  worry_3  worry_4  \\\n",
              "0           2010         2              1        1        0        0        0   \n",
              "2           2007         4              1        1        0        0        0   \n",
              "6           2006         4              3        1        0        1        0   \n",
              "12          2007         0              0        0        0        0        0   \n",
              "16          2010         2              3        0        1        1        0   \n",
              "...          ...       ...            ...      ...      ...      ...      ...   \n",
              "3938        2006         1              1        0        0        0        0   \n",
              "3947        2005         4              1        1        0        0        0   \n",
              "3948        2005         4              2        1        0        0        0   \n",
              "3949        2007         1              2        1        0        0        0   \n",
              "3950        2004         1              2        0        0        0        1   \n",
              "\n",
              "      worry_5  worry_6  worry_7  worry_8  worry_9  worry_10  worry_11  \\\n",
              "0           0        0        0        1        1         0         0   \n",
              "2           1        0        0        1        0         1         0   \n",
              "6           0        1        0        1        0         0         1   \n",
              "12          0        0        0        0        0         0         0   \n",
              "16          0        0        0        1        0         0         0   \n",
              "...       ...      ...      ...      ...      ...       ...       ...   \n",
              "3938        1        0        0        1        1         1         1   \n",
              "3947        1        0        0        0        1         0         0   \n",
              "3948        0        0        0        1        1         0         0   \n",
              "3949        0        0        1        1        1         0         0   \n",
              "3950        0        0        0        1        0         1         0   \n",
              "\n",
              "      worry_12  \n",
              "0            1  \n",
              "2            1  \n",
              "6            0  \n",
              "12           0  \n",
              "16           1  \n",
              "...        ...  \n",
              "3938         0  \n",
              "3947         0  \n",
              "3948         0  \n",
              "3949         1  \n",
              "3950         0  \n",
              "\n",
              "[1239 rows x 18 columns]"
            ]
          },
          "metadata": {
            "tags": []
          },
          "execution_count": 83
        }
      ]
    },
    {
      "cell_type": "markdown",
      "metadata": {
        "id": "superb-diameter"
      },
      "source": [
        "## 5. 모델링"
      ],
      "id": "superb-diameter"
    },
    {
      "cell_type": "markdown",
      "metadata": {
        "id": "stainless-expert"
      },
      "source": [
        "- 유저정보 : user_info_df\n",
        "- 유저아이템매트릭스 : user_item_matrix"
      ],
      "id": "stainless-expert"
    },
    {
      "cell_type": "code",
      "metadata": {
        "id": "turned-steering"
      },
      "source": [
        "# user_info_df\n",
        "\n",
        "# SVD, AutoEncoder\n",
        "\n",
        "# Neural Collaborative filtering\n",
        "\n",
        "# Top 5 ~ 10 "
      ],
      "id": "turned-steering",
      "execution_count": null,
      "outputs": []
    },
    {
      "cell_type": "markdown",
      "metadata": {
        "id": "explicit-thesis"
      },
      "source": [
        "## 8/17 ~ 수정 진행"
      ],
      "id": "explicit-thesis"
    },
    {
      "cell_type": "code",
      "metadata": {
        "id": "olive-pendant"
      },
      "source": [
        "temp = user_item_clikc.copy()\n",
        "temp['Click'] = 1.0\n",
        "temp['Click'] = temp['Click'].astype('float16')\n",
        "\n",
        "# user_item_clikc['Click'] = user_item_clikc['Click'].astype('float32')"
      ],
      "id": "olive-pendant",
      "execution_count": null,
      "outputs": []
    },
    {
      "cell_type": "code",
      "metadata": {
        "id": "identical-chile"
      },
      "source": [
        "def fill_product_id(data):\n",
        "    df = data.copy()\n",
        "    df['Click'] = df['Click'].astype('float16')\n",
        "    result_data = data.copy() # 원본데이터\n",
        "    unique_product_id_list = df['product_id'].unique()\n",
        "    \n",
        "    \n",
        "    for i in tqdm(range(len(df['member_id'].unique()))):\n",
        "        # 멤버 아이디 3900개 별로\n",
        "        unique_member_id = (df['member_id'].unique()[i])\n",
        "\n",
        "        # 그 멤버 아이디에 해다하는 product_id 저장\n",
        "        unique_product_id = df[df['member_id'] == unique_member_id]['product_id'].unique().tolist()\n",
        "\n",
        "        # 차집합\n",
        "        fill_product_id = list(set(unique_product_id_list) - set(unique_product_id))     \n",
        "        \n",
        "        # 데이터 프레임 형성\n",
        "        user_id_list = [unique_member_id] * len(fill_product_id)\n",
        "\n",
        "        result_df = pd.DataFrame({\n",
        "            'member_id': user_id_list,\n",
        "            'product_id': fill_product_id,\n",
        "            'Click' : 0.0})\n",
        "\n",
        "        # 데이터 병합\n",
        "        result_data = result_data.append(result_df, ignore_index = True)\n",
        "    \n",
        "    result_data['Click'] = result_data['Click'].astype('float16')\n",
        "\n",
        "    return result_data"
      ],
      "id": "identical-chile",
      "execution_count": null,
      "outputs": []
    },
    {
      "cell_type": "code",
      "metadata": {
        "id": "boxed-child"
      },
      "source": [
        "final_data = user_item_clikc.copy()\n",
        "final_data['Click'] = 1.0\n",
        "final_data['Click'] = final_data['Click'].astype('float16')\n"
      ],
      "id": "boxed-child",
      "execution_count": null,
      "outputs": []
    },
    {
      "cell_type": "code",
      "metadata": {
        "scrolled": true,
        "id": "equivalent-hybrid",
        "outputId": "f5d82a51-e39c-4a4a-b0ce-33328cadb725"
      },
      "source": [
        "model_data = fill_product_id(final_data)"
      ],
      "id": "equivalent-hybrid",
      "execution_count": null,
      "outputs": [
        {
          "output_type": "stream",
          "text": [
            "100%|██████████| 3956/3956 [33:13<00:00,  1.98it/s]\n"
          ],
          "name": "stderr"
        }
      ]
    },
    {
      "cell_type": "code",
      "metadata": {
        "id": "infectious-amount",
        "outputId": "3fd54e97-65ff-4779-e90d-ceddc33dfff8"
      },
      "source": [
        "model_data.shape"
      ],
      "id": "infectious-amount",
      "execution_count": null,
      "outputs": [
        {
          "output_type": "execute_result",
          "data": {
            "text/plain": [
              "(37384200, 3)"
            ]
          },
          "metadata": {
            "tags": []
          },
          "execution_count": 256
        }
      ]
    },
    {
      "cell_type": "code",
      "metadata": {
        "id": "partial-phrase"
      },
      "source": [
        "model_data.to_csv('./data/model_data.csv', index = False)"
      ],
      "id": "partial-phrase",
      "execution_count": null,
      "outputs": []
    },
    {
      "cell_type": "code",
      "metadata": {
        "id": "designed-cornell",
        "outputId": "0624f1bf-8d2b-400b-ae70-e898298068c9"
      },
      "source": [
        "model_data.info()"
      ],
      "id": "designed-cornell",
      "execution_count": null,
      "outputs": [
        {
          "output_type": "stream",
          "text": [
            "<class 'pandas.core.frame.DataFrame'>\n",
            "RangeIndex: 37384200 entries, 0 to 37384199\n",
            "Data columns (total 3 columns):\n",
            " #   Column      Dtype  \n",
            "---  ------      -----  \n",
            " 0   member_id   object \n",
            " 1   product_id  int64  \n",
            " 2   Click       float16\n",
            "dtypes: float16(1), int64(1), object(1)\n",
            "memory usage: 641.7+ MB\n"
          ],
          "name": "stdout"
        }
      ]
    },
    {
      "cell_type": "code",
      "metadata": {
        "id": "empirical-possibility",
        "outputId": "06941359-4e9f-4e53-90d5-f89256a8466b"
      },
      "source": [
        "model_data.head()"
      ],
      "id": "empirical-possibility",
      "execution_count": null,
      "outputs": [
        {
          "output_type": "execute_result",
          "data": {
            "text/html": [
              "<div>\n",
              "<style scoped>\n",
              "    .dataframe tbody tr th:only-of-type {\n",
              "        vertical-align: middle;\n",
              "    }\n",
              "\n",
              "    .dataframe tbody tr th {\n",
              "        vertical-align: top;\n",
              "    }\n",
              "\n",
              "    .dataframe thead th {\n",
              "        text-align: right;\n",
              "    }\n",
              "</style>\n",
              "<table border=\"1\" class=\"dataframe\">\n",
              "  <thead>\n",
              "    <tr style=\"text-align: right;\">\n",
              "      <th></th>\n",
              "      <th>member_id</th>\n",
              "      <th>product_id</th>\n",
              "      <th>Click</th>\n",
              "    </tr>\n",
              "  </thead>\n",
              "  <tbody>\n",
              "    <tr>\n",
              "      <th>0</th>\n",
              "      <td>MlRwTkpBOHdmd1pHeVFGZDBnSkRvSm5fQ1FaekNGQ2NRVD...</td>\n",
              "      <td>2816</td>\n",
              "      <td>1.0</td>\n",
              "    </tr>\n",
              "    <tr>\n",
              "      <th>1</th>\n",
              "      <td>MlRwTkpBOHdmd1pHeVFGZDBnSkRvSm5fQ1FaekNGQ2NRVD...</td>\n",
              "      <td>3593</td>\n",
              "      <td>1.0</td>\n",
              "    </tr>\n",
              "    <tr>\n",
              "      <th>2</th>\n",
              "      <td>MlRwTkpBOHdmd1pHeVFGZDBnSkRvSm5fQ1FaekNGQ2NRVD...</td>\n",
              "      <td>5958</td>\n",
              "      <td>1.0</td>\n",
              "    </tr>\n",
              "    <tr>\n",
              "      <th>3</th>\n",
              "      <td>MlRwTkpBOHdmd1pHeVFGZDBnSkRvSm5fQ1FaekNGQ2NRVD...</td>\n",
              "      <td>37334</td>\n",
              "      <td>1.0</td>\n",
              "    </tr>\n",
              "    <tr>\n",
              "      <th>4</th>\n",
              "      <td>MlRwTkpBOHdmd1pHeVFGZDBnSkRvSm5fQ1FaekNGQ2NRVD...</td>\n",
              "      <td>8748</td>\n",
              "      <td>1.0</td>\n",
              "    </tr>\n",
              "  </tbody>\n",
              "</table>\n",
              "</div>"
            ],
            "text/plain": [
              "                                           member_id  product_id  Click\n",
              "0  MlRwTkpBOHdmd1pHeVFGZDBnSkRvSm5fQ1FaekNGQ2NRVD...        2816    1.0\n",
              "1  MlRwTkpBOHdmd1pHeVFGZDBnSkRvSm5fQ1FaekNGQ2NRVD...        3593    1.0\n",
              "2  MlRwTkpBOHdmd1pHeVFGZDBnSkRvSm5fQ1FaekNGQ2NRVD...        5958    1.0\n",
              "3  MlRwTkpBOHdmd1pHeVFGZDBnSkRvSm5fQ1FaekNGQ2NRVD...       37334    1.0\n",
              "4  MlRwTkpBOHdmd1pHeVFGZDBnSkRvSm5fQ1FaekNGQ2NRVD...        8748    1.0"
            ]
          },
          "metadata": {
            "tags": []
          },
          "execution_count": 265
        }
      ]
    },
    {
      "cell_type": "code",
      "metadata": {
        "id": "muslim-resort",
        "outputId": "50da104e-87d1-4fd7-e20c-ef3d3ee56cfb"
      },
      "source": [
        "model_data['Click'].value_counts()"
      ],
      "id": "muslim-resort",
      "execution_count": null,
      "outputs": [
        {
          "output_type": "execute_result",
          "data": {
            "text/plain": [
              "0.0    37358185\n",
              "1.0       26015\n",
              "Name: Click, dtype: int64"
            ]
          },
          "metadata": {
            "tags": []
          },
          "execution_count": 267
        }
      ]
    },
    {
      "cell_type": "markdown",
      "metadata": {
        "id": "extensive-portsmouth"
      },
      "source": [
        "## 8/17 ~ 수정 진행"
      ],
      "id": "extensive-portsmouth"
    },
    {
      "cell_type": "markdown",
      "metadata": {
        "id": "returning-roulette"
      },
      "source": [
        "# 8/14 모델링 테스트"
      ],
      "id": "returning-roulette"
    },
    {
      "cell_type": "code",
      "metadata": {
        "id": "czech-calibration",
        "outputId": "0fb2add2-a1a2-4049-a383-457475a01fe3"
      },
      "source": [
        "user_item_clikc['Click'] = [i if i <= 3 else 3 for i in user_item_clikc['Click']] # 3 이상은 무조건 3\n",
        "user_item_clikc['Click'].value_counts()"
      ],
      "id": "czech-calibration",
      "execution_count": null,
      "outputs": [
        {
          "output_type": "execute_result",
          "data": {
            "text/plain": [
              "1.0    14871\n",
              "2.0     8683\n",
              "3.0     2461\n",
              "Name: Click, dtype: int64"
            ]
          },
          "metadata": {
            "tags": []
          },
          "execution_count": 25
        }
      ]
    },
    {
      "cell_type": "code",
      "metadata": {
        "id": "sustained-ethics"
      },
      "source": [
        "user_item_clikc.to_csv('./data/clicks.csv', index = False)"
      ],
      "id": "sustained-ethics",
      "execution_count": null,
      "outputs": []
    },
    {
      "cell_type": "code",
      "metadata": {
        "scrolled": true,
        "id": "drawn-metabolism"
      },
      "source": [
        "data_path = \"/content/drive/MyDrive/data/\"\n",
        "\n",
        "def read_data(data_path):\n",
        "    df = pd.read_csv(os.path.join(data_path,'model_data.csv')) # clicks.csv \n",
        "    train_df, val_df = train_test_split(df, test_size=0.2, random_state=1234, shuffle=True)\n",
        "    return train_df, val_df\n",
        "\n"
      ],
      "id": "drawn-metabolism",
      "execution_count": null,
      "outputs": []
    },
    {
      "cell_type": "code",
      "metadata": {
        "id": "YvXJw4eD92Vj"
      },
      "source": [
        "train_df, val_df = read_data(data_path)\n",
        "\n",
        "print(train_df.shape, val_df.shape)\n",
        "train_df.head()"
      ],
      "id": "YvXJw4eD92Vj",
      "execution_count": null,
      "outputs": []
    },
    {
      "cell_type": "code",
      "metadata": {
        "id": "flying-promotion",
        "outputId": "1df4bb7b-1821-46e6-d0fb-8117c9335632"
      },
      "source": [
        "fig, ax = plt.subplots(1, 2, sharex='col', sharey='row', figsize=(12,7))\n",
        "ax = ax.ravel()\n",
        "\n",
        "train_df['Click'].hist(ax=ax[0])\n",
        "val_df['Click'].hist(ax=ax[1])"
      ],
      "id": "flying-promotion",
      "execution_count": null,
      "outputs": [
        {
          "output_type": "execute_result",
          "data": {
            "text/plain": [
              "<AxesSubplot:>"
            ]
          },
          "metadata": {
            "tags": []
          },
          "execution_count": 28
        },
        {
          "output_type": "display_data",
          "data": {
            "image/png": "[encoded data removed]",
            "text/plain": [
              "<Figure size 864x504 with 2 Axes>"
            ]
          },
          "metadata": {
            "tags": [],
            "needs_background": "light"
          }
        }
      ]
    },
    {
      "cell_type": "code",
      "metadata": {
        "id": "flush-bread",
        "outputId": "9d3c989d-0423-4afb-a7b0-ac823609b3ac"
      },
      "source": [
        "train_df['Click'].describe()"
      ],
      "id": "flush-bread",
      "execution_count": null,
      "outputs": [
        {
          "output_type": "execute_result",
          "data": {
            "text/plain": [
              "count    20812.000000\n",
              "mean         1.524169\n",
              "std          0.663108\n",
              "min          1.000000\n",
              "25%          1.000000\n",
              "50%          1.000000\n",
              "75%          2.000000\n",
              "max          3.000000\n",
              "Name: Click, dtype: float64"
            ]
          },
          "metadata": {
            "tags": []
          },
          "execution_count": 29
        }
      ]
    },
    {
      "cell_type": "markdown",
      "metadata": {
        "id": "exotic-enclosure"
      },
      "source": [
        "# Dataset Loader(member_id,  product_id, Click)"
      ],
      "id": "exotic-enclosure"
    },
    {
      "cell_type": "code",
      "metadata": {
        "colab": {
          "base_uri": "https://localhost:8080/"
        },
        "id": "EVgBCPtEhNOE",
        "outputId": "0a73ab4c-f279-4e6d-8ce5-537e60a1afba"
      },
      "source": [
        "from google.colab import drive\n",
        "drive.mount('/content/drive')\n",
        "\n",
        "import pandas as pd\n",
        "import numpy as np\n",
        "from tqdm import tqdm\n",
        "import os\n",
        "\n",
        "import seaborn as sns\n",
        "import matplotlib.pyplot as plt\n",
        "\n",
        "from sklearn.preprocessing import LabelEncoder\n",
        "from sklearn.model_selection import train_test_split\n",
        "\n",
        "import math\n",
        "from torch import nn, optim\n",
        "import torch\n",
        "import torch.nn.functional as F\n",
        "from torch.autograd import Variable\n",
        "\n",
        "from tqdm import tqdm\n",
        "\n",
        "import warnings\n",
        "warnings.filterwarnings('ignore')"
      ],
      "id": "EVgBCPtEhNOE",
      "execution_count": 1,
      "outputs": [
        {
          "output_type": "stream",
          "text": [
            "Drive already mounted at /content/drive; to attempt to forcibly remount, call drive.mount(\"/content/drive\", force_remount=True).\n"
          ],
          "name": "stdout"
        }
      ]
    },
    {
      "cell_type": "code",
      "metadata": {
        "id": "1Ibv6akI8Anp"
      },
      "source": [
        "data_path = \"/content/drive/MyDrive/data/\"\n",
        "\n",
        "def read_data(data_path):\n",
        "    df = pd.read_csv(os.path.join(data_path,'model_data.csv')) # clicks.csv \n",
        "    train_df, val_df = train_test_split(df, test_size=0.2, random_state=1234, shuffle=True)\n",
        "    return train_df, val_df\n",
        "\n"
      ],
      "id": "1Ibv6akI8Anp",
      "execution_count": 2,
      "outputs": []
    },
    {
      "cell_type": "code",
      "metadata": {
        "colab": {
          "base_uri": "https://localhost:8080/"
        },
        "id": "fXBuFfN79Hny",
        "outputId": "5ff5a57a-2668-4835-84c0-be0f5af5854a"
      },
      "source": [
        "torch.device('cuda:0' if torch.cuda.is_available() else 'cpu') "
      ],
      "id": "fXBuFfN79Hny",
      "execution_count": 3,
      "outputs": [
        {
          "output_type": "execute_result",
          "data": {
            "text/plain": [
              "device(type='cuda', index=0)"
            ]
          },
          "metadata": {},
          "execution_count": 3
        }
      ]
    },
    {
      "cell_type": "code",
      "metadata": {
        "id": "powerful-healthcare"
      },
      "source": [
        "class DatasetLoader:\n",
        "    def __init__(self, data_path):\n",
        "        self.train_df, val_temp_df = read_data(data_path)\n",
        "\n",
        "        # 최소 최대 범위 정의\n",
        "        self.min_rating = min(self.train_df.Click)\n",
        "        self.max_rating = self.train_df.Click.max()\n",
        "\n",
        "        self.unique_users = self.train_df.member_id.unique()\n",
        "        self.num_users = len(self.unique_users)\n",
        "        self.user_to_index = {original: idx for idx, original in enumerate(self.unique_users)}\n",
        "        # 0 1 0 0 0 ... 0\n",
        "\n",
        "        self.unique_products = self.train_df.product_id.unique()\n",
        "        self.num_products = len(self.unique_products)\n",
        "        self.product_to_index = {original: idx for idx, original in enumerate(self.unique_products)}\n",
        "\n",
        "        self.val_df = val_temp_df[val_temp_df.member_id.isin(self.unique_users) & val_temp_df.product_id.isin(self.unique_products)]\n",
        "\n",
        "    def generate_trainset(self):\n",
        "        # user 0, 0, 0, 1,2, 3,3, -> product : 0,0,0,0,0,0,\n",
        "        X_train = pd.DataFrame({'member_id': self.train_df.member_id.map(self.user_to_index),\n",
        "                     'product_id': self.train_df.product_id.map(self.product_to_index)})\n",
        "        y_train = self.train_df['Click'].astype(np.float16)\n",
        "\n",
        "        return X_train, y_train\n",
        "\n",
        "    def generate_valset(self):\n",
        "        X_val = pd.DataFrame({'member_id': self.val_df.member_id.map(self.user_to_index),\n",
        "                              'product_id': self.val_df.product_id.map(self.product_to_index)})\n",
        "        y_val = self.val_df['Click'].astype(np.float16)\n",
        "        return X_val, y_val"
      ],
      "id": "powerful-healthcare",
      "execution_count": 4,
      "outputs": []
    },
    {
      "cell_type": "code",
      "metadata": {
        "id": "frank-profit"
      },
      "source": [
        "class FeedForwardEmbedNN(nn.Module):\n",
        "\n",
        "    def __init__(self, n_users, n_products, hidden, dropouts, n_factors, embedding_dropout):\n",
        "        super().__init__()\n",
        "        self.user_emb = nn.Embedding(n_users, n_factors)\n",
        "        self.product_emb = nn.Embedding(n_products, n_factors)\n",
        "        self.drop = nn.Dropout(embedding_dropout)\n",
        "        self.hidden_layers = nn.Sequential(*list(self.generate_layers(n_factors*2, hidden, dropouts)))\n",
        "        self.fc = nn.Linear(hidden[-1], 1)\n",
        "\n",
        "    def generate_layers(self, n_factors, hidden, dropouts):\n",
        "        assert len(dropouts) == len(hidden)\n",
        "\n",
        "        idx = 0\n",
        "        while idx < len(hidden):\n",
        "            if idx == 0:\n",
        "                yield nn.Linear(n_factors, hidden[idx])\n",
        "            else:\n",
        "                yield nn.Linear(hidden[idx-1], hidden[idx])\n",
        "            yield nn.ReLU()\n",
        "            yield nn.Dropout(dropouts[idx])\n",
        "\n",
        "            idx += 1\n",
        "\n",
        "    def forward(self, users, products, min_rating=0.5, max_rating=5):\n",
        "        concat_features = torch.cat([self.user_emb(users), self.product_emb(products)], dim=1)\n",
        "        x = F.relu(self.hidden_layers(concat_features))\n",
        "        # 0과 1사이의 숫자로 나타낸다\n",
        "        out = torch.sigmoid(self.fc(x))\n",
        "        # rating으로 변환한다\n",
        "        out = (out * (max_rating - min_rating)) + min_rating\n",
        "\n",
        "        return out\n",
        "\n",
        "    def predict(self, users, products):\n",
        "        # return the score\n",
        "        output_scores = self.forward(users, products)\n",
        "        return output_scores"
      ],
      "id": "frank-profit",
      "execution_count": 5,
      "outputs": []
    },
    {
      "cell_type": "code",
      "metadata": {
        "id": "integrated-sigma"
      },
      "source": [
        "class BatchIterator:\n",
        "\n",
        "    def __init__(self, X, y, batch_size=32, shuffle=True):\n",
        "        X, y = np.asarray(X), np.asarray(y)\n",
        "\n",
        "        if shuffle:\n",
        "            index = np.random.permutation(X.shape[0])\n",
        "            X, y = X[index], y[index]\n",
        "\n",
        "        self.X = X\n",
        "        self.y = y\n",
        "        self.batch_size = batch_size\n",
        "        self.shuffle = shuffle\n",
        "        self.n_batches = int(math.ceil(X.shape[0] // batch_size))\n",
        "        self._current = 0\n",
        "\n",
        "    def __iter__(self):\n",
        "        return self\n",
        "\n",
        "    def __next__(self):\n",
        "        return self.next()\n",
        "\n",
        "    def next(self):\n",
        "        if self._current >= self.n_batches:\n",
        "            raise StopIteration()\n",
        "        k = self._current\n",
        "        self._current += 1\n",
        "        bs = self.batch_size\n",
        "        return self.X[k * bs:(k + 1) * bs], self.y[k * bs:(k + 1) * bs]\n"
      ],
      "id": "integrated-sigma",
      "execution_count": 6,
      "outputs": []
    },
    {
      "cell_type": "code",
      "metadata": {
        "id": "accomplished-courage"
      },
      "source": [
        "def batches(X, y, bs=32, shuffle=True):\n",
        "    for x_batch, y_batch in BatchIterator(X, y, bs, shuffle):\n",
        "        x_batch = torch.LongTensor(x_batch)\n",
        "        y_batch = torch.FloatTensor(y_batch)\n",
        "        yield x_batch, y_batch.view(-1, 1)"
      ],
      "id": "accomplished-courage",
      "execution_count": 7,
      "outputs": []
    },
    {
      "cell_type": "markdown",
      "metadata": {
        "id": "referenced-wallpaper"
      },
      "source": [
        "# Train"
      ],
      "id": "referenced-wallpaper"
    },
    {
      "cell_type": "code",
      "metadata": {
        "id": "developmental-language"
      },
      "source": [
        "def model_train(ds, config):\n",
        "    device = torch.device('cuda:0' if torch.cuda.is_available() else 'cpu') # GPU 설정\n",
        "\n",
        "    X_train, y_train = ds.generate_trainset()\n",
        "    X_valid, y_valid = ds.generate_valset()\n",
        "    print(f'TrainSet Info: {ds.num_users} users, {ds.num_products} products')\n",
        "\n",
        "    model = FeedForwardEmbedNN(\n",
        "        n_users=ds.num_users, n_products=ds.num_products,\n",
        "        n_factors=config['num_factors'], hidden=config['hidden_layers'],\n",
        "        embedding_dropout=config['embedding_dropout'], dropouts=config['dropouts']\n",
        "    )\n",
        "    \n",
        "    ##########################################\n",
        "    \n",
        "    model.to(device) # GPU 설정\n",
        "\n",
        "    batch_size = config['batch_size']\n",
        "    num_epochs = config['num_epochs']\n",
        "    max_patience = config['total_patience']\n",
        "    num_patience = 0\n",
        "    best_loss = np.inf\n",
        "\n",
        "    criterion = nn.MSELoss(reduction='sum')\n",
        "    criterion.to(device)\n",
        "    optimizer = optim.Adam(model.parameters(), lr=config['learning_rate'], weight_decay=config['weight_decay'])\n",
        "\n",
        "    result = dict()\n",
        "    for epoch in tqdm(range(num_epochs)):\n",
        "        training_loss = 0.0\n",
        "        for batch in batches(X_train, y_train, shuffle=True, bs=batch_size):\n",
        "            x_batch, y_batch = [b.to(device) for b in batch]\n",
        "            optimizer.zero_grad()\n",
        "            # with torch.no_grad() 와 동일한 syntax 입니다\n",
        "            with torch.set_grad_enabled(True):\n",
        "                outputs = model(x_batch[:, 0], x_batch[:, 1], ds.min_rating, ds.max_rating)\n",
        "                loss = criterion(outputs, y_batch)\n",
        "                loss.backward()\n",
        "                optimizer.step()\n",
        "            training_loss += loss.item()\n",
        "        result['train'] = training_loss / len(X_train)\n",
        "\n",
        "        # Apply Early Stopping criteria and save best model params\n",
        "        val_outputs = model(torch.LongTensor(X_valid.member_id.values).to(device),\n",
        "                            torch.LongTensor(X_valid.product_id.values).to(device), ds.min_rating, ds.max_rating)\n",
        "        val_loss = criterion(val_outputs.to(device), torch.FloatTensor(y_valid.values).view(-1, 1).to(device))\n",
        "        result['val'] = float((val_loss / len(X_valid)).data)\n",
        "\n",
        "        if val_loss < best_loss:\n",
        "            print('Save new model on epoch: %d' % (epoch + 1))\n",
        "            best_loss = val_loss\n",
        "            result['best_loss'] = val_loss\n",
        "            torch.save(model.state_dict(), config['save_path'])\n",
        "            num_patience = 0\n",
        "        else:\n",
        "            num_patience += 1\n",
        "\n",
        "        print(f'[epoch: {epoch+1}] train: {result[\"train\"]} - val: {result[\"val\"]}')\n",
        "\n",
        "        if num_patience >= max_patience:\n",
        "            print(f\"Early Stopped after epoch {epoch+1}\")\n",
        "            break\n",
        "\n",
        "    return result"
      ],
      "id": "developmental-language",
      "execution_count": 8,
      "outputs": []
    },
    {
      "cell_type": "code",
      "metadata": {
        "id": "encouraging-rugby"
      },
      "source": [
        "def model_valid(user_id_list, product_id_list, data_path):\n",
        "    dataset = DatasetLoader(data_path)\n",
        "    processed_test_input_df = pd.DataFrame({\n",
        "        'member_id': [dataset.user_to_index[x] for x in user_id_list],\n",
        "        'product_id': [dataset.product_to_index[x] for x in product_id_list]\n",
        "    })\n",
        "\n",
        "    # 학습한 모델 load하기 \n",
        "    my_model = FeedForwardEmbedNN(dataset.num_users, dataset.num_products,\n",
        "                       config['hidden_layers'], config['dropouts'], config['num_factors'], config['embedding_dropout'])\n",
        "    my_model.load_state_dict(torch.load('params.data'))\n",
        "    prediction_outputs = my_model.predict(users=torch.LongTensor(processed_test_input_df.member_id.values),\n",
        "                     products=torch.LongTensor(processed_test_input_df.product_id.values))\n",
        "\n",
        "    return prediction_outputs"
      ],
      "id": "encouraging-rugby",
      "execution_count": 9,
      "outputs": []
    },
    {
      "cell_type": "code",
      "metadata": {
        "id": "identical-medium"
      },
      "source": [
        "dataset = DatasetLoader(data_path)"
      ],
      "id": "identical-medium",
      "execution_count": 10,
      "outputs": []
    },
    {
      "cell_type": "code",
      "metadata": {
        "id": "affiliated-agriculture"
      },
      "source": [
        "config = {\n",
        "  \"num_factors\": 16,\n",
        "  \"hidden_layers\": [64, 32, 16],\n",
        "  \"embedding_dropout\": 0.05,\n",
        "  \"dropouts\": [0.3, 0.3, 0.3],\n",
        "  \"learning_rate\": 1e-3,\n",
        "  \"weight_decay\": 1e-5,\n",
        "  \"batch_size\": 512,\n",
        "  \"num_epochs\": 1,                # 에폭 및 배치 조정\n",
        "  \"total_patience\": 30,\n",
        "  \"save_path\": \"params.data\"\n",
        "}"
      ],
      "id": "affiliated-agriculture",
      "execution_count": 11,
      "outputs": []
    },
    {
      "cell_type": "code",
      "metadata": {
        "colab": {
          "base_uri": "https://localhost:8080/"
        },
        "id": "parliamentary-report",
        "outputId": "aaa7f78a-0f17-4eb1-cf8e-793a64d4f5c0"
      },
      "source": [
        "model_train(dataset, config)"
      ],
      "id": "parliamentary-report",
      "execution_count": 12,
      "outputs": [
        {
          "output_type": "stream",
          "text": [
            "TrainSet Info: 3956 users, 9450 products\n"
          ],
          "name": "stdout"
        },
        {
          "output_type": "stream",
          "text": [
            "100%|██████████| 1/1 [03:32<00:00, 212.96s/it]"
          ],
          "name": "stderr"
        },
        {
          "output_type": "stream",
          "text": [
            "Save new model on epoch: 1\n",
            "[epoch: 1] train: 0.0008494620425009348 - val: 0.000669816683512181\n"
          ],
          "name": "stdout"
        },
        {
          "output_type": "stream",
          "text": [
            "\n"
          ],
          "name": "stderr"
        },
        {
          "output_type": "execute_result",
          "data": {
            "text/plain": [
              "{'best_loss': tensor(5008.1123, device='cuda:0', grad_fn=<MseLossBackward>),\n",
              " 'train': 0.0008494620425009348,\n",
              " 'val': 0.000669816683512181}"
            ]
          },
          "metadata": {},
          "execution_count": 12
        }
      ]
    },
    {
      "cell_type": "code",
      "metadata": {
        "colab": {
          "base_uri": "https://localhost:8080/",
          "height": 222
        },
        "id": "0o_vDpifV9a6",
        "outputId": "0823545f-18ce-445f-a1b5-34a3221e86f6"
      },
      "source": [
        "train_df, val_df = read_data(data_path)\n",
        "\n",
        "print(train_df.shape, val_df.shape)\n",
        "train_df.head()"
      ],
      "id": "0o_vDpifV9a6",
      "execution_count": 13,
      "outputs": [
        {
          "output_type": "stream",
          "text": [
            "(29907360, 3) (7476840, 3)\n"
          ],
          "name": "stdout"
        },
        {
          "output_type": "execute_result",
          "data": {
            "text/html": [
              "<div>\n",
              "<style scoped>\n",
              "    .dataframe tbody tr th:only-of-type {\n",
              "        vertical-align: middle;\n",
              "    }\n",
              "\n",
              "    .dataframe tbody tr th {\n",
              "        vertical-align: top;\n",
              "    }\n",
              "\n",
              "    .dataframe thead th {\n",
              "        text-align: right;\n",
              "    }\n",
              "</style>\n",
              "<table border=\"1\" class=\"dataframe\">\n",
              "  <thead>\n",
              "    <tr style=\"text-align: right;\">\n",
              "      <th></th>\n",
              "      <th>member_id</th>\n",
              "      <th>product_id</th>\n",
              "      <th>Click</th>\n",
              "    </tr>\n",
              "  </thead>\n",
              "  <tbody>\n",
              "    <tr>\n",
              "      <th>1233313</th>\n",
              "      <td>b2JRQjJicUxLdzdRLXFwUTU0ZUtlYTFMNW9sZkNWNzlFNk...</td>\n",
              "      <td>21411</td>\n",
              "      <td>0.0</td>\n",
              "    </tr>\n",
              "    <tr>\n",
              "      <th>9975209</th>\n",
              "      <td>b3QwMnF4cnNHdmNIaXlsVTAzcDhEVnJuU25Ta19UWERVbX...</td>\n",
              "      <td>5468</td>\n",
              "      <td>0.0</td>\n",
              "    </tr>\n",
              "    <tr>\n",
              "      <th>27879964</th>\n",
              "      <td>Ty1vZi1WRkJyY0MwLWNoYjJLbUU0VWRIU2FrUDg0UTIyWk...</td>\n",
              "      <td>1791</td>\n",
              "      <td>0.0</td>\n",
              "    </tr>\n",
              "    <tr>\n",
              "      <th>24540249</th>\n",
              "      <td>UERrWUEteFNlR2xKMHJ0amEtVDlmTmt1N1FxdlhpQy02QV...</td>\n",
              "      <td>40480</td>\n",
              "      <td>0.0</td>\n",
              "    </tr>\n",
              "    <tr>\n",
              "      <th>5870084</th>\n",
              "      <td>Vm84NVo1OWtkQnlSRW9rTkUtMDVvZUY0dVkxcERSS20xOD...</td>\n",
              "      <td>17531</td>\n",
              "      <td>0.0</td>\n",
              "    </tr>\n",
              "  </tbody>\n",
              "</table>\n",
              "</div>"
            ],
            "text/plain": [
              "                                                  member_id  product_id  Click\n",
              "1233313   b2JRQjJicUxLdzdRLXFwUTU0ZUtlYTFMNW9sZkNWNzlFNk...       21411    0.0\n",
              "9975209   b3QwMnF4cnNHdmNIaXlsVTAzcDhEVnJuU25Ta19UWERVbX...        5468    0.0\n",
              "27879964  Ty1vZi1WRkJyY0MwLWNoYjJLbUU0VWRIU2FrUDg0UTIyWk...        1791    0.0\n",
              "24540249  UERrWUEteFNlR2xKMHJ0amEtVDlmTmt1N1FxdlhpQy02QV...       40480    0.0\n",
              "5870084   Vm84NVo1OWtkQnlSRW9rTkUtMDVvZUY0dVkxcERSS20xOD...       17531    0.0"
            ]
          },
          "metadata": {},
          "execution_count": 13
        }
      ]
    },
    {
      "cell_type": "code",
      "metadata": {
        "id": "square-snapshot",
        "colab": {
          "base_uri": "https://localhost:8080/",
          "height": 359
        },
        "outputId": "18ab56ec-2071-419a-f98e-1377350b4fa9"
      },
      "source": [
        "product_id_list = val_df['product_id'].unique().tolist() # 전체 아이템 9,450 개\n",
        "member_id = val_df['member_id'].unique().tolist()[3272]     # 특정 유저   1명\n",
        "user_id_list = [member_id] * len(product_id_list)\n",
        "pred_results = [float(x) for x in model_valid(user_id_list, product_id_list, data_path)]\n",
        "\n",
        "result_df = pd.DataFrame({\n",
        "    'member_Id': user_id_list,\n",
        "    'product_Id': product_id_list,\n",
        "    # 'movieName': [movieName_dict[x] for x in product_id_list],  # <- user or product info meta data # 메타정보 추가하여 확인\n",
        "    # 'genres': [genres_dict[x] for x in product_id_list],\n",
        "    'pred_clicks': pred_results\n",
        "})\n",
        "\n",
        "result_df.sort_values(by='pred_clicks', ascending=False)[:10]"
      ],
      "id": "square-snapshot",
      "execution_count": 38,
      "outputs": [
        {
          "output_type": "execute_result",
          "data": {
            "text/html": [
              "<div>\n",
              "<style scoped>\n",
              "    .dataframe tbody tr th:only-of-type {\n",
              "        vertical-align: middle;\n",
              "    }\n",
              "\n",
              "    .dataframe tbody tr th {\n",
              "        vertical-align: top;\n",
              "    }\n",
              "\n",
              "    .dataframe thead th {\n",
              "        text-align: right;\n",
              "    }\n",
              "</style>\n",
              "<table border=\"1\" class=\"dataframe\">\n",
              "  <thead>\n",
              "    <tr style=\"text-align: right;\">\n",
              "      <th></th>\n",
              "      <th>member_Id</th>\n",
              "      <th>product_Id</th>\n",
              "      <th>pred_clicks</th>\n",
              "    </tr>\n",
              "  </thead>\n",
              "  <tbody>\n",
              "    <tr>\n",
              "      <th>4548</th>\n",
              "      <td>ajBKLVRDTFB0TV8wbjBjSXZfMVFyTGRrRExRTWsxTkM2Tz...</td>\n",
              "      <td>8641</td>\n",
              "      <td>0.882277</td>\n",
              "    </tr>\n",
              "    <tr>\n",
              "      <th>663</th>\n",
              "      <td>ajBKLVRDTFB0TV8wbjBjSXZfMVFyTGRrRExRTWsxTkM2Tz...</td>\n",
              "      <td>37252</td>\n",
              "      <td>0.750425</td>\n",
              "    </tr>\n",
              "    <tr>\n",
              "      <th>1225</th>\n",
              "      <td>ajBKLVRDTFB0TV8wbjBjSXZfMVFyTGRrRExRTWsxTkM2Tz...</td>\n",
              "      <td>6614</td>\n",
              "      <td>0.719345</td>\n",
              "    </tr>\n",
              "    <tr>\n",
              "      <th>9039</th>\n",
              "      <td>ajBKLVRDTFB0TV8wbjBjSXZfMVFyTGRrRExRTWsxTkM2Tz...</td>\n",
              "      <td>2816</td>\n",
              "      <td>0.709849</td>\n",
              "    </tr>\n",
              "    <tr>\n",
              "      <th>3762</th>\n",
              "      <td>ajBKLVRDTFB0TV8wbjBjSXZfMVFyTGRrRExRTWsxTkM2Tz...</td>\n",
              "      <td>3972</td>\n",
              "      <td>0.659499</td>\n",
              "    </tr>\n",
              "    <tr>\n",
              "      <th>3352</th>\n",
              "      <td>ajBKLVRDTFB0TV8wbjBjSXZfMVFyTGRrRExRTWsxTkM2Tz...</td>\n",
              "      <td>6129</td>\n",
              "      <td>0.655615</td>\n",
              "    </tr>\n",
              "    <tr>\n",
              "      <th>5514</th>\n",
              "      <td>ajBKLVRDTFB0TV8wbjBjSXZfMVFyTGRrRExRTWsxTkM2Tz...</td>\n",
              "      <td>2627</td>\n",
              "      <td>0.632182</td>\n",
              "    </tr>\n",
              "    <tr>\n",
              "      <th>9252</th>\n",
              "      <td>ajBKLVRDTFB0TV8wbjBjSXZfMVFyTGRrRExRTWsxTkM2Tz...</td>\n",
              "      <td>37465</td>\n",
              "      <td>0.629920</td>\n",
              "    </tr>\n",
              "    <tr>\n",
              "      <th>6206</th>\n",
              "      <td>ajBKLVRDTFB0TV8wbjBjSXZfMVFyTGRrRExRTWsxTkM2Tz...</td>\n",
              "      <td>41369</td>\n",
              "      <td>0.595561</td>\n",
              "    </tr>\n",
              "    <tr>\n",
              "      <th>1178</th>\n",
              "      <td>ajBKLVRDTFB0TV8wbjBjSXZfMVFyTGRrRExRTWsxTkM2Tz...</td>\n",
              "      <td>2028</td>\n",
              "      <td>0.584656</td>\n",
              "    </tr>\n",
              "  </tbody>\n",
              "</table>\n",
              "</div>"
            ],
            "text/plain": [
              "                                              member_Id  ...  pred_clicks\n",
              "4548  ajBKLVRDTFB0TV8wbjBjSXZfMVFyTGRrRExRTWsxTkM2Tz...  ...     0.882277\n",
              "663   ajBKLVRDTFB0TV8wbjBjSXZfMVFyTGRrRExRTWsxTkM2Tz...  ...     0.750425\n",
              "1225  ajBKLVRDTFB0TV8wbjBjSXZfMVFyTGRrRExRTWsxTkM2Tz...  ...     0.719345\n",
              "9039  ajBKLVRDTFB0TV8wbjBjSXZfMVFyTGRrRExRTWsxTkM2Tz...  ...     0.709849\n",
              "3762  ajBKLVRDTFB0TV8wbjBjSXZfMVFyTGRrRExRTWsxTkM2Tz...  ...     0.659499\n",
              "3352  ajBKLVRDTFB0TV8wbjBjSXZfMVFyTGRrRExRTWsxTkM2Tz...  ...     0.655615\n",
              "5514  ajBKLVRDTFB0TV8wbjBjSXZfMVFyTGRrRExRTWsxTkM2Tz...  ...     0.632182\n",
              "9252  ajBKLVRDTFB0TV8wbjBjSXZfMVFyTGRrRExRTWsxTkM2Tz...  ...     0.629920\n",
              "6206  ajBKLVRDTFB0TV8wbjBjSXZfMVFyTGRrRExRTWsxTkM2Tz...  ...     0.595561\n",
              "1178  ajBKLVRDTFB0TV8wbjBjSXZfMVFyTGRrRExRTWsxTkM2Tz...  ...     0.584656\n",
              "\n",
              "[10 rows x 3 columns]"
            ]
          },
          "metadata": {},
          "execution_count": 38
        }
      ]
    },
    {
      "cell_type": "code",
      "metadata": {
        "colab": {
          "base_uri": "https://localhost:8080/",
          "height": 359
        },
        "id": "YRhCUWkAcTKo",
        "outputId": "eadbc9e5-2510-4031-ab4b-043eb6a1d9c1"
      },
      "source": [
        "result_df.sort_values(by='pred_clicks', ascending=False)[:10] # 0번"
      ],
      "id": "YRhCUWkAcTKo",
      "execution_count": 34,
      "outputs": [
        {
          "output_type": "execute_result",
          "data": {
            "text/html": [
              "<div>\n",
              "<style scoped>\n",
              "    .dataframe tbody tr th:only-of-type {\n",
              "        vertical-align: middle;\n",
              "    }\n",
              "\n",
              "    .dataframe tbody tr th {\n",
              "        vertical-align: top;\n",
              "    }\n",
              "\n",
              "    .dataframe thead th {\n",
              "        text-align: right;\n",
              "    }\n",
              "</style>\n",
              "<table border=\"1\" class=\"dataframe\">\n",
              "  <thead>\n",
              "    <tr style=\"text-align: right;\">\n",
              "      <th></th>\n",
              "      <th>member_Id</th>\n",
              "      <th>product_Id</th>\n",
              "      <th>pred_clicks</th>\n",
              "    </tr>\n",
              "  </thead>\n",
              "  <tbody>\n",
              "    <tr>\n",
              "      <th>3352</th>\n",
              "      <td>bWpXd0pUZElNTU5qT0ljbEhmRU1BU0NQbXRVc0pxamNxNG...</td>\n",
              "      <td>6129</td>\n",
              "      <td>0.828062</td>\n",
              "    </tr>\n",
              "    <tr>\n",
              "      <th>4548</th>\n",
              "      <td>bWpXd0pUZElNTU5qT0ljbEhmRU1BU0NQbXRVc0pxamNxNG...</td>\n",
              "      <td>8641</td>\n",
              "      <td>0.820814</td>\n",
              "    </tr>\n",
              "    <tr>\n",
              "      <th>1225</th>\n",
              "      <td>bWpXd0pUZElNTU5qT0ljbEhmRU1BU0NQbXRVc0pxamNxNG...</td>\n",
              "      <td>6614</td>\n",
              "      <td>0.812422</td>\n",
              "    </tr>\n",
              "    <tr>\n",
              "      <th>663</th>\n",
              "      <td>bWpXd0pUZElNTU5qT0ljbEhmRU1BU0NQbXRVc0pxamNxNG...</td>\n",
              "      <td>37252</td>\n",
              "      <td>0.808108</td>\n",
              "    </tr>\n",
              "    <tr>\n",
              "      <th>3933</th>\n",
              "      <td>bWpXd0pUZElNTU5qT0ljbEhmRU1BU0NQbXRVc0pxamNxNG...</td>\n",
              "      <td>8953</td>\n",
              "      <td>0.713744</td>\n",
              "    </tr>\n",
              "    <tr>\n",
              "      <th>5514</th>\n",
              "      <td>bWpXd0pUZElNTU5qT0ljbEhmRU1BU0NQbXRVc0pxamNxNG...</td>\n",
              "      <td>2627</td>\n",
              "      <td>0.686981</td>\n",
              "    </tr>\n",
              "    <tr>\n",
              "      <th>4359</th>\n",
              "      <td>bWpXd0pUZElNTU5qT0ljbEhmRU1BU0NQbXRVc0pxamNxNG...</td>\n",
              "      <td>3183</td>\n",
              "      <td>0.657381</td>\n",
              "    </tr>\n",
              "    <tr>\n",
              "      <th>9252</th>\n",
              "      <td>bWpXd0pUZElNTU5qT0ljbEhmRU1BU0NQbXRVc0pxamNxNG...</td>\n",
              "      <td>37465</td>\n",
              "      <td>0.645999</td>\n",
              "    </tr>\n",
              "    <tr>\n",
              "      <th>3762</th>\n",
              "      <td>bWpXd0pUZElNTU5qT0ljbEhmRU1BU0NQbXRVc0pxamNxNG...</td>\n",
              "      <td>3972</td>\n",
              "      <td>0.643934</td>\n",
              "    </tr>\n",
              "    <tr>\n",
              "      <th>5067</th>\n",
              "      <td>bWpXd0pUZElNTU5qT0ljbEhmRU1BU0NQbXRVc0pxamNxNG...</td>\n",
              "      <td>20471</td>\n",
              "      <td>0.635536</td>\n",
              "    </tr>\n",
              "  </tbody>\n",
              "</table>\n",
              "</div>"
            ],
            "text/plain": [
              "                                              member_Id  ...  pred_clicks\n",
              "3352  bWpXd0pUZElNTU5qT0ljbEhmRU1BU0NQbXRVc0pxamNxNG...  ...     0.828062\n",
              "4548  bWpXd0pUZElNTU5qT0ljbEhmRU1BU0NQbXRVc0pxamNxNG...  ...     0.820814\n",
              "1225  bWpXd0pUZElNTU5qT0ljbEhmRU1BU0NQbXRVc0pxamNxNG...  ...     0.812422\n",
              "663   bWpXd0pUZElNTU5qT0ljbEhmRU1BU0NQbXRVc0pxamNxNG...  ...     0.808108\n",
              "3933  bWpXd0pUZElNTU5qT0ljbEhmRU1BU0NQbXRVc0pxamNxNG...  ...     0.713744\n",
              "5514  bWpXd0pUZElNTU5qT0ljbEhmRU1BU0NQbXRVc0pxamNxNG...  ...     0.686981\n",
              "4359  bWpXd0pUZElNTU5qT0ljbEhmRU1BU0NQbXRVc0pxamNxNG...  ...     0.657381\n",
              "9252  bWpXd0pUZElNTU5qT0ljbEhmRU1BU0NQbXRVc0pxamNxNG...  ...     0.645999\n",
              "3762  bWpXd0pUZElNTU5qT0ljbEhmRU1BU0NQbXRVc0pxamNxNG...  ...     0.643934\n",
              "5067  bWpXd0pUZElNTU5qT0ljbEhmRU1BU0NQbXRVc0pxamNxNG...  ...     0.635536\n",
              "\n",
              "[10 rows x 3 columns]"
            ]
          },
          "metadata": {},
          "execution_count": 34
        }
      ]
    },
    {
      "cell_type": "code",
      "metadata": {
        "colab": {
          "base_uri": "https://localhost:8080/",
          "height": 359
        },
        "id": "iQQErEVtdA2i",
        "outputId": "6db7fb7b-d69f-4720-f20e-dea53c4f2011"
      },
      "source": [
        "result_df.sort_values(by='pred_clicks', ascending=False)[:10] # 2번"
      ],
      "id": "iQQErEVtdA2i",
      "execution_count": 36,
      "outputs": [
        {
          "output_type": "execute_result",
          "data": {
            "text/html": [
              "<div>\n",
              "<style scoped>\n",
              "    .dataframe tbody tr th:only-of-type {\n",
              "        vertical-align: middle;\n",
              "    }\n",
              "\n",
              "    .dataframe tbody tr th {\n",
              "        vertical-align: top;\n",
              "    }\n",
              "\n",
              "    .dataframe thead th {\n",
              "        text-align: right;\n",
              "    }\n",
              "</style>\n",
              "<table border=\"1\" class=\"dataframe\">\n",
              "  <thead>\n",
              "    <tr style=\"text-align: right;\">\n",
              "      <th></th>\n",
              "      <th>member_Id</th>\n",
              "      <th>product_Id</th>\n",
              "      <th>pred_clicks</th>\n",
              "    </tr>\n",
              "  </thead>\n",
              "  <tbody>\n",
              "    <tr>\n",
              "      <th>1225</th>\n",
              "      <td>V3Aza3BTNldQT3loUnFQZXVuLTBYMjBzc0ZaYzVKdWdyRT...</td>\n",
              "      <td>6614</td>\n",
              "      <td>0.819633</td>\n",
              "    </tr>\n",
              "    <tr>\n",
              "      <th>3352</th>\n",
              "      <td>V3Aza3BTNldQT3loUnFQZXVuLTBYMjBzc0ZaYzVKdWdyRT...</td>\n",
              "      <td>6129</td>\n",
              "      <td>0.799958</td>\n",
              "    </tr>\n",
              "    <tr>\n",
              "      <th>4548</th>\n",
              "      <td>V3Aza3BTNldQT3loUnFQZXVuLTBYMjBzc0ZaYzVKdWdyRT...</td>\n",
              "      <td>8641</td>\n",
              "      <td>0.754699</td>\n",
              "    </tr>\n",
              "    <tr>\n",
              "      <th>663</th>\n",
              "      <td>V3Aza3BTNldQT3loUnFQZXVuLTBYMjBzc0ZaYzVKdWdyRT...</td>\n",
              "      <td>37252</td>\n",
              "      <td>0.742318</td>\n",
              "    </tr>\n",
              "    <tr>\n",
              "      <th>1053</th>\n",
              "      <td>V3Aza3BTNldQT3loUnFQZXVuLTBYMjBzc0ZaYzVKdWdyRT...</td>\n",
              "      <td>3681</td>\n",
              "      <td>0.739312</td>\n",
              "    </tr>\n",
              "    <tr>\n",
              "      <th>3762</th>\n",
              "      <td>V3Aza3BTNldQT3loUnFQZXVuLTBYMjBzc0ZaYzVKdWdyRT...</td>\n",
              "      <td>3972</td>\n",
              "      <td>0.670714</td>\n",
              "    </tr>\n",
              "    <tr>\n",
              "      <th>5514</th>\n",
              "      <td>V3Aza3BTNldQT3loUnFQZXVuLTBYMjBzc0ZaYzVKdWdyRT...</td>\n",
              "      <td>2627</td>\n",
              "      <td>0.662649</td>\n",
              "    </tr>\n",
              "    <tr>\n",
              "      <th>684</th>\n",
              "      <td>V3Aza3BTNldQT3loUnFQZXVuLTBYMjBzc0ZaYzVKdWdyRT...</td>\n",
              "      <td>32065</td>\n",
              "      <td>0.637643</td>\n",
              "    </tr>\n",
              "    <tr>\n",
              "      <th>797</th>\n",
              "      <td>V3Aza3BTNldQT3loUnFQZXVuLTBYMjBzc0ZaYzVKdWdyRT...</td>\n",
              "      <td>3246</td>\n",
              "      <td>0.596987</td>\n",
              "    </tr>\n",
              "    <tr>\n",
              "      <th>9039</th>\n",
              "      <td>V3Aza3BTNldQT3loUnFQZXVuLTBYMjBzc0ZaYzVKdWdyRT...</td>\n",
              "      <td>2816</td>\n",
              "      <td>0.587364</td>\n",
              "    </tr>\n",
              "  </tbody>\n",
              "</table>\n",
              "</div>"
            ],
            "text/plain": [
              "                                              member_Id  ...  pred_clicks\n",
              "1225  V3Aza3BTNldQT3loUnFQZXVuLTBYMjBzc0ZaYzVKdWdyRT...  ...     0.819633\n",
              "3352  V3Aza3BTNldQT3loUnFQZXVuLTBYMjBzc0ZaYzVKdWdyRT...  ...     0.799958\n",
              "4548  V3Aza3BTNldQT3loUnFQZXVuLTBYMjBzc0ZaYzVKdWdyRT...  ...     0.754699\n",
              "663   V3Aza3BTNldQT3loUnFQZXVuLTBYMjBzc0ZaYzVKdWdyRT...  ...     0.742318\n",
              "1053  V3Aza3BTNldQT3loUnFQZXVuLTBYMjBzc0ZaYzVKdWdyRT...  ...     0.739312\n",
              "3762  V3Aza3BTNldQT3loUnFQZXVuLTBYMjBzc0ZaYzVKdWdyRT...  ...     0.670714\n",
              "5514  V3Aza3BTNldQT3loUnFQZXVuLTBYMjBzc0ZaYzVKdWdyRT...  ...     0.662649\n",
              "684   V3Aza3BTNldQT3loUnFQZXVuLTBYMjBzc0ZaYzVKdWdyRT...  ...     0.637643\n",
              "797   V3Aza3BTNldQT3loUnFQZXVuLTBYMjBzc0ZaYzVKdWdyRT...  ...     0.596987\n",
              "9039  V3Aza3BTNldQT3loUnFQZXVuLTBYMjBzc0ZaYzVKdWdyRT...  ...     0.587364\n",
              "\n",
              "[10 rows x 3 columns]"
            ]
          },
          "metadata": {},
          "execution_count": 36
        }
      ]
    },
    {
      "cell_type": "code",
      "metadata": {
        "id": "friendly-cartoon",
        "colab": {
          "base_uri": "https://localhost:8080/",
          "height": 204
        },
        "outputId": "b733c0f7-dbdd-4210-cbed-05d60b60ac08"
      },
      "source": [
        "product_id_list = val_df['product_id'].values.tolist()[:5]\n",
        "\n",
        "# product_id_list = [8817, 3451, 8641, 131, 24264, 6633]\n",
        "member_id = val_df['member_id'].values[2]\n",
        "user_id_list = [member_id] * len(product_id_list)\n",
        "pred_results = [float(x) for x in model_valid(user_id_list, product_id_list, data_path)]\n",
        "\n",
        "result_df = pd.DataFrame({\n",
        "    'member_Id': user_id_list,\n",
        "    'product_Id': product_id_list,\n",
        "    # 'movieName': [movieName_dict[x] for x in product_id_list],  # <- user or product info meta data # 메타정보 추가하여 확인\n",
        "    # 'genres': [genres_dict[x] for x in product_id_list],\n",
        "    'pred_clicks': pred_results\n",
        "})\n",
        "\n",
        "result_df.sort_values(by='pred_clicks', ascending=False)"
      ],
      "id": "friendly-cartoon",
      "execution_count": 29,
      "outputs": [
        {
          "output_type": "execute_result",
          "data": {
            "text/html": [
              "<div>\n",
              "<style scoped>\n",
              "    .dataframe tbody tr th:only-of-type {\n",
              "        vertical-align: middle;\n",
              "    }\n",
              "\n",
              "    .dataframe tbody tr th {\n",
              "        vertical-align: top;\n",
              "    }\n",
              "\n",
              "    .dataframe thead th {\n",
              "        text-align: right;\n",
              "    }\n",
              "</style>\n",
              "<table border=\"1\" class=\"dataframe\">\n",
              "  <thead>\n",
              "    <tr style=\"text-align: right;\">\n",
              "      <th></th>\n",
              "      <th>member_Id</th>\n",
              "      <th>product_Id</th>\n",
              "      <th>pred_clicks</th>\n",
              "    </tr>\n",
              "  </thead>\n",
              "  <tbody>\n",
              "    <tr>\n",
              "      <th>4</th>\n",
              "      <td>V3Aza3BTNldQT3loUnFQZXVuLTBYMjBzc0ZaYzVKdWdyRT...</td>\n",
              "      <td>39753</td>\n",
              "      <td>0.500804</td>\n",
              "    </tr>\n",
              "    <tr>\n",
              "      <th>3</th>\n",
              "      <td>V3Aza3BTNldQT3loUnFQZXVuLTBYMjBzc0ZaYzVKdWdyRT...</td>\n",
              "      <td>31991</td>\n",
              "      <td>0.500649</td>\n",
              "    </tr>\n",
              "    <tr>\n",
              "      <th>2</th>\n",
              "      <td>V3Aza3BTNldQT3loUnFQZXVuLTBYMjBzc0ZaYzVKdWdyRT...</td>\n",
              "      <td>20870</td>\n",
              "      <td>0.500210</td>\n",
              "    </tr>\n",
              "    <tr>\n",
              "      <th>0</th>\n",
              "      <td>V3Aza3BTNldQT3loUnFQZXVuLTBYMjBzc0ZaYzVKdWdyRT...</td>\n",
              "      <td>4750</td>\n",
              "      <td>0.500209</td>\n",
              "    </tr>\n",
              "    <tr>\n",
              "      <th>1</th>\n",
              "      <td>V3Aza3BTNldQT3loUnFQZXVuLTBYMjBzc0ZaYzVKdWdyRT...</td>\n",
              "      <td>12782</td>\n",
              "      <td>0.500019</td>\n",
              "    </tr>\n",
              "  </tbody>\n",
              "</table>\n",
              "</div>"
            ],
            "text/plain": [
              "                                           member_Id  product_Id  pred_clicks\n",
              "4  V3Aza3BTNldQT3loUnFQZXVuLTBYMjBzc0ZaYzVKdWdyRT...       39753     0.500804\n",
              "3  V3Aza3BTNldQT3loUnFQZXVuLTBYMjBzc0ZaYzVKdWdyRT...       31991     0.500649\n",
              "2  V3Aza3BTNldQT3loUnFQZXVuLTBYMjBzc0ZaYzVKdWdyRT...       20870     0.500210\n",
              "0  V3Aza3BTNldQT3loUnFQZXVuLTBYMjBzc0ZaYzVKdWdyRT...        4750     0.500209\n",
              "1  V3Aza3BTNldQT3loUnFQZXVuLTBYMjBzc0ZaYzVKdWdyRT...       12782     0.500019"
            ]
          },
          "metadata": {},
          "execution_count": 29
        }
      ]
    },
    {
      "cell_type": "markdown",
      "metadata": {
        "id": "accessory-jason"
      },
      "source": [
        "- 제대로 안했기에 똑같은 값 출력, 이를 수정해야 함\n",
        "- 일단 돌아가더라\n",
        "- 당연히 skew된 데이터이기에 이럴수도.. 사후검정 필요\n",
        "- user-item과 interaction을 통해 0,1로 변경 -> 그렇지않아서 0.5 고정된 출력값을 내는 걸수도..\n",
        "- 0,1,2,3 으로 클릭수를 낮추는 방법도 하나의 방법이 되겠다. 0~ 89 까지면 너무 크니까\n",
        "-> 해보니까 좀 다르게 나오더라\n",
        "- clikc을 CTR로 변경, Top K를 산출\n",
        "- user_info meta data 결합 필요\n",
        "\n",
        "- 기존 user-item Latent vector을 가지고 click 확률을 구했음, 이를 통해 vector간 클릭 예측률을 확인\n",
        "- 단, unseen한 product_id에 대해 추천해주지 못하는 cold-start문제가 있는데, 임의성(Randomness)를 추가하여 추천하는 방법도..\n",
        "- 이를 토대로 사후검정하고, 강화하는 방향으로..\n",
        "\n",
        "- Wide & Deep을 사용 시 Feature Engineering이 필요한데, 기존 raw_data에서 추가할 feature들을 탐색 (such as HASH)"
      ],
      "id": "accessory-jason"
    },
    {
      "cell_type": "markdown",
      "metadata": {
        "id": "bronze-belief"
      },
      "source": [
        "### 8/17 정리\n",
        "\n",
        "- 1. Top K 만들어야하고\n",
        "- 2. 1,2,3 -> 0,1로 변경\n",
        "- 3. unseen한 product_id (0인 값)을 고려하기 (왜냐하면 val에서 없는 것이 오류 뜸)\n",
        "- 4. XX 새로운 product_id 들어왔을 때, 고민해보기.. XX\n",
        "- 5. context feature  + latent vector [concat]\n",
        "- 6. 프로덕트ID가 없는거에 val에서 지금 안뜸, 그래서 0값도 넣어야하나? \n",
        "- 7. 문제는 train_df에 있는 id랑 val_df id랑 없는게 있음. 그래서 이를 해결해야함."
      ],
      "id": "bronze-belief"
    },
    {
      "cell_type": "code",
      "metadata": {
        "id": "portuguese-observation"
      },
      "source": [
        ""
      ],
      "id": "portuguese-observation",
      "execution_count": null,
      "outputs": []
    }
  ]
}