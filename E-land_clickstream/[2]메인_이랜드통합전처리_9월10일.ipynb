{
 "cells": [
  {
   "cell_type": "markdown",
   "id": "c50acdcb",
   "metadata": {},
   "source": [
    "# 0. 환경설정"
   ]
  },
  {
   "cell_type": "code",
   "execution_count": 2,
   "id": "455b6503",
   "metadata": {},
   "outputs": [],
   "source": [
    "import pandas as pd\n",
    "import numpy as np\n",
    "from numbers import Number\n",
    "\n",
    "from tqdm import tqdm\n",
    "import time\n",
    "\n",
    "import warnings\n",
    "warnings.filterwarnings('ignore')\n",
    "\n",
    "pd.set_option('display.max_columns', 100)"
   ]
  },
  {
   "cell_type": "markdown",
   "id": "b0077ab8",
   "metadata": {},
   "source": [
    "# 1. 데이터 업로드"
   ]
  },
  {
   "cell_type": "code",
   "execution_count": 151,
   "id": "596d8781",
   "metadata": {
    "scrolled": true
   },
   "outputs": [
    {
     "name": "stdout",
     "output_type": "stream",
     "text": [
      "## 1.1) 로그 데이터 업로드 ## \n",
      "time : 3.4288828372955322\n",
      "(1000000, 10)\n",
      "## 1.2) 구매기록 데이터 업로드 ##\n",
      "time : 1.2623662948608398\n",
      "(100000, 52)\n"
     ]
    }
   ],
   "source": [
    "print('## 1.1) 로그 데이터 업로드 ## ')\n",
    "start_time = time.time()  # 시작 시간 저장\n",
    "log_data = pd.read_csv('./data/log_total.csv', usecols = list(range(1,11)), nrows =  1000000, # nrows =  100000, \n",
    "                  dtype = {'timeOnPage' : 'int16',\n",
    "                           'user_code' : 'int32',\n",
    "                           'session_sort' : 'int8',\n",
    "                           'session_length' : 'int16'})\n",
    "\n",
    "log_data['Datetime'] = pd.to_datetime(log_data['Datetime'])\n",
    "print(\"time :\", time.time() - start_time) # 현재시간 - 시작시간\n",
    "print(log_data.shape)\n",
    "\n",
    "\n",
    "\n",
    "print('## 1.2) 구매기록 데이터 업로드 ##')\n",
    "start_time = time.time()  # 시작 시간 저장\n",
    "raw_data = pd.read_csv('./data/raw_data.csv', nrows = 100000) # nrows = 100000\n",
    "print(\"time :\", time.time() - start_time) # 현재시간 - 시작시간\n",
    "print(raw_data.shape)"
   ]
  },
  {
   "cell_type": "markdown",
   "id": "97be323d",
   "metadata": {},
   "source": [
    "# 2. 데이터 전처리 "
   ]
  },
  {
   "cell_type": "markdown",
   "id": "quick-toolbox",
   "metadata": {},
   "source": [
    "#### 2.1) timeOnPage, Session 이상치 확인"
   ]
  },
  {
   "cell_type": "code",
   "execution_count": null,
   "id": "harmful-boards",
   "metadata": {},
   "outputs": [],
   "source": [
    "# log_data['timeOnPage'].sort_values(ascending = False)[:20]"
   ]
  },
  {
   "cell_type": "markdown",
   "id": "retained-commander",
   "metadata": {},
   "source": [
    "#### 2.2) 시간, 세션 순서대로 정렬"
   ]
  },
  {
   "cell_type": "code",
   "execution_count": 152,
   "id": "valuable-worth",
   "metadata": {},
   "outputs": [],
   "source": [
    "log_data.sort_values(['Datetime','session'], ascending = True, inplace = True)"
   ]
  },
  {
   "cell_type": "markdown",
   "id": "annual-anthony",
   "metadata": {},
   "source": [
    "#### 2.3) Product_id 추출 + 구매 매칭 작업 + 고객 선호도"
   ]
  },
  {
   "cell_type": "markdown",
   "id": "falling-chapel",
   "metadata": {},
   "source": [
    "- 멀티프로세싱 적용해보기"
   ]
  },
  {
   "cell_type": "code",
   "execution_count": 193,
   "id": "6be62163",
   "metadata": {},
   "outputs": [
    {
     "name": "stdout",
     "output_type": "stream",
     "text": [
      "(1/5) pagePath에서 URL PageStatus 변수 생성중...\n",
      "(2/5) 분류된 Goods에서 Product_id 추출중... \n"
     ]
    },
    {
     "name": "stderr",
     "output_type": "stream",
     "text": [
      "100%|██████████████████████████████████████████████████████████████████████| 999994/999994 [00:04<00:00, 236996.24it/s]\n"
     ]
    },
    {
     "name": "stdout",
     "output_type": "stream",
     "text": [
      "(3/5) Product_id를 문자형으로 변환중...\n",
      "(4/5) 구매매칭 컬럼 생성중...\n",
      "(5/5) 고객 선호도 함수 생성중...\n",
      "=============== 완료 ===============\n"
     ]
    }
   ],
   "source": [
    "# 1. URL에서 / 별 분류\n",
    "def func(str):\n",
    "    return str.split('/')[1] # '/' 기준 2번째 \n",
    "\n",
    "# 2. URL에서 goods 정제 및 고객 선호도 생성\n",
    "def find_product_id(data):\n",
    "    df = data.copy()\n",
    "    \n",
    "    ''' 1. 유저가 살펴본 product_id 추출'''\n",
    "    # 1. pagePath 에서 URL 카테고리 분류\n",
    "    print('(1/5) pagePath에서 URL PageStatus 변수 생성중...')\n",
    "    df['page_status'] = list(map(func, df['pagePath']))\n",
    "    \n",
    "    # 2. 불필요한 PageStatus 제거 (Curation_) 으로 시작함.\n",
    "    idx = df[df['page_status'].str.contains('curation_')].index\n",
    "    df.drop(idx, inplace = True)\n",
    "    \n",
    "    # 2. 분류된 카테고리에서 goods 정제 \n",
    "    #df = df[df['page_status'] == 'goods']\n",
    "\n",
    "    # 3. 'goods_no=' = 'Product_id'추출\n",
    "    print('(2/5) 분류된 Goods에서 Product_id 추출중... ')\n",
    "    df.reset_index(drop = True, inplace = True)\n",
    "    start_no = df['pagePath'].apply(lambda x : x.find('goods_no=')) + 9\n",
    "    end_no = start_no + 10\n",
    "    \n",
    "    shared_list = list()   \n",
    "    for i in tqdm(range(df.shape[0])):   \n",
    "        item_name = df['pagePath'].values[i][start_no.values[i]:end_no.values[i]]\n",
    "        shared_list.append(item_name)\n",
    "        \n",
    "    product_id = pd.DataFrame({\"product_id\" : shared_list})\n",
    "    df = pd.concat([df, product_id], axis = 1)\n",
    "    \n",
    "    # goods에서 확인된 Product_id를 문자형으로 변환, 나머지 0으로 변환\n",
    "    print('(3/5) Product_id를 문자형으로 변환중...')\n",
    "    df['product_id'] = pd.to_numeric(df['product_id'], errors='coerce')\n",
    "    df['product_id'].fillna(0, inplace = True)\n",
    "    df['product_id'] = df['product_id'].astype(int)\n",
    "    df['product_id'] = df['product_id'].astype(str)\n",
    "    \n",
    "    # 구매매칭 시간대 확인을 위한 변수 생성\n",
    "    print('(4/5) 구매매칭 컬럼 생성중...')\n",
    "    df['Datetime'] = df['Datetime'].astype(str)\n",
    "    df['구매매칭'] = df['Datetime'].str[5:7] +'월_'+ df['Datetime'].str[8:10]+'일_' + df['Datetime'].str[11:13]+'시'\n",
    "    \n",
    "    # 고객 선호도 함수생성(timeOnPage * Click)\n",
    "    print('(5/5) 고객 선호도 함수 생성중...')\n",
    "    # 1. 시간 순서에 따른 product_id 별 Rank 생성\n",
    "    df['Datetime'] = pd.to_datetime(df['Datetime'])\n",
    "    df['Rank'] = df.groupby(['user_code','product_id'])['Datetime'].rank(method='min', ascending=True)\n",
    "    \n",
    "    # 2. 고객 선호도 함수 생성 (조화 평균)\n",
    "    df['preference']  = 2 * ((df['timeOnPage'] * df['Rank']) / (df['timeOnPage'] + df['Rank']))\n",
    "    \n",
    "    # 210918 : Rank와 timeOnPage에 대한 이상치 정의 후 전처리 필요\n",
    "    print('=============== 완료 ===============')\n",
    "    \n",
    "    df.rename(columns = {'user_code':'user_id'}, inplace = True)\n",
    "    return df\n",
    "\n",
    "user_product_data = find_product_id(log_data)"
   ]
  },
  {
   "cell_type": "code",
   "execution_count": 195,
   "id": "intellectual-origin",
   "metadata": {
    "scrolled": true
   },
   "outputs": [
    {
     "data": {
      "text/html": [
       "<div>\n",
       "<style scoped>\n",
       "    .dataframe tbody tr th:only-of-type {\n",
       "        vertical-align: middle;\n",
       "    }\n",
       "\n",
       "    .dataframe tbody tr th {\n",
       "        vertical-align: top;\n",
       "    }\n",
       "\n",
       "    .dataframe thead th {\n",
       "        text-align: right;\n",
       "    }\n",
       "</style>\n",
       "<table border=\"1\" class=\"dataframe\">\n",
       "  <thead>\n",
       "    <tr style=\"text-align: right;\">\n",
       "      <th></th>\n",
       "      <th>session</th>\n",
       "      <th>user_id</th>\n",
       "      <th>구매매칭</th>\n",
       "      <th>page_status</th>\n",
       "      <th>product_id</th>\n",
       "      <th>timeOnPage</th>\n",
       "      <th>Datetime</th>\n",
       "      <th>Datetime_roll</th>\n",
       "      <th>time_gap</th>\n",
       "      <th>session_sort</th>\n",
       "      <th>session_length</th>\n",
       "      <th>Rank</th>\n",
       "      <th>preference</th>\n",
       "    </tr>\n",
       "  </thead>\n",
       "  <tbody>\n",
       "    <tr>\n",
       "      <th>0</th>\n",
       "      <td>1375271_1</td>\n",
       "      <td>1375271</td>\n",
       "      <td>01월_01일_00시</td>\n",
       "      <td>mypage</td>\n",
       "      <td>0</td>\n",
       "      <td>17</td>\n",
       "      <td>2020-01-01</td>\n",
       "      <td>2020-01-01 00:00:00</td>\n",
       "      <td>0 days 00:00:00</td>\n",
       "      <td>1</td>\n",
       "      <td>26</td>\n",
       "      <td>1.0</td>\n",
       "      <td>1.888889</td>\n",
       "    </tr>\n",
       "    <tr>\n",
       "      <th>1</th>\n",
       "      <td>1375271_1</td>\n",
       "      <td>1375271</td>\n",
       "      <td>01월_01일_00시</td>\n",
       "      <td>mypage</td>\n",
       "      <td>0</td>\n",
       "      <td>8</td>\n",
       "      <td>2020-01-01</td>\n",
       "      <td>2020-01-01 00:01:00</td>\n",
       "      <td>0 days 00:01:00</td>\n",
       "      <td>1</td>\n",
       "      <td>26</td>\n",
       "      <td>1.0</td>\n",
       "      <td>1.777778</td>\n",
       "    </tr>\n",
       "    <tr>\n",
       "      <th>2</th>\n",
       "      <td>1541251_1</td>\n",
       "      <td>1541251</td>\n",
       "      <td>01월_01일_00시</td>\n",
       "      <td>goods</td>\n",
       "      <td>1904434862</td>\n",
       "      <td>19</td>\n",
       "      <td>2020-01-01</td>\n",
       "      <td>2020-01-01 00:00:00</td>\n",
       "      <td>0 days 00:00:00</td>\n",
       "      <td>1</td>\n",
       "      <td>17</td>\n",
       "      <td>1.0</td>\n",
       "      <td>1.900000</td>\n",
       "    </tr>\n",
       "    <tr>\n",
       "      <th>3</th>\n",
       "      <td>1541251_1</td>\n",
       "      <td>1541251</td>\n",
       "      <td>01월_01일_00시</td>\n",
       "      <td>goods</td>\n",
       "      <td>1912878161</td>\n",
       "      <td>15</td>\n",
       "      <td>2020-01-01</td>\n",
       "      <td>2020-01-01 00:00:00</td>\n",
       "      <td>0 days 00:00:00</td>\n",
       "      <td>1</td>\n",
       "      <td>17</td>\n",
       "      <td>1.0</td>\n",
       "      <td>1.875000</td>\n",
       "    </tr>\n",
       "    <tr>\n",
       "      <th>4</th>\n",
       "      <td>1541251_1</td>\n",
       "      <td>1541251</td>\n",
       "      <td>01월_01일_00시</td>\n",
       "      <td>search</td>\n",
       "      <td>0</td>\n",
       "      <td>77</td>\n",
       "      <td>2020-01-01</td>\n",
       "      <td>2020-01-01 00:01:00</td>\n",
       "      <td>0 days 00:01:00</td>\n",
       "      <td>1</td>\n",
       "      <td>17</td>\n",
       "      <td>1.0</td>\n",
       "      <td>1.974359</td>\n",
       "    </tr>\n",
       "  </tbody>\n",
       "</table>\n",
       "</div>"
      ],
      "text/plain": [
       "     session  user_id         구매매칭 page_status  product_id  timeOnPage  \\\n",
       "0  1375271_1  1375271  01월_01일_00시      mypage           0          17   \n",
       "1  1375271_1  1375271  01월_01일_00시      mypage           0           8   \n",
       "2  1541251_1  1541251  01월_01일_00시       goods  1904434862          19   \n",
       "3  1541251_1  1541251  01월_01일_00시       goods  1912878161          15   \n",
       "4  1541251_1  1541251  01월_01일_00시      search           0          77   \n",
       "\n",
       "    Datetime        Datetime_roll         time_gap  session_sort  \\\n",
       "0 2020-01-01  2020-01-01 00:00:00  0 days 00:00:00             1   \n",
       "1 2020-01-01  2020-01-01 00:01:00  0 days 00:01:00             1   \n",
       "2 2020-01-01  2020-01-01 00:00:00  0 days 00:00:00             1   \n",
       "3 2020-01-01  2020-01-01 00:00:00  0 days 00:00:00             1   \n",
       "4 2020-01-01  2020-01-01 00:01:00  0 days 00:01:00             1   \n",
       "\n",
       "   session_length  Rank  preference  \n",
       "0              26   1.0    1.888889  \n",
       "1              26   1.0    1.777778  \n",
       "2              17   1.0    1.900000  \n",
       "3              17   1.0    1.875000  \n",
       "4              17   1.0    1.974359  "
      ]
     },
     "execution_count": 195,
     "metadata": {},
     "output_type": "execute_result"
    }
   ],
   "source": [
    "user_product_data = user_product_data[['session', 'user_id', '구매매칭', 'page_status','product_id', 'timeOnPage', 'Datetime',\n",
    "       'Datetime_roll', 'time_gap', 'session_sort', 'session_length','Rank', 'preference']]\n",
    "user_product_data.head()"
   ]
  },
  {
   "cell_type": "markdown",
   "id": "emerging-penguin",
   "metadata": {},
   "source": [
    "# 2.4) 구매기록 데이터 전처리"
   ]
  },
  {
   "cell_type": "markdown",
   "id": "retained-church",
   "metadata": {},
   "source": [
    "#### 2.4.1) 필요없는 컬럼 및 유저ID 없는 경우 제거"
   ]
  },
  {
   "cell_type": "code",
   "execution_count": 208,
   "id": "traditional-silver",
   "metadata": {},
   "outputs": [
    {
     "name": "stdout",
     "output_type": "stream",
     "text": [
      "(72085, 42)\n"
     ]
    }
   ],
   "source": [
    "# 1. 구매일자 매칭 컬럼 생성\n",
    "raw_data['결제일자'] = raw_data['결제일자'].astype(str)\n",
    "raw_data['구매매칭'] = raw_data['결제일자'].str[4:6] +'월_'+raw_data['결제일자'].str[6:8]+'일_'+raw_data['결제시간대']\n",
    "\n",
    "# 2. 필요한 컬럼 선정\n",
    "purchase_df = raw_data[['고객 ID','상품코드', '구매매칭', '구매그룹명', '구매그룹코드', '실주문건수', '실주문수량', '총판매액(정상가)',\n",
    "       '총판매액(판매가)', '배송일자', '요일', '주문매체명',\n",
    "       '채널명', '쇼핑몰명', '주문생성구분명', '조직명', '표준상품군명', '브랜드명',\n",
    "       '컨텐츠코드', '상품명', '단품명', '나이', '성별', '가입일시', '임직원여부',\n",
    "       '회원유형', '복지포인트 사용여부', '결품여부', 'EMAIL동의여부',\n",
    "       'SMS동의여부', '결제수단', '주문금액', '주문수량', '정상가', '판매가', '할인액(합계)', '실매출액',\n",
    "       '취소금액', '반품금액', '교환금액', '복지포인트 사용금액', '멤버십등급명']]\n",
    "\n",
    "purchase_df.rename(columns={'고객 ID':'user_id', '상품코드' : 'product_id'}, inplace = True)\n",
    "\n",
    "# 3. 결제일자/결제시간대 순차내림 정렬\n",
    "purchase_df.sort_values('구매매칭', ascending = True, inplace = True)\n",
    "\n",
    "# 4. 유저 ID가 없는 경우 제거\n",
    "purchase_df = purchase_df[purchase_df['user_id'].notnull()]\n",
    "purchase_df.reset_index(inplace = True, drop = True)\n",
    "print(purchase_df.shape)"
   ]
  },
  {
   "cell_type": "markdown",
   "id": "1f45bc20",
   "metadata": {},
   "source": [
    "## 2.5) 로그와 구매기록 필터링 (product_id와 user_id가 둘다 조회되는 데이터)"
   ]
  },
  {
   "cell_type": "code",
   "execution_count": 209,
   "id": "5a90a611",
   "metadata": {},
   "outputs": [
    {
     "name": "stdout",
     "output_type": "stream",
     "text": [
      "구매 기록 중 고유 제품 갯수 :  32481\n",
      "클릭스트림 기록 중 고유 제품 갯수 :  49772\n",
      "\n",
      "\n",
      "구매 기록 중 고유 유저 명 :  58922\n",
      "클릭스트림 기록 중 고유 유저 명 :  12541\n"
     ]
    }
   ],
   "source": [
    "print(\"구매 기록 중 고유 제품 갯수 : \",purchase_df['product_id'].nunique())\n",
    "print(\"클릭스트림 기록 중 고유 제품 갯수 : \",user_product_data['product_id'].nunique())\n",
    "print('\\n')\n",
    "print(\"구매 기록 중 고유 유저 명 : \",purchase_df['user_id'].nunique())\n",
    "print(\"클릭스트림 기록 중 고유 유저 명 : \",user_product_data['user_id'].nunique())"
   ]
  },
  {
   "cell_type": "code",
   "execution_count": 212,
   "id": "78f91a55",
   "metadata": {},
   "outputs": [],
   "source": [
    "# 1차) 상품 코드가 조회되는 Product_id 조회 (product_id 중심, 구매한 사람과 구매하지 않은 사람들이 섞여있음)\n",
    "# pur_df = purchase_df[purchase_df['product_id'].isin(user_product_data['product_id'])]\n",
    "# log_df = user_product_data[user_product_data['product_id'].isin(purchase_df['product_id'])]\n",
    "\n",
    "# 2차) 고객 ID가 조회되는 user_code 조회 (user_id중심, 구매한 사람들만 있음)\n",
    "pur_df = purchase_df[purchase_df['user_id'].isin(user_product_data['user_id'])]\n",
    "log_df = user_product_data[user_product_data['user_id'].isin(purchase_df['user_id'])]\n",
    "\n",
    "# -> 특정 Product_id에 대한 Browsing을 했어도, 구매 기록이 없다면, 결국 구매하지 않은것!\n",
    "# -> 그러므로, 고객 ID가 조회되는 것으로 사용해야만 할듯(성능이 낮겠지)\n",
    "# -> 반면에, Product_id까지 조회한다면, 클릭스트림 데이터에는 결국 한번이라도 구매한 사람들에 대한 표본 집단을 의미\n",
    "# -> 해석의 차이일듯.(성능이 높겠지)"
   ]
  },
  {
   "cell_type": "markdown",
   "id": "associate-narrow",
   "metadata": {},
   "source": [
    "- 참고) 1차)product_id와 2차)user_code의 조인하는 결과가 다르다! -> 1차는 \"구매하지않은 사람\" 포함, 2차는 \"구매한 사람들만\" 포함"
   ]
  },
  {
   "cell_type": "code",
   "execution_count": 214,
   "id": "0a69c165",
   "metadata": {
    "scrolled": false
   },
   "outputs": [
    {
     "name": "stdout",
     "output_type": "stream",
     "text": [
      "구매기록과 로그기록의 고유ID 수 (동일하면 구매한 사람들만 있다는 것) :  1427 1427\n",
      "(2129, 42)는 구매기록, (296416, 13)는 로그기록\n"
     ]
    }
   ],
   "source": [
    "print(\"구매기록과 로그기록의 고유ID 수 (동일하면 구매한 사람들만 있다는 것) : \",pur_df['user_id'].nunique(), log_df['user_id'].nunique())\n",
    "print(\"{}는 구매기록, {}는 로그기록\".format(pur_df.shape, log_df.shape))"
   ]
  },
  {
   "cell_type": "markdown",
   "id": "offshore-technique",
   "metadata": {},
   "source": [
    "## 2.3) 로그 데이터와 구매 데이터 확인"
   ]
  },
  {
   "cell_type": "code",
   "execution_count": null,
   "id": "subtle-perspective",
   "metadata": {},
   "outputs": [],
   "source": []
  },
  {
   "cell_type": "code",
   "execution_count": null,
   "id": "threatened-barcelona",
   "metadata": {},
   "outputs": [],
   "source": []
  },
  {
   "cell_type": "markdown",
   "id": "worst-kenya",
   "metadata": {},
   "source": [
    "## 2.4) 로그데이터 + 구매 데이터 병합 전처리"
   ]
  },
  {
   "cell_type": "markdown",
   "id": "synthetic-reviewer",
   "metadata": {},
   "source": [
    "# [작업중] reset_index 조심, 3개의 조건에 index가 모두 같아야함 ★"
   ]
  },
  {
   "cell_type": "markdown",
   "id": "directed-defense",
   "metadata": {},
   "source": [
    "- 순서는 -> 로그 <> 구매 기록데이터 중 user_id와 product_id 필터링 후 -> order 세션 필터링"
   ]
  },
  {
   "cell_type": "markdown",
   "id": "dental-phoenix",
   "metadata": {},
   "source": [
    "#### 2.5) 페이지 내 order가 있는 것들 확인"
   ]
  },
  {
   "cell_type": "code",
   "execution_count": 240,
   "id": "mineral-penny",
   "metadata": {},
   "outputs": [
    {
     "data": {
      "text/html": [
       "<div>\n",
       "<style scoped>\n",
       "    .dataframe tbody tr th:only-of-type {\n",
       "        vertical-align: middle;\n",
       "    }\n",
       "\n",
       "    .dataframe tbody tr th {\n",
       "        vertical-align: top;\n",
       "    }\n",
       "\n",
       "    .dataframe thead th {\n",
       "        text-align: right;\n",
       "    }\n",
       "</style>\n",
       "<table border=\"1\" class=\"dataframe\">\n",
       "  <thead>\n",
       "    <tr style=\"text-align: right;\">\n",
       "      <th></th>\n",
       "      <th>session</th>\n",
       "      <th>page_status</th>\n",
       "    </tr>\n",
       "  </thead>\n",
       "  <tbody>\n",
       "    <tr>\n",
       "      <th>0</th>\n",
       "      <td>1000936_1</td>\n",
       "      <td>dispctg,main,dispctg,main,shop,shop,main,mypag...</td>\n",
       "    </tr>\n",
       "    <tr>\n",
       "      <th>1</th>\n",
       "      <td>1002205_1</td>\n",
       "      <td>dispctg,main,main,dispctg,dispctg,dispctg,shop...</td>\n",
       "    </tr>\n",
       "    <tr>\n",
       "      <th>2</th>\n",
       "      <td>1004212_1</td>\n",
       "      <td>event</td>\n",
       "    </tr>\n",
       "    <tr>\n",
       "      <th>3</th>\n",
       "      <td>1004212_10</td>\n",
       "      <td>shop</td>\n",
       "    </tr>\n",
       "    <tr>\n",
       "      <th>4</th>\n",
       "      <td>1004212_11</td>\n",
       "      <td>goods,goods,goods,goods,goods,shop,dispctg,goo...</td>\n",
       "    </tr>\n",
       "  </tbody>\n",
       "</table>\n",
       "</div>"
      ],
      "text/plain": [
       "      session                                        page_status\n",
       "0   1000936_1  dispctg,main,dispctg,main,shop,shop,main,mypag...\n",
       "1   1002205_1  dispctg,main,main,dispctg,dispctg,dispctg,shop...\n",
       "2   1004212_1                                              event\n",
       "3  1004212_10                                               shop\n",
       "4  1004212_11  goods,goods,goods,goods,goods,shop,dispctg,goo..."
      ]
     },
     "execution_count": 240,
     "metadata": {},
     "output_type": "execute_result"
    }
   ],
   "source": [
    "# page_status 한 컬럼에 모으기\n",
    "session_df = pd.DataFrame(user_product_data.groupby('session')['page_status'].agg(','.join)).reset_index()\n",
    "session_df.sort_values('session', inplace = True)\n",
    "print(session_df.shape)\n",
    "session_df.head() # page_status가 1개인 것은 제거하기\n",
    "\n",
    "# for i in session_df['page_status']:\n",
    "#     temp = i.split(',')\n",
    "#     if (len(temp) == 1):\n",
    "#         print(temp)\n",
    "#         print('True')\n",
    "#     else:\n",
    "#         pass\n",
    "# #######################################################################################################\n",
    "# # order 가 있는 컬럼 중 1개만 있는가?\n",
    "# temp_df = session_df[session_df['page_status'].str.contains('order')]\n",
    "# temp_df.sort_values('session')\n",
    "# # temp_df.head()\n",
    "\n",
    "# # 1칸인데, order만 있는 경우도 있더라\n",
    "# for i in temp_df['page_status']:\n",
    "#     temp = i.split(',')\n",
    "#     if (len(temp) == 1):\n",
    "#         print(temp)\n",
    "#         print('True')\n",
    "#     else:\n",
    "#         pass"
   ]
  },
  {
   "cell_type": "markdown",
   "id": "convinced-palace",
   "metadata": {},
   "source": [
    "#### 2.4) Goods인것에서 Product_id 뽑기"
   ]
  },
  {
   "cell_type": "code",
   "execution_count": 272,
   "id": "little-sociology",
   "metadata": {},
   "outputs": [
    {
     "name": "stdout",
     "output_type": "stream",
     "text": [
      "(65668, 2)\n"
     ]
    },
    {
     "data": {
      "text/html": [
       "<div>\n",
       "<style scoped>\n",
       "    .dataframe tbody tr th:only-of-type {\n",
       "        vertical-align: middle;\n",
       "    }\n",
       "\n",
       "    .dataframe tbody tr th {\n",
       "        vertical-align: top;\n",
       "    }\n",
       "\n",
       "    .dataframe thead th {\n",
       "        text-align: right;\n",
       "    }\n",
       "</style>\n",
       "<table border=\"1\" class=\"dataframe\">\n",
       "  <thead>\n",
       "    <tr style=\"text-align: right;\">\n",
       "      <th></th>\n",
       "      <th>session</th>\n",
       "      <th>product_id</th>\n",
       "    </tr>\n",
       "  </thead>\n",
       "  <tbody>\n",
       "    <tr>\n",
       "      <th>0</th>\n",
       "      <td>1000936_1</td>\n",
       "      <td>1704178441,1907613048</td>\n",
       "    </tr>\n",
       "    <tr>\n",
       "      <th>1</th>\n",
       "      <td>1004212_11</td>\n",
       "      <td>1901214615,1903384665,1903384666,1912875310,19...</td>\n",
       "    </tr>\n",
       "    <tr>\n",
       "      <th>2</th>\n",
       "      <td>1004212_12</td>\n",
       "      <td>1905515147,1910765432,1911805110,1808948223,19...</td>\n",
       "    </tr>\n",
       "    <tr>\n",
       "      <th>3</th>\n",
       "      <td>1004212_13</td>\n",
       "      <td>1912874574,1910776030,1610059032,1910767646,19...</td>\n",
       "    </tr>\n",
       "    <tr>\n",
       "      <th>4</th>\n",
       "      <td>1004212_15</td>\n",
       "      <td>1912918120</td>\n",
       "    </tr>\n",
       "  </tbody>\n",
       "</table>\n",
       "</div>"
      ],
      "text/plain": [
       "      session                                         product_id\n",
       "0   1000936_1                              1704178441,1907613048\n",
       "1  1004212_11  1901214615,1903384665,1903384666,1912875310,19...\n",
       "2  1004212_12  1905515147,1910765432,1911805110,1808948223,19...\n",
       "3  1004212_13  1912874574,1910776030,1610059032,1910767646,19...\n",
       "4  1004212_15                                         1912918120"
      ]
     },
     "execution_count": 272,
     "metadata": {},
     "output_type": "execute_result"
    }
   ],
   "source": [
    "idx = user_product_data.loc[user_product_data['page_status'] == 'goods', 'product_id'].index\n",
    "product_list = user_product_data.loc[idx,:'product_id']\n",
    "\n",
    "product_df = pd.DataFrame(product_list.groupby('session')['product_id'].agg(','.join)).reset_index()\n",
    "print(product_df.shape)\n",
    "product_df.head()"
   ]
  },
  {
   "cell_type": "code",
   "execution_count": 273,
   "id": "constitutional-oklahoma",
   "metadata": {},
   "outputs": [
    {
     "data": {
      "text/html": [
       "<div>\n",
       "<style scoped>\n",
       "    .dataframe tbody tr th:only-of-type {\n",
       "        vertical-align: middle;\n",
       "    }\n",
       "\n",
       "    .dataframe tbody tr th {\n",
       "        vertical-align: top;\n",
       "    }\n",
       "\n",
       "    .dataframe thead th {\n",
       "        text-align: right;\n",
       "    }\n",
       "</style>\n",
       "<table border=\"1\" class=\"dataframe\">\n",
       "  <thead>\n",
       "    <tr style=\"text-align: right;\">\n",
       "      <th></th>\n",
       "      <th>session</th>\n",
       "      <th>page_status</th>\n",
       "      <th>product_id</th>\n",
       "    </tr>\n",
       "  </thead>\n",
       "  <tbody>\n",
       "    <tr>\n",
       "      <th>0</th>\n",
       "      <td>1000936_1</td>\n",
       "      <td>dispctg,main,dispctg,main,shop,shop,main,mypag...</td>\n",
       "      <td>1704178441,1907613048</td>\n",
       "    </tr>\n",
       "    <tr>\n",
       "      <th>1</th>\n",
       "      <td>1002205_1</td>\n",
       "      <td>dispctg,main,main,dispctg,dispctg,dispctg,shop...</td>\n",
       "      <td>NaN</td>\n",
       "    </tr>\n",
       "    <tr>\n",
       "      <th>2</th>\n",
       "      <td>1004212_1</td>\n",
       "      <td>event</td>\n",
       "      <td>NaN</td>\n",
       "    </tr>\n",
       "    <tr>\n",
       "      <th>3</th>\n",
       "      <td>1004212_10</td>\n",
       "      <td>shop</td>\n",
       "      <td>NaN</td>\n",
       "    </tr>\n",
       "    <tr>\n",
       "      <th>4</th>\n",
       "      <td>1004212_11</td>\n",
       "      <td>goods,goods,goods,goods,goods,shop,dispctg,goo...</td>\n",
       "      <td>1901214615,1903384665,1903384666,1912875310,19...</td>\n",
       "    </tr>\n",
       "  </tbody>\n",
       "</table>\n",
       "</div>"
      ],
      "text/plain": [
       "      session                                        page_status  \\\n",
       "0   1000936_1  dispctg,main,dispctg,main,shop,shop,main,mypag...   \n",
       "1   1002205_1  dispctg,main,main,dispctg,dispctg,dispctg,shop...   \n",
       "2   1004212_1                                              event   \n",
       "3  1004212_10                                               shop   \n",
       "4  1004212_11  goods,goods,goods,goods,goods,shop,dispctg,goo...   \n",
       "\n",
       "                                          product_id  \n",
       "0                              1704178441,1907613048  \n",
       "1                                                NaN  \n",
       "2                                                NaN  \n",
       "3                                                NaN  \n",
       "4  1901214615,1903384665,1903384666,1912875310,19...  "
      ]
     },
     "execution_count": 273,
     "metadata": {},
     "output_type": "execute_result"
    }
   ],
   "source": [
    "session_df = pd.merge(session_df, product_df, how = 'outer', on = 'session')\n",
    "session_df.head()"
   ]
  },
  {
   "cell_type": "code",
   "execution_count": 274,
   "id": "little-doubt",
   "metadata": {
    "scrolled": false
   },
   "outputs": [
    {
     "name": "stdout",
     "output_type": "stream",
     "text": [
      "0.09\n"
     ]
    },
    {
     "data": {
      "text/html": [
       "<div>\n",
       "<style scoped>\n",
       "    .dataframe tbody tr th:only-of-type {\n",
       "        vertical-align: middle;\n",
       "    }\n",
       "\n",
       "    .dataframe tbody tr th {\n",
       "        vertical-align: top;\n",
       "    }\n",
       "\n",
       "    .dataframe thead th {\n",
       "        text-align: right;\n",
       "    }\n",
       "</style>\n",
       "<table border=\"1\" class=\"dataframe\">\n",
       "  <thead>\n",
       "    <tr style=\"text-align: right;\">\n",
       "      <th></th>\n",
       "      <th>session</th>\n",
       "      <th>page_status</th>\n",
       "      <th>product_id</th>\n",
       "      <th>order_class</th>\n",
       "    </tr>\n",
       "  </thead>\n",
       "  <tbody>\n",
       "    <tr>\n",
       "      <th>0</th>\n",
       "      <td>1000936_1</td>\n",
       "      <td>dispctg,main,dispctg,main,shop,shop,main,mypag...</td>\n",
       "      <td>1704178441,1907613048</td>\n",
       "      <td>0</td>\n",
       "    </tr>\n",
       "    <tr>\n",
       "      <th>1</th>\n",
       "      <td>1002205_1</td>\n",
       "      <td>dispctg,main,main,dispctg,dispctg,dispctg,shop...</td>\n",
       "      <td>0</td>\n",
       "      <td>1</td>\n",
       "    </tr>\n",
       "    <tr>\n",
       "      <th>2</th>\n",
       "      <td>1004212_1</td>\n",
       "      <td>event</td>\n",
       "      <td>0</td>\n",
       "      <td>0</td>\n",
       "    </tr>\n",
       "    <tr>\n",
       "      <th>3</th>\n",
       "      <td>1004212_10</td>\n",
       "      <td>shop</td>\n",
       "      <td>0</td>\n",
       "      <td>0</td>\n",
       "    </tr>\n",
       "    <tr>\n",
       "      <th>4</th>\n",
       "      <td>1004212_11</td>\n",
       "      <td>goods,goods,goods,goods,goods,shop,dispctg,goo...</td>\n",
       "      <td>1901214615,1903384665,1903384666,1912875310,19...</td>\n",
       "      <td>0</td>\n",
       "    </tr>\n",
       "    <tr>\n",
       "      <th>...</th>\n",
       "      <td>...</td>\n",
       "      <td>...</td>\n",
       "      <td>...</td>\n",
       "      <td>...</td>\n",
       "    </tr>\n",
       "    <tr>\n",
       "      <th>178621</th>\n",
       "      <td>996160_6</td>\n",
       "      <td>event</td>\n",
       "      <td>0</td>\n",
       "      <td>0</td>\n",
       "    </tr>\n",
       "    <tr>\n",
       "      <th>178622</th>\n",
       "      <td>996160_7</td>\n",
       "      <td>goods,goods,event</td>\n",
       "      <td>1912885678,1910743357</td>\n",
       "      <td>0</td>\n",
       "    </tr>\n",
       "    <tr>\n",
       "      <th>178623</th>\n",
       "      <td>996160_8</td>\n",
       "      <td>event</td>\n",
       "      <td>0</td>\n",
       "      <td>0</td>\n",
       "    </tr>\n",
       "    <tr>\n",
       "      <th>178624</th>\n",
       "      <td>996160_9</td>\n",
       "      <td>event</td>\n",
       "      <td>0</td>\n",
       "      <td>0</td>\n",
       "    </tr>\n",
       "    <tr>\n",
       "      <th>178625</th>\n",
       "      <td>997478_1</td>\n",
       "      <td>main,shop,shop,login,login,main,mypage,mypage,...</td>\n",
       "      <td>1910778183,1911843293</td>\n",
       "      <td>0</td>\n",
       "    </tr>\n",
       "  </tbody>\n",
       "</table>\n",
       "<p>178626 rows × 4 columns</p>\n",
       "</div>"
      ],
      "text/plain": [
       "           session                                        page_status  \\\n",
       "0        1000936_1  dispctg,main,dispctg,main,shop,shop,main,mypag...   \n",
       "1        1002205_1  dispctg,main,main,dispctg,dispctg,dispctg,shop...   \n",
       "2        1004212_1                                              event   \n",
       "3       1004212_10                                               shop   \n",
       "4       1004212_11  goods,goods,goods,goods,goods,shop,dispctg,goo...   \n",
       "...            ...                                                ...   \n",
       "178621    996160_6                                              event   \n",
       "178622    996160_7                                  goods,goods,event   \n",
       "178623    996160_8                                              event   \n",
       "178624    996160_9                                              event   \n",
       "178625    997478_1  main,shop,shop,login,login,main,mypage,mypage,...   \n",
       "\n",
       "                                               product_id order_class  \n",
       "0                                   1704178441,1907613048           0  \n",
       "1                                                       0           1  \n",
       "2                                                       0           0  \n",
       "3                                                       0           0  \n",
       "4       1901214615,1903384665,1903384666,1912875310,19...           0  \n",
       "...                                                   ...         ...  \n",
       "178621                                                  0           0  \n",
       "178622                              1912885678,1910743357           0  \n",
       "178623                                                  0           0  \n",
       "178624                                                  0           0  \n",
       "178625                              1910778183,1911843293           0  \n",
       "\n",
       "[178626 rows x 4 columns]"
      ]
     },
     "execution_count": 274,
     "metadata": {},
     "output_type": "execute_result"
    }
   ],
   "source": [
    "session_df.loc[session_df[session_df['page_status'].str.contains('order')].index, 'order_class'] = '1'\n",
    "session_df.fillna('0', inplace = True)\n",
    "\n",
    "# 비율 9%\n",
    "print(round(session_df['order_class'].value_counts()[1] / session_df['order_class'].value_counts()[0],2))\n",
    "\n",
    "session_df"
   ]
  },
  {
   "cell_type": "markdown",
   "id": "conditional-collector",
   "metadata": {},
   "source": [
    "### 관찰"
   ]
  },
  {
   "cell_type": "code",
   "execution_count": 278,
   "id": "racial-least",
   "metadata": {},
   "outputs": [
    {
     "data": {
      "text/html": [
       "<div>\n",
       "<style scoped>\n",
       "    .dataframe tbody tr th:only-of-type {\n",
       "        vertical-align: middle;\n",
       "    }\n",
       "\n",
       "    .dataframe tbody tr th {\n",
       "        vertical-align: top;\n",
       "    }\n",
       "\n",
       "    .dataframe thead th {\n",
       "        text-align: right;\n",
       "    }\n",
       "</style>\n",
       "<table border=\"1\" class=\"dataframe\">\n",
       "  <thead>\n",
       "    <tr style=\"text-align: right;\">\n",
       "      <th></th>\n",
       "      <th>session</th>\n",
       "      <th>page_status</th>\n",
       "      <th>product_id</th>\n",
       "      <th>order_class</th>\n",
       "    </tr>\n",
       "  </thead>\n",
       "  <tbody>\n",
       "    <tr>\n",
       "      <th>0</th>\n",
       "      <td>1000936_1</td>\n",
       "      <td>dispctg,main,dispctg,main,shop,shop,main,mypag...</td>\n",
       "      <td>1704178441,1907613048</td>\n",
       "      <td>0</td>\n",
       "    </tr>\n",
       "    <tr>\n",
       "      <th>2</th>\n",
       "      <td>1004212_1</td>\n",
       "      <td>event</td>\n",
       "      <td>0</td>\n",
       "      <td>0</td>\n",
       "    </tr>\n",
       "    <tr>\n",
       "      <th>3</th>\n",
       "      <td>1004212_10</td>\n",
       "      <td>shop</td>\n",
       "      <td>0</td>\n",
       "      <td>0</td>\n",
       "    </tr>\n",
       "    <tr>\n",
       "      <th>4</th>\n",
       "      <td>1004212_11</td>\n",
       "      <td>goods,goods,goods,goods,goods,shop,dispctg,goo...</td>\n",
       "      <td>1901214615,1903384665,1903384666,1912875310,19...</td>\n",
       "      <td>0</td>\n",
       "    </tr>\n",
       "    <tr>\n",
       "      <th>5</th>\n",
       "      <td>1004212_12</td>\n",
       "      <td>goods,goods,main,main,goods,shop,mypage,shop,m...</td>\n",
       "      <td>1905515147,1910765432,1911805110,1808948223,19...</td>\n",
       "      <td>0</td>\n",
       "    </tr>\n",
       "    <tr>\n",
       "      <th>...</th>\n",
       "      <td>...</td>\n",
       "      <td>...</td>\n",
       "      <td>...</td>\n",
       "      <td>...</td>\n",
       "    </tr>\n",
       "    <tr>\n",
       "      <th>178621</th>\n",
       "      <td>996160_6</td>\n",
       "      <td>event</td>\n",
       "      <td>0</td>\n",
       "      <td>0</td>\n",
       "    </tr>\n",
       "    <tr>\n",
       "      <th>178622</th>\n",
       "      <td>996160_7</td>\n",
       "      <td>goods,goods,event</td>\n",
       "      <td>1912885678,1910743357</td>\n",
       "      <td>0</td>\n",
       "    </tr>\n",
       "    <tr>\n",
       "      <th>178623</th>\n",
       "      <td>996160_8</td>\n",
       "      <td>event</td>\n",
       "      <td>0</td>\n",
       "      <td>0</td>\n",
       "    </tr>\n",
       "    <tr>\n",
       "      <th>178624</th>\n",
       "      <td>996160_9</td>\n",
       "      <td>event</td>\n",
       "      <td>0</td>\n",
       "      <td>0</td>\n",
       "    </tr>\n",
       "    <tr>\n",
       "      <th>178625</th>\n",
       "      <td>997478_1</td>\n",
       "      <td>main,shop,shop,login,login,main,mypage,mypage,...</td>\n",
       "      <td>1910778183,1911843293</td>\n",
       "      <td>0</td>\n",
       "    </tr>\n",
       "  </tbody>\n",
       "</table>\n",
       "<p>163347 rows × 4 columns</p>\n",
       "</div>"
      ],
      "text/plain": [
       "           session                                        page_status  \\\n",
       "0        1000936_1  dispctg,main,dispctg,main,shop,shop,main,mypag...   \n",
       "2        1004212_1                                              event   \n",
       "3       1004212_10                                               shop   \n",
       "4       1004212_11  goods,goods,goods,goods,goods,shop,dispctg,goo...   \n",
       "5       1004212_12  goods,goods,main,main,goods,shop,mypage,shop,m...   \n",
       "...            ...                                                ...   \n",
       "178621    996160_6                                              event   \n",
       "178622    996160_7                                  goods,goods,event   \n",
       "178623    996160_8                                              event   \n",
       "178624    996160_9                                              event   \n",
       "178625    997478_1  main,shop,shop,login,login,main,mypage,mypage,...   \n",
       "\n",
       "                                               product_id order_class  \n",
       "0                                   1704178441,1907613048           0  \n",
       "2                                                       0           0  \n",
       "3                                                       0           0  \n",
       "4       1901214615,1903384665,1903384666,1912875310,19...           0  \n",
       "5       1905515147,1910765432,1911805110,1808948223,19...           0  \n",
       "...                                                   ...         ...  \n",
       "178621                                                  0           0  \n",
       "178622                              1912885678,1910743357           0  \n",
       "178623                                                  0           0  \n",
       "178624                                                  0           0  \n",
       "178625                              1910778183,1911843293           0  \n",
       "\n",
       "[163347 rows x 4 columns]"
      ]
     },
     "execution_count": 278,
     "metadata": {},
     "output_type": "execute_result"
    }
   ],
   "source": [
    "session_df[session_df['order_class'] == '0']"
   ]
  },
  {
   "cell_type": "code",
   "execution_count": 279,
   "id": "boring-introduction",
   "metadata": {},
   "outputs": [
    {
     "data": {
      "text/html": [
       "<div>\n",
       "<style scoped>\n",
       "    .dataframe tbody tr th:only-of-type {\n",
       "        vertical-align: middle;\n",
       "    }\n",
       "\n",
       "    .dataframe tbody tr th {\n",
       "        vertical-align: top;\n",
       "    }\n",
       "\n",
       "    .dataframe thead th {\n",
       "        text-align: right;\n",
       "    }\n",
       "</style>\n",
       "<table border=\"1\" class=\"dataframe\">\n",
       "  <thead>\n",
       "    <tr style=\"text-align: right;\">\n",
       "      <th></th>\n",
       "      <th>session</th>\n",
       "      <th>page_status</th>\n",
       "      <th>product_id</th>\n",
       "      <th>order_class</th>\n",
       "    </tr>\n",
       "  </thead>\n",
       "  <tbody>\n",
       "    <tr>\n",
       "      <th>1</th>\n",
       "      <td>1002205_1</td>\n",
       "      <td>dispctg,main,main,dispctg,dispctg,dispctg,shop...</td>\n",
       "      <td>0</td>\n",
       "      <td>1</td>\n",
       "    </tr>\n",
       "    <tr>\n",
       "      <th>22</th>\n",
       "      <td>1004212_28</td>\n",
       "      <td>mypage,cart,goods,goods,shop,mypage,order,good...</td>\n",
       "      <td>2001001369,2001001716,2001001716</td>\n",
       "      <td>1</td>\n",
       "    </tr>\n",
       "    <tr>\n",
       "      <th>24</th>\n",
       "      <td>1004212_3</td>\n",
       "      <td>mypage,mypage,mypage,goods,order,goods,order,g...</td>\n",
       "      <td>1609026604,1609026604,1609026604,1609026604</td>\n",
       "      <td>1</td>\n",
       "    </tr>\n",
       "    <tr>\n",
       "      <th>51</th>\n",
       "      <td>1004611_24</td>\n",
       "      <td>event,main,mypage,event,main,shop,dispctg,disp...</td>\n",
       "      <td>2001988907,1912865439,1912865581,1912865581,17...</td>\n",
       "      <td>1</td>\n",
       "    </tr>\n",
       "    <tr>\n",
       "      <th>59</th>\n",
       "      <td>1007551_1</td>\n",
       "      <td>cart,goods,goods,goods,order</td>\n",
       "      <td>1901259447,1901259398,1901259447</td>\n",
       "      <td>1</td>\n",
       "    </tr>\n",
       "    <tr>\n",
       "      <th>...</th>\n",
       "      <td>...</td>\n",
       "      <td>...</td>\n",
       "      <td>...</td>\n",
       "      <td>...</td>\n",
       "    </tr>\n",
       "    <tr>\n",
       "      <th>178484</th>\n",
       "      <td>987990_13</td>\n",
       "      <td>shop,goods,order,goods</td>\n",
       "      <td>2001978671,2001978671</td>\n",
       "      <td>1</td>\n",
       "    </tr>\n",
       "    <tr>\n",
       "      <th>178488</th>\n",
       "      <td>987990_17</td>\n",
       "      <td>order,mypage,goods,order,mypage,order,goods,shop</td>\n",
       "      <td>1712471880,2001006181</td>\n",
       "      <td>1</td>\n",
       "    </tr>\n",
       "    <tr>\n",
       "      <th>178526</th>\n",
       "      <td>988626_30</td>\n",
       "      <td>mypage,event,event,mypage,shop,order,shop,mypa...</td>\n",
       "      <td>0</td>\n",
       "      <td>1</td>\n",
       "    </tr>\n",
       "    <tr>\n",
       "      <th>178544</th>\n",
       "      <td>990950_2</td>\n",
       "      <td>goods,order,mypage,mypage,mypage,main,order,sh...</td>\n",
       "      <td>1612108191,1612108191</td>\n",
       "      <td>1</td>\n",
       "    </tr>\n",
       "    <tr>\n",
       "      <th>178553</th>\n",
       "      <td>991548_3</td>\n",
       "      <td>goods,goods,shop,mypage,event,event,event,cart...</td>\n",
       "      <td>1805740973,1911833300</td>\n",
       "      <td>1</td>\n",
       "    </tr>\n",
       "  </tbody>\n",
       "</table>\n",
       "<p>15279 rows × 4 columns</p>\n",
       "</div>"
      ],
      "text/plain": [
       "           session                                        page_status  \\\n",
       "1        1002205_1  dispctg,main,main,dispctg,dispctg,dispctg,shop...   \n",
       "22      1004212_28  mypage,cart,goods,goods,shop,mypage,order,good...   \n",
       "24       1004212_3  mypage,mypage,mypage,goods,order,goods,order,g...   \n",
       "51      1004611_24  event,main,mypage,event,main,shop,dispctg,disp...   \n",
       "59       1007551_1                       cart,goods,goods,goods,order   \n",
       "...            ...                                                ...   \n",
       "178484   987990_13                             shop,goods,order,goods   \n",
       "178488   987990_17   order,mypage,goods,order,mypage,order,goods,shop   \n",
       "178526   988626_30  mypage,event,event,mypage,shop,order,shop,mypa...   \n",
       "178544    990950_2  goods,order,mypage,mypage,mypage,main,order,sh...   \n",
       "178553    991548_3  goods,goods,shop,mypage,event,event,event,cart...   \n",
       "\n",
       "                                               product_id order_class  \n",
       "1                                                       0           1  \n",
       "22                       2001001369,2001001716,2001001716           1  \n",
       "24            1609026604,1609026604,1609026604,1609026604           1  \n",
       "51      2001988907,1912865439,1912865581,1912865581,17...           1  \n",
       "59                       1901259447,1901259398,1901259447           1  \n",
       "...                                                   ...         ...  \n",
       "178484                              2001978671,2001978671           1  \n",
       "178488                              1712471880,2001006181           1  \n",
       "178526                                                  0           1  \n",
       "178544                              1612108191,1612108191           1  \n",
       "178553                              1805740973,1911833300           1  \n",
       "\n",
       "[15279 rows x 4 columns]"
      ]
     },
     "execution_count": 279,
     "metadata": {},
     "output_type": "execute_result"
    }
   ],
   "source": [
    "session_df[session_df['order_class'] == '1']"
   ]
  },
  {
   "cell_type": "code",
   "execution_count": 267,
   "id": "descending-contrary",
   "metadata": {},
   "outputs": [
    {
     "data": {
      "text/plain": [
       "'dispctg,main,main,dispctg,dispctg,dispctg,shop,order,cart,order,cart'"
      ]
     },
     "execution_count": 267,
     "metadata": {},
     "output_type": "execute_result"
    }
   ],
   "source": [
    "temp.loc[1,'page_status'] # goods를 보지 않고 구매로 전환되었다는 것은, 이전 세션에서 cart에 담아두었다"
   ]
  },
  {
   "cell_type": "markdown",
   "id": "agreed-internet",
   "metadata": {},
   "source": [
    "- 1) feature engineering : 0) graph theory, 1) 본 product 갯수, 2) cart 여부, 3) 이전세션 영향 \n",
    "- 2) Discussion : 해당 세션에 대한 구매 확률(0~100)을 예측을 하므로써, 예측되는 높은 확률일 수록 타겟팅 프로모션 적용 가능 or 추천시스템 적용가능"
   ]
  },
  {
   "cell_type": "markdown",
   "id": "composed-surname",
   "metadata": {},
   "source": [
    "- 아래 1,2,3) 조건을 통해 각각 0,1 class로 만들어서 최종 interaction이 있도록 <> 아니면 걍 order\n",
    "- 세션에서 id를 찢어서 해당 id의 고객RFM을 확인할 수 있겠음 <> 근데 시간정보반영이 다름"
   ]
  },
  {
   "cell_type": "markdown",
   "id": "resistant-maria",
   "metadata": {},
   "source": [
    "# [작업중] "
   ]
  },
  {
   "cell_type": "code",
   "execution_count": null,
   "id": "freelance-corrections",
   "metadata": {},
   "outputs": [],
   "source": [
    "#  2. 조인 (구매여부) : 로그데이터와 구매기록데이터의 조건\n",
    "#  2.1) 1. 구매날짜(시간대) + 2. 구매자중심 +  3. 세션 내 order 페이지 존재"
   ]
  },
  {
   "cell_type": "markdown",
   "id": "incorporated-velvet",
   "metadata": {},
   "source": [
    "#### 1) cond1 : 세션 내 order가 있는가"
   ]
  },
  {
   "cell_type": "code",
   "execution_count": null,
   "id": "recreational-gibson",
   "metadata": {},
   "outputs": [],
   "source": [
    "# cond1 : 세션 내 order가 있는가\n",
    "session_df[session_df['page_status'].str.contains('order')].index\n",
    "# 공통되는 Index로 합치기\n"
   ]
  },
  {
   "cell_type": "code",
   "execution_count": null,
   "id": "interstate-southeast",
   "metadata": {},
   "outputs": [],
   "source": [
    "session_df[session_df['user_id'] "
   ]
  },
  {
   "cell_type": "markdown",
   "id": "biological-feelings",
   "metadata": {},
   "source": [
    "#### 2) ccond2 : 사용자 ID가 일치하는가"
   ]
  },
  {
   "cell_type": "code",
   "execution_count": 215,
   "id": "qualified-bullet",
   "metadata": {},
   "outputs": [],
   "source": [
    "# cond2 : 사용자 ID가 일치하는가\n",
    "session_df[session_df['page_status'].str.contains('order')].index"
   ]
  },
  {
   "cell_type": "code",
   "execution_count": 220,
   "id": "absent-messenger",
   "metadata": {
    "collapsed": true
   },
   "outputs": [
    {
     "data": {
      "text/html": [
       "<div>\n",
       "<style scoped>\n",
       "    .dataframe tbody tr th:only-of-type {\n",
       "        vertical-align: middle;\n",
       "    }\n",
       "\n",
       "    .dataframe tbody tr th {\n",
       "        vertical-align: top;\n",
       "    }\n",
       "\n",
       "    .dataframe thead th {\n",
       "        text-align: right;\n",
       "    }\n",
       "</style>\n",
       "<table border=\"1\" class=\"dataframe\">\n",
       "  <thead>\n",
       "    <tr style=\"text-align: right;\">\n",
       "      <th></th>\n",
       "      <th>session</th>\n",
       "      <th>user_id</th>\n",
       "      <th>구매매칭</th>\n",
       "      <th>page_status</th>\n",
       "      <th>product_id</th>\n",
       "      <th>timeOnPage</th>\n",
       "      <th>Datetime</th>\n",
       "      <th>Datetime_roll</th>\n",
       "      <th>time_gap</th>\n",
       "      <th>session_sort</th>\n",
       "      <th>session_length</th>\n",
       "      <th>Rank</th>\n",
       "      <th>preference</th>\n",
       "      <th>구매그룹명</th>\n",
       "      <th>구매그룹코드</th>\n",
       "      <th>실주문건수</th>\n",
       "      <th>실주문수량</th>\n",
       "      <th>총판매액(정상가)</th>\n",
       "      <th>총판매액(판매가)</th>\n",
       "      <th>배송일자</th>\n",
       "      <th>요일</th>\n",
       "      <th>주문매체명</th>\n",
       "      <th>채널명</th>\n",
       "      <th>쇼핑몰명</th>\n",
       "      <th>주문생성구분명</th>\n",
       "      <th>조직명</th>\n",
       "      <th>표준상품군명</th>\n",
       "      <th>브랜드명</th>\n",
       "      <th>컨텐츠코드</th>\n",
       "      <th>상품명</th>\n",
       "      <th>단품명</th>\n",
       "      <th>나이</th>\n",
       "      <th>성별</th>\n",
       "      <th>가입일시</th>\n",
       "      <th>임직원여부</th>\n",
       "      <th>회원유형</th>\n",
       "      <th>복지포인트 사용여부</th>\n",
       "      <th>결품여부</th>\n",
       "      <th>EMAIL동의여부</th>\n",
       "      <th>SMS동의여부</th>\n",
       "      <th>결제수단</th>\n",
       "      <th>주문금액</th>\n",
       "      <th>주문수량</th>\n",
       "      <th>정상가</th>\n",
       "      <th>판매가</th>\n",
       "      <th>할인액(합계)</th>\n",
       "      <th>실매출액</th>\n",
       "      <th>취소금액</th>\n",
       "      <th>반품금액</th>\n",
       "      <th>교환금액</th>\n",
       "      <th>복지포인트 사용금액</th>\n",
       "      <th>멤버십등급명</th>\n",
       "    </tr>\n",
       "  </thead>\n",
       "  <tbody>\n",
       "    <tr>\n",
       "      <th>0</th>\n",
       "      <td>1594821_1</td>\n",
       "      <td>1594821</td>\n",
       "      <td>01월_01일_00시</td>\n",
       "      <td>order</td>\n",
       "      <td>0</td>\n",
       "      <td>68</td>\n",
       "      <td>2020-01-01</td>\n",
       "      <td>2020-01-01 00:00:00</td>\n",
       "      <td>0 days 00:00:00</td>\n",
       "      <td>1</td>\n",
       "      <td>3</td>\n",
       "      <td>1.0</td>\n",
       "      <td>1.971014</td>\n",
       "      <td>NaN</td>\n",
       "      <td>NaN</td>\n",
       "      <td>NaN</td>\n",
       "      <td>NaN</td>\n",
       "      <td>NaN</td>\n",
       "      <td>NaN</td>\n",
       "      <td>NaN</td>\n",
       "      <td>NaN</td>\n",
       "      <td>NaN</td>\n",
       "      <td>NaN</td>\n",
       "      <td>NaN</td>\n",
       "      <td>NaN</td>\n",
       "      <td>NaN</td>\n",
       "      <td>NaN</td>\n",
       "      <td>NaN</td>\n",
       "      <td>NaN</td>\n",
       "      <td>NaN</td>\n",
       "      <td>NaN</td>\n",
       "      <td>NaN</td>\n",
       "      <td>NaN</td>\n",
       "      <td>NaN</td>\n",
       "      <td>NaN</td>\n",
       "      <td>NaN</td>\n",
       "      <td>NaN</td>\n",
       "      <td>NaN</td>\n",
       "      <td>NaN</td>\n",
       "      <td>NaN</td>\n",
       "      <td>NaN</td>\n",
       "      <td>NaN</td>\n",
       "      <td>NaN</td>\n",
       "      <td>NaN</td>\n",
       "      <td>NaN</td>\n",
       "      <td>NaN</td>\n",
       "      <td>NaN</td>\n",
       "      <td>NaN</td>\n",
       "      <td>NaN</td>\n",
       "      <td>NaN</td>\n",
       "      <td>NaN</td>\n",
       "      <td>NaN</td>\n",
       "    </tr>\n",
       "    <tr>\n",
       "      <th>1</th>\n",
       "      <td>1594821_1</td>\n",
       "      <td>1594821</td>\n",
       "      <td>01월_01일_00시</td>\n",
       "      <td>cart</td>\n",
       "      <td>0</td>\n",
       "      <td>20</td>\n",
       "      <td>2020-01-01</td>\n",
       "      <td>2020-01-01 00:01:00</td>\n",
       "      <td>0 days 00:01:00</td>\n",
       "      <td>1</td>\n",
       "      <td>3</td>\n",
       "      <td>1.0</td>\n",
       "      <td>1.904762</td>\n",
       "      <td>NaN</td>\n",
       "      <td>NaN</td>\n",
       "      <td>NaN</td>\n",
       "      <td>NaN</td>\n",
       "      <td>NaN</td>\n",
       "      <td>NaN</td>\n",
       "      <td>NaN</td>\n",
       "      <td>NaN</td>\n",
       "      <td>NaN</td>\n",
       "      <td>NaN</td>\n",
       "      <td>NaN</td>\n",
       "      <td>NaN</td>\n",
       "      <td>NaN</td>\n",
       "      <td>NaN</td>\n",
       "      <td>NaN</td>\n",
       "      <td>NaN</td>\n",
       "      <td>NaN</td>\n",
       "      <td>NaN</td>\n",
       "      <td>NaN</td>\n",
       "      <td>NaN</td>\n",
       "      <td>NaN</td>\n",
       "      <td>NaN</td>\n",
       "      <td>NaN</td>\n",
       "      <td>NaN</td>\n",
       "      <td>NaN</td>\n",
       "      <td>NaN</td>\n",
       "      <td>NaN</td>\n",
       "      <td>NaN</td>\n",
       "      <td>NaN</td>\n",
       "      <td>NaN</td>\n",
       "      <td>NaN</td>\n",
       "      <td>NaN</td>\n",
       "      <td>NaN</td>\n",
       "      <td>NaN</td>\n",
       "      <td>NaN</td>\n",
       "      <td>NaN</td>\n",
       "      <td>NaN</td>\n",
       "      <td>NaN</td>\n",
       "      <td>NaN</td>\n",
       "    </tr>\n",
       "    <tr>\n",
       "      <th>2</th>\n",
       "      <td>2786412_1</td>\n",
       "      <td>2786412</td>\n",
       "      <td>01월_01일_00시</td>\n",
       "      <td>goods</td>\n",
       "      <td>1808953110</td>\n",
       "      <td>57</td>\n",
       "      <td>2020-01-01</td>\n",
       "      <td>2020-01-01 00:00:00</td>\n",
       "      <td>0 days 00:00:00</td>\n",
       "      <td>1</td>\n",
       "      <td>10</td>\n",
       "      <td>1.0</td>\n",
       "      <td>1.965517</td>\n",
       "      <td>NaN</td>\n",
       "      <td>NaN</td>\n",
       "      <td>NaN</td>\n",
       "      <td>NaN</td>\n",
       "      <td>NaN</td>\n",
       "      <td>NaN</td>\n",
       "      <td>NaN</td>\n",
       "      <td>NaN</td>\n",
       "      <td>NaN</td>\n",
       "      <td>NaN</td>\n",
       "      <td>NaN</td>\n",
       "      <td>NaN</td>\n",
       "      <td>NaN</td>\n",
       "      <td>NaN</td>\n",
       "      <td>NaN</td>\n",
       "      <td>NaN</td>\n",
       "      <td>NaN</td>\n",
       "      <td>NaN</td>\n",
       "      <td>NaN</td>\n",
       "      <td>NaN</td>\n",
       "      <td>NaN</td>\n",
       "      <td>NaN</td>\n",
       "      <td>NaN</td>\n",
       "      <td>NaN</td>\n",
       "      <td>NaN</td>\n",
       "      <td>NaN</td>\n",
       "      <td>NaN</td>\n",
       "      <td>NaN</td>\n",
       "      <td>NaN</td>\n",
       "      <td>NaN</td>\n",
       "      <td>NaN</td>\n",
       "      <td>NaN</td>\n",
       "      <td>NaN</td>\n",
       "      <td>NaN</td>\n",
       "      <td>NaN</td>\n",
       "      <td>NaN</td>\n",
       "      <td>NaN</td>\n",
       "      <td>NaN</td>\n",
       "      <td>NaN</td>\n",
       "    </tr>\n",
       "    <tr>\n",
       "      <th>3</th>\n",
       "      <td>2786412_1</td>\n",
       "      <td>2786412</td>\n",
       "      <td>01월_01일_00시</td>\n",
       "      <td>goods</td>\n",
       "      <td>1902302138</td>\n",
       "      <td>244</td>\n",
       "      <td>2020-01-01</td>\n",
       "      <td>2020-01-01 00:05:00</td>\n",
       "      <td>0 days 00:05:00</td>\n",
       "      <td>1</td>\n",
       "      <td>10</td>\n",
       "      <td>1.0</td>\n",
       "      <td>1.991837</td>\n",
       "      <td>NaN</td>\n",
       "      <td>NaN</td>\n",
       "      <td>NaN</td>\n",
       "      <td>NaN</td>\n",
       "      <td>NaN</td>\n",
       "      <td>NaN</td>\n",
       "      <td>NaN</td>\n",
       "      <td>NaN</td>\n",
       "      <td>NaN</td>\n",
       "      <td>NaN</td>\n",
       "      <td>NaN</td>\n",
       "      <td>NaN</td>\n",
       "      <td>NaN</td>\n",
       "      <td>NaN</td>\n",
       "      <td>NaN</td>\n",
       "      <td>NaN</td>\n",
       "      <td>NaN</td>\n",
       "      <td>NaN</td>\n",
       "      <td>NaN</td>\n",
       "      <td>NaN</td>\n",
       "      <td>NaN</td>\n",
       "      <td>NaN</td>\n",
       "      <td>NaN</td>\n",
       "      <td>NaN</td>\n",
       "      <td>NaN</td>\n",
       "      <td>NaN</td>\n",
       "      <td>NaN</td>\n",
       "      <td>NaN</td>\n",
       "      <td>NaN</td>\n",
       "      <td>NaN</td>\n",
       "      <td>NaN</td>\n",
       "      <td>NaN</td>\n",
       "      <td>NaN</td>\n",
       "      <td>NaN</td>\n",
       "      <td>NaN</td>\n",
       "      <td>NaN</td>\n",
       "      <td>NaN</td>\n",
       "      <td>NaN</td>\n",
       "      <td>NaN</td>\n",
       "    </tr>\n",
       "    <tr>\n",
       "      <th>4</th>\n",
       "      <td>3230738_1</td>\n",
       "      <td>3230738</td>\n",
       "      <td>01월_01일_00시</td>\n",
       "      <td>goods</td>\n",
       "      <td>1810065869</td>\n",
       "      <td>90</td>\n",
       "      <td>2020-01-01</td>\n",
       "      <td>2020-01-01 00:01:00</td>\n",
       "      <td>0 days 00:01:00</td>\n",
       "      <td>1</td>\n",
       "      <td>2</td>\n",
       "      <td>1.0</td>\n",
       "      <td>1.978022</td>\n",
       "      <td>NaN</td>\n",
       "      <td>NaN</td>\n",
       "      <td>NaN</td>\n",
       "      <td>NaN</td>\n",
       "      <td>NaN</td>\n",
       "      <td>NaN</td>\n",
       "      <td>NaN</td>\n",
       "      <td>NaN</td>\n",
       "      <td>NaN</td>\n",
       "      <td>NaN</td>\n",
       "      <td>NaN</td>\n",
       "      <td>NaN</td>\n",
       "      <td>NaN</td>\n",
       "      <td>NaN</td>\n",
       "      <td>NaN</td>\n",
       "      <td>NaN</td>\n",
       "      <td>NaN</td>\n",
       "      <td>NaN</td>\n",
       "      <td>NaN</td>\n",
       "      <td>NaN</td>\n",
       "      <td>NaN</td>\n",
       "      <td>NaN</td>\n",
       "      <td>NaN</td>\n",
       "      <td>NaN</td>\n",
       "      <td>NaN</td>\n",
       "      <td>NaN</td>\n",
       "      <td>NaN</td>\n",
       "      <td>NaN</td>\n",
       "      <td>NaN</td>\n",
       "      <td>NaN</td>\n",
       "      <td>NaN</td>\n",
       "      <td>NaN</td>\n",
       "      <td>NaN</td>\n",
       "      <td>NaN</td>\n",
       "      <td>NaN</td>\n",
       "      <td>NaN</td>\n",
       "      <td>NaN</td>\n",
       "      <td>NaN</td>\n",
       "      <td>NaN</td>\n",
       "    </tr>\n",
       "  </tbody>\n",
       "</table>\n",
       "</div>"
      ],
      "text/plain": [
       "     session  user_id         구매매칭 page_status  product_id  timeOnPage  \\\n",
       "0  1594821_1  1594821  01월_01일_00시       order           0          68   \n",
       "1  1594821_1  1594821  01월_01일_00시        cart           0          20   \n",
       "2  2786412_1  2786412  01월_01일_00시       goods  1808953110          57   \n",
       "3  2786412_1  2786412  01월_01일_00시       goods  1902302138         244   \n",
       "4  3230738_1  3230738  01월_01일_00시       goods  1810065869          90   \n",
       "\n",
       "    Datetime        Datetime_roll         time_gap  session_sort  \\\n",
       "0 2020-01-01  2020-01-01 00:00:00  0 days 00:00:00             1   \n",
       "1 2020-01-01  2020-01-01 00:01:00  0 days 00:01:00             1   \n",
       "2 2020-01-01  2020-01-01 00:00:00  0 days 00:00:00             1   \n",
       "3 2020-01-01  2020-01-01 00:05:00  0 days 00:05:00             1   \n",
       "4 2020-01-01  2020-01-01 00:01:00  0 days 00:01:00             1   \n",
       "\n",
       "   session_length  Rank  preference 구매그룹명 구매그룹코드  실주문건수  실주문수량  총판매액(정상가)  \\\n",
       "0               3   1.0    1.971014   NaN    NaN    NaN    NaN        NaN   \n",
       "1               3   1.0    1.904762   NaN    NaN    NaN    NaN        NaN   \n",
       "2              10   1.0    1.965517   NaN    NaN    NaN    NaN        NaN   \n",
       "3              10   1.0    1.991837   NaN    NaN    NaN    NaN        NaN   \n",
       "4               2   1.0    1.978022   NaN    NaN    NaN    NaN        NaN   \n",
       "\n",
       "   총판매액(판매가)  배송일자  요일 주문매체명  채널명 쇼핑몰명 주문생성구분명  조직명 표준상품군명 브랜드명 컨텐츠코드  상품명  \\\n",
       "0        NaN   NaN NaN   NaN  NaN  NaN     NaN  NaN    NaN  NaN   NaN  NaN   \n",
       "1        NaN   NaN NaN   NaN  NaN  NaN     NaN  NaN    NaN  NaN   NaN  NaN   \n",
       "2        NaN   NaN NaN   NaN  NaN  NaN     NaN  NaN    NaN  NaN   NaN  NaN   \n",
       "3        NaN   NaN NaN   NaN  NaN  NaN     NaN  NaN    NaN  NaN   NaN  NaN   \n",
       "4        NaN   NaN NaN   NaN  NaN  NaN     NaN  NaN    NaN  NaN   NaN  NaN   \n",
       "\n",
       "   단품명  나이   성별 가입일시 임직원여부 회원유형 복지포인트 사용여부 결품여부 EMAIL동의여부 SMS동의여부 결제수단  주문금액  \\\n",
       "0  NaN NaN  NaN  NaN   NaN  NaN        NaN  NaN       NaN     NaN  NaN   NaN   \n",
       "1  NaN NaN  NaN  NaN   NaN  NaN        NaN  NaN       NaN     NaN  NaN   NaN   \n",
       "2  NaN NaN  NaN  NaN   NaN  NaN        NaN  NaN       NaN     NaN  NaN   NaN   \n",
       "3  NaN NaN  NaN  NaN   NaN  NaN        NaN  NaN       NaN     NaN  NaN   NaN   \n",
       "4  NaN NaN  NaN  NaN   NaN  NaN        NaN  NaN       NaN     NaN  NaN   NaN   \n",
       "\n",
       "   주문수량  정상가  판매가  할인액(합계)  실매출액  취소금액  반품금액  교환금액  복지포인트 사용금액 멤버십등급명  \n",
       "0   NaN  NaN  NaN      NaN   NaN   NaN   NaN   NaN         NaN    NaN  \n",
       "1   NaN  NaN  NaN      NaN   NaN   NaN   NaN   NaN         NaN    NaN  \n",
       "2   NaN  NaN  NaN      NaN   NaN   NaN   NaN   NaN         NaN    NaN  \n",
       "3   NaN  NaN  NaN      NaN   NaN   NaN   NaN   NaN         NaN    NaN  \n",
       "4   NaN  NaN  NaN      NaN   NaN   NaN   NaN   NaN         NaN    NaN  "
      ]
     },
     "execution_count": 220,
     "metadata": {},
     "output_type": "execute_result"
    }
   ],
   "source": [
    "pd.merge(log_df, pur_df, how = 'left', on =['user_id', '구매매칭', 'product_id']).head()"
   ]
  },
  {
   "cell_type": "markdown",
   "id": "ancient-trout",
   "metadata": {},
   "source": [
    "#### 3) cond3  세션 내 order 페이지의 시간 "
   ]
  },
  {
   "cell_type": "code",
   "execution_count": null,
   "id": "precious-quarter",
   "metadata": {},
   "outputs": [],
   "source": [
    "# cond3  세션 내 order 페이지의 시간 \n"
   ]
  },
  {
   "cell_type": "markdown",
   "id": "unlikely-conclusion",
   "metadata": {},
   "source": [
    "#### 4) 조건문 병합"
   ]
  },
  {
   "cell_type": "code",
   "execution_count": 20,
   "id": "julian-sandwich",
   "metadata": {},
   "outputs": [
    {
     "name": "stdout",
     "output_type": "stream",
     "text": [
      "False\n"
     ]
    }
   ],
   "source": [
    "cond1 = (True)  # 세션 내 order 존재 \n",
    "cond2 = (True)  # 고객 ID + user_code <> product_id는 정확히 뭘샀는지 알 수 있을까? 글세...\n",
    "cond3 = (False) # 결제시간 + 구매매칭\n",
    "\n",
    "if cond1 and cond2 and cond3 :\n",
    "    print('True') # 구매 = 1 \n",
    "else:\n",
    "    print('False') # 구매 = 0 "
   ]
  },
  {
   "cell_type": "code",
   "execution_count": null,
   "id": "active-copper",
   "metadata": {},
   "outputs": [],
   "source": [
    "1. page_status를 리스트[]로 만들어 놓기 : 그 안에 order가 있나?\n",
    "2. preference는 goods가 있는 것만 합산! 평균!?"
   ]
  },
  {
   "cell_type": "code",
   "execution_count": null,
   "id": "engaging-glory",
   "metadata": {},
   "outputs": [],
   "source": []
  },
  {
   "cell_type": "code",
   "execution_count": null,
   "id": "threaded-fireplace",
   "metadata": {},
   "outputs": [],
   "source": []
  },
  {
   "cell_type": "code",
   "execution_count": null,
   "id": "third-disabled",
   "metadata": {},
   "outputs": [],
   "source": []
  },
  {
   "cell_type": "markdown",
   "id": "relative-lease",
   "metadata": {},
   "source": [
    "## [작성중] 2.4) 구매 데이터 전처리\n",
    "- (Social Network Degree) + (RFM, 고객등급, 선호도 등) 2가지 이론으로 feature engineering"
   ]
  },
  {
   "cell_type": "code",
   "execution_count": 18,
   "id": "sunset-viewer",
   "metadata": {
    "collapsed": true
   },
   "outputs": [
    {
     "data": {
      "text/plain": [
       "<AxesSubplot:>"
      ]
     },
     "execution_count": 18,
     "metadata": {},
     "output_type": "execute_result"
    },
    {
     "data": {
      "image/png": "[encoded data removed]",
      "text/plain": [
       "<Figure size 432x288 with 1 Axes>"
      ]
     },
     "metadata": {
      "needs_background": "light"
     },
     "output_type": "display_data"
    }
   ],
   "source": [
    "purchase_data.groupby('고객 ID')['실매출액'].sum().hist(bins = 5) # 5등급화 일 때, 정규분포를 이룬다, "
   ]
  },
  {
   "cell_type": "code",
   "execution_count": 24,
   "id": "seven-principal",
   "metadata": {
    "collapsed": true
   },
   "outputs": [
    {
     "data": {
      "text/plain": [
       "<AxesSubplot:>"
      ]
     },
     "execution_count": 24,
     "metadata": {},
     "output_type": "execute_result"
    },
    {
     "data": {
      "image/png": "[encoded data removed]",
      "text/plain": [
       "<Figure size 432x288 with 1 Axes>"
      ]
     },
     "metadata": {
      "needs_background": "light"
     },
     "output_type": "display_data"
    }
   ],
   "source": [
    "purchase_data['멤버십등급명'].value_counts().plot()"
   ]
  },
  {
   "attachments": {
    "image-2.png": {
     "image/png": "[encoded data removed]"
    }
   },
   "cell_type": "markdown",
   "id": "verbal-cleaners",
   "metadata": {},
   "source": [
    "- (Graph theory) + (Customer behavior) 2가지 이론 중심 feature engineering\n",
    "- 구매 여부 : 1) 구매기록데이터(해당 구매 시간) == 2)로그데이터(그 해당 세션 시간) 일치하나? \n",
    "- 구매 동기(의도) 요인이 이전 세션에서 영향을 줬을 수도 있고, 현재 세션에서 영향을 줬을 수도 있고\n",
    "ex) 이전 세션에 한참 보다가, 오프라인 후 다음 세션에서 특정 패턴없이 바로 구매!\n",
    "- ★ 해당 세션 구매 확률(0~1의 확률) 예측(MAP 성능평가) -> 구매하거나 하지 않았어도, 다음 세션에서 해당 Product_id에 대한 프로모션 사용\n",
    "- ★ 그러기 위해서 해당 Input 데이터에 어떤 아이템을 관심있게 보았는지 Product_id를 넣기?.(Input엔 넣지않으면, 프로토타입 형식으로 썰 풀기)\n",
    "\n",
    "\n",
    "- Purpose : 현재(?) 및 다음(?) 세션에 구매를 예측 했나?, \n",
    "- 현재 세션에서 구매를 예측하는건 실시간 프로모션\n",
    "- 다음 세션에서 구매를 예측하는 것 또한 프로모션\n",
    "#################################################################################################################### \n",
    "![image-2.png](attachment:image-2.png)"
   ]
  },
  {
   "cell_type": "markdown",
   "id": "julian-deadline",
   "metadata": {},
   "source": [
    "# 3. 데이터 저장(Ing~)"
   ]
  },
  {
   "cell_type": "code",
   "execution_count": null,
   "id": "desperate-equipment",
   "metadata": {},
   "outputs": [],
   "source": [
    "time_log_data.to_csv('./data/210908_로그기록데이터.csv', index = False)\n",
    "purchase_data.to_csv('./data/210908_구매기록데이터.csv', index = False)"
   ]
  },
  {
   "cell_type": "markdown",
   "id": "declared-citizen",
   "metadata": {},
   "source": [
    "# 4. 향후 전처리 진행 공간"
   ]
  },
  {
   "cell_type": "code",
   "execution_count": 18,
   "id": "nearby-african",
   "metadata": {},
   "outputs": [],
   "source": [
    "######################################################\n",
    "#\n",
    "#  0. 정의\n",
    "#  0.1) 사용할 컬럼들 정의    (로그데이터, 구매기록 데이터)\n",
    "#  0.2) pagePath 정의하고 아닌 것들 싹 짜르기(main, dispctg, goods, login, main 등 이외 제거)\n",
    "#\n",
    "#\n",
    "#  1. 삭제\n",
    "#  1.1) 불필요한 컬럼/세션삭제 (로그데이터, 구매기록 데이터)\n",
    "#\n",
    "#\n",
    "#  2. 조인 (구매여부) : 로그데이터와 구매기록데이터의 조건\n",
    "#  2.1) 1. 구매날짜(시간대) + 2. 구매자중심 +  3. 세션 내 order 페이지 존재\n",
    "#\n",
    "#\n",
    "#  3. 전처리\n",
    "#  Graph theory + Customer Behavior 변수 생성\n",
    "#  \n",
    "#  Graph theory : 23개의 Graph metric\n",
    "#\n",
    "#  Customer Behavior : RFM, 고객선호도(시간가중치 적용 조화평균), 등급, 성별 등.\n",
    "#\n",
    "#\n",
    "######################################################"
   ]
  },
  {
   "cell_type": "markdown",
   "id": "guided-contamination",
   "metadata": {},
   "source": [
    "- 탐색적 데이터 분석 필요 : 주요 결제시간, device 유형, \n",
    "- 멀티프로세성 전처리 : import multiprocessing as mp ; mp.cpu_count() # 병렬 처리하는 법 : https://jonsyou.tistory.com/27"
   ]
  }
 ],
 "metadata": {
  "kernelspec": {
   "display_name": "Python 3",
   "language": "python",
   "name": "python3"
  },
  "language_info": {
   "codemirror_mode": {
    "name": "ipython",
    "version": 3
   },
   "file_extension": ".py",
   "mimetype": "text/x-python",
   "name": "python",
   "nbconvert_exporter": "python",
   "pygments_lexer": "ipython3",
   "version": "3.8.5"
  },
  "toc": {
   "base_numbering": 1,
   "nav_menu": {},
   "number_sections": true,
   "sideBar": true,
   "skip_h1_title": false,
   "title_cell": "Table of Contents",
   "title_sidebar": "Contents",
   "toc_cell": false,
   "toc_position": {},
   "toc_section_display": true,
   "toc_window_display": false
  }
 },
 "nbformat": 4,
 "nbformat_minor": 5
}
